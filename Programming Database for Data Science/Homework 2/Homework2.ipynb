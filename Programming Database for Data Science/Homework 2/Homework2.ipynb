{
 "cells": [
  {
   "cell_type": "markdown",
   "metadata": {},
   "source": [
    "Before you turn this problem in, make sure everything runs as expected. First, **restart the kernel** (in the menubar, select Kernel$\\rightarrow$Restart) and then **run all cells** (in the menubar, select Cell$\\rightarrow$Run All).\n",
    "\n",
    "Make sure you fill in any place that says `YOUR CODE HERE` or \"YOUR ANSWER HERE\", as well as your name and collaborators below:"
   ]
  },
  {
   "cell_type": "code",
   "execution_count": 1,
   "metadata": {},
   "outputs": [],
   "source": [
    "NAME = \"Matthew Sah\"\n",
    "COLLABORATORS = \"\" "
   ]
  },
  {
   "cell_type": "markdown",
   "metadata": {},
   "source": [
    "---"
   ]
  },
  {
   "cell_type": "markdown",
   "metadata": {
    "deletable": false,
    "editable": false,
    "nbgrader": {
     "cell_type": "markdown",
     "checksum": "9935a259e473ba66da79ce6a256f7777",
     "grade": false,
     "grade_id": "problem1",
     "locked": true,
     "schema_version": 3,
     "solution": false,
     "task": false
    }
   },
   "source": [
    "# Problem 1 (3 points)\n",
    "Write a function to calcuate the area of a triangle given the length of its three sides--a, b, and c--using these formulas: $s=(a+b+c)/2$ $A=\\sqrt{s(s-a)(s-b)(s-c)}$."
   ]
  },
  {
   "cell_type": "code",
   "execution_count": 2,
   "metadata": {},
   "outputs": [],
   "source": [
    "import math"
   ]
  },
  {
   "cell_type": "code",
   "execution_count": 3,
   "metadata": {
    "deletable": false,
    "nbgrader": {
     "cell_type": "code",
     "checksum": "2708ddd674795c5cd51092460ff6cce1",
     "grade": false,
     "grade_id": "calculate_area_triange",
     "locked": false,
     "schema_version": 3,
     "solution": true,
     "task": false
    }
   },
   "outputs": [],
   "source": [
    "def calculate_area_triange(a, b, c): \n",
    "    S = ( a + b + c ) / 2\n",
    "    A = round(float(math.sqrt(S * (S-a) * (S-b) * (S-c))), 2) \n",
    "    return A "
   ]
  },
  {
   "cell_type": "code",
   "execution_count": 4,
   "metadata": {
    "deletable": false,
    "editable": false,
    "nbgrader": {
     "cell_type": "code",
     "checksum": "6e5b9aea33acc13eb594707208560cbb",
     "grade": true,
     "grade_id": "calculate_area_triange_test",
     "locked": true,
     "points": 3,
     "schema_version": 3,
     "solution": false,
     "task": false
    }
   },
   "outputs": [],
   "source": [
    "assert calculate_area_triange(3,4,5) == 6.0\n",
    "assert calculate_area_triange(10,15,20) == 72.62\n",
    "assert calculate_area_triange(3.5,4.5,7.5) == 5.17"
   ]
  },
  {
   "cell_type": "markdown",
   "metadata": {
    "deletable": false,
    "editable": false,
    "nbgrader": {
     "cell_type": "markdown",
     "checksum": "934506e673cafbc69a753423c5161da2",
     "grade": false,
     "grade_id": "cell-1dfdd8525aec71a1",
     "locked": true,
     "schema_version": 3,
     "solution": false,
     "task": false
    }
   },
   "source": [
    "# Problem 2 (5 points)\n",
    "A certain CS professor gives 5-point quizzes that are graded on the scale 5-A, 4-B, 3-C, 2-D, 1-F, 0-5. Write a function that accepts a quiz score as an input and returns the corresponding grade. "
   ]
  },
  {
   "cell_type": "code",
   "execution_count": 5,
   "metadata": {
    "deletable": false,
    "nbgrader": {
     "cell_type": "code",
     "checksum": "53f14a7c55167434c523af31f81e3c44",
     "grade": false,
     "grade_id": "calculate_grade",
     "locked": false,
     "schema_version": 3,
     "solution": true,
     "task": false
    }
   },
   "outputs": [],
   "source": [
    "def calculate_grade_letter(score):\n",
    "    \n",
    "    if score == 0:\n",
    "        return \"F\"\n",
    "    elif score == 1:\n",
    "        return \"F\"\n",
    "    elif score == 2:\n",
    "        return \"D\"\n",
    "    elif score == 3:\n",
    "        return \"C\"\n",
    "    elif score == 4:\n",
    "        return \"B\"\n",
    "    elif score == 5:\n",
    "        return \"A\"\n",
    "    return \"F\" "
   ]
  },
  {
   "cell_type": "code",
   "execution_count": 6,
   "metadata": {
    "deletable": false,
    "editable": false,
    "nbgrader": {
     "cell_type": "code",
     "checksum": "19490a0596dafee65a3870125f852180",
     "grade": true,
     "grade_id": "calculate_grade_test",
     "locked": true,
     "points": 5,
     "schema_version": 3,
     "solution": false,
     "task": false
    }
   },
   "outputs": [],
   "source": [
    "assert calculate_grade_letter(0) == \"F\"\n",
    "assert calculate_grade_letter(1) == \"F\"\n",
    "assert calculate_grade_letter(2) == \"D\"\n",
    "assert calculate_grade_letter(3) == \"C\"\n",
    "assert calculate_grade_letter(4) == \"B\"\n",
    "assert calculate_grade_letter(5) == \"A\""
   ]
  },
  {
   "cell_type": "markdown",
   "metadata": {
    "deletable": false,
    "editable": false,
    "nbgrader": {
     "cell_type": "markdown",
     "checksum": "90608ab62574c6d48d559b3dca050918",
     "grade": false,
     "grade_id": "cell-e91b21ce71197167",
     "locked": true,
     "schema_version": 3,
     "solution": false,
     "task": false
    }
   },
   "source": [
    "# Problem 3 (5 points)\n",
    "A certain CS professor gives 100-point exams that are graded on the scale 90-100:A, 80-89:B, 70-79:C, 60-69:D, <60:F.\n",
    "Write a function that accepts an exam score as input and returns the corresponding grade. "
   ]
  },
  {
   "cell_type": "code",
   "execution_count": 7,
   "metadata": {
    "deletable": false,
    "nbgrader": {
     "cell_type": "code",
     "checksum": "c89e18a744809fe76319e77a8c9f3b65",
     "grade": false,
     "grade_id": "calculate_grade_letter2",
     "locked": false,
     "schema_version": 3,
     "solution": true,
     "task": false
    }
   },
   "outputs": [],
   "source": [
    "def calculate_grade_letter2(score):\n",
    "    \n",
    "    if score <= 100  and score >= 90:\n",
    "        return \"A\"\n",
    "    elif score <= 89 and score >= 80:\n",
    "        return \"B\"\n",
    "    elif score <= 79 and score >= 70:\n",
    "        return \"C\"\n",
    "    elif score <= 69 and score >= 60:\n",
    "        return \"D\"\n",
    "    elif score <= 59 and score >= 0 :\n",
    "        return \"F\"\n",
    "    return null\n",
    "     "
   ]
  },
  {
   "cell_type": "code",
   "execution_count": 8,
   "metadata": {
    "deletable": false,
    "editable": false,
    "nbgrader": {
     "cell_type": "code",
     "checksum": "42aa8e2a089cf0923b5366b4fd0574c3",
     "grade": true,
     "grade_id": "calculate_grade_letter2_test",
     "locked": true,
     "points": 5,
     "schema_version": 3,
     "solution": false,
     "task": false
    }
   },
   "outputs": [],
   "source": [
    "assert calculate_grade_letter2(95) == \"A\"\n",
    "assert calculate_grade_letter2(88) == \"B\"\n",
    "assert calculate_grade_letter2(73) == \"C\"\n",
    "assert calculate_grade_letter2(64) == \"D\"\n",
    "assert calculate_grade_letter2(55) == \"F\"\n"
   ]
  },
  {
   "cell_type": "markdown",
   "metadata": {
    "deletable": false,
    "editable": false,
    "nbgrader": {
     "cell_type": "markdown",
     "checksum": "9e51c44b1d7a058f2fbd626d73bd6147",
     "grade": false,
     "grade_id": "cell-7430a834d26b51a9",
     "locked": true,
     "schema_version": 3,
     "solution": false,
     "task": false
    }
   },
   "source": [
    "# Problem 4 (3 points)\n",
    "Write a function that counts the number of words in a sentence entered by the user."
   ]
  },
  {
   "cell_type": "code",
   "execution_count": 9,
   "metadata": {
    "deletable": false,
    "nbgrader": {
     "cell_type": "code",
     "checksum": "bcd6c01ca414efc9d71b27888177d551",
     "grade": false,
     "grade_id": "count_words_in_sentence",
     "locked": false,
     "schema_version": 3,
     "solution": true,
     "task": false
    }
   },
   "outputs": [],
   "source": [
    "def count_words_in_sentence(sentence): \n",
    "    return len(sentence.split()) "
   ]
  },
  {
   "cell_type": "code",
   "execution_count": 10,
   "metadata": {
    "deletable": false,
    "editable": false,
    "nbgrader": {
     "cell_type": "code",
     "checksum": "42351de577b3fb91d88746298ec69efb",
     "grade": true,
     "grade_id": "count_words_in_sentence_test",
     "locked": true,
     "points": 3,
     "schema_version": 3,
     "solution": false,
     "task": false
    }
   },
   "outputs": [],
   "source": [
    "assert count_words_in_sentence(\"This sentence has five words!\") == 5\n",
    "assert count_words_in_sentence(\"Function takes in a sentence and returns the numbers of words in the sentence\") == 14\n",
    "assert count_words_in_sentence(\"Function takes in as input three sides of a triangle, a, b, and c, calculates its area and returns the area. Round the output to two decimal places.\") == 28\n"
   ]
  },
  {
   "cell_type": "markdown",
   "metadata": {
    "deletable": false,
    "editable": false,
    "nbgrader": {
     "cell_type": "markdown",
     "checksum": "d80e209522cde7c2dfb149597d27d58b",
     "grade": false,
     "grade_id": "cell-5b926a6991e22e4b",
     "locked": true,
     "schema_version": 3,
     "solution": false,
     "task": false
    }
   },
   "source": [
    "# Problem 5 (3 points)\n",
    "Wirte a function that calculates the average word length in a sentence entered by the user."
   ]
  },
  {
   "cell_type": "code",
   "execution_count": 11,
   "metadata": {
    "deletable": false,
    "nbgrader": {
     "cell_type": "code",
     "checksum": "83927d7668892499e9da5221cceef515",
     "grade": false,
     "grade_id": "calculate_average_word_length",
     "locked": false,
     "schema_version": 3,
     "solution": true,
     "task": false
    }
   },
   "outputs": [],
   "source": [
    "def calculate_average_word_length(sentence):\n",
    "    words = sentence.split()\n",
    "    average = round(sum(len(word) for word in words) / len(words),2)\n",
    "    print(average)\n",
    "    return average "
   ]
  },
  {
   "cell_type": "code",
   "execution_count": 12,
   "metadata": {
    "deletable": false,
    "editable": false,
    "nbgrader": {
     "cell_type": "code",
     "checksum": "a90e252cecbb38f2561b083b0ff4f03b",
     "grade": true,
     "grade_id": "calculate_average_word_length_test",
     "locked": true,
     "points": 3,
     "schema_version": 3,
     "solution": false,
     "task": false
    }
   },
   "outputs": [
    {
     "name": "stdout",
     "output_type": "stream",
     "text": [
      "5.0\n",
      "4.57\n",
      "4.32\n"
     ]
    }
   ],
   "source": [
    "assert calculate_average_word_length(\"This sentence has five words!\") == 5.0\n",
    "assert calculate_average_word_length(\"Function takes in a sentence and returns the numbers of words in the sentence\") == 4.57\n",
    "assert calculate_average_word_length(\"Function takes in as input three sides of a triangle, a, b, and c, calculates its area and returns the area. Round the output to two decimal places.\") == 4.32\n"
   ]
  },
  {
   "cell_type": "markdown",
   "metadata": {
    "deletable": false,
    "editable": false,
    "nbgrader": {
     "cell_type": "markdown",
     "checksum": "adff978b0444dfe1f18f43315be6de0e",
     "grade": false,
     "grade_id": "cell-61c312d8436580a8",
     "locked": true,
     "schema_version": 3,
     "solution": false,
     "task": false
    }
   },
   "source": [
    "# Problem 6 (3 points)\n",
    "Write a function that takes in a list and modifies the list by squaring each entry."
   ]
  },
  {
   "cell_type": "code",
   "execution_count": 13,
   "metadata": {
    "deletable": false,
    "nbgrader": {
     "cell_type": "code",
     "checksum": "ebd585a9c5c0b082406f95682b58cd32",
     "grade": false,
     "grade_id": "square_each",
     "locked": false,
     "schema_version": 3,
     "solution": true,
     "task": false
    }
   },
   "outputs": [],
   "source": [
    "def square_each(nums_list):\n",
    "    returnList = []\n",
    "    for i in range(0, len(nums_list)): \n",
    "        nums_list[i] = nums_list[i] * nums_list[i] \n",
    "    return returnList "
   ]
  },
  {
   "cell_type": "code",
   "execution_count": 14,
   "metadata": {
    "deletable": false,
    "editable": false,
    "nbgrader": {
     "cell_type": "code",
     "checksum": "def7a548f38d946c8264675e957bd29d",
     "grade": true,
     "grade_id": "square_each_test",
     "locked": true,
     "points": 3,
     "schema_version": 3,
     "solution": false,
     "task": false
    }
   },
   "outputs": [],
   "source": [
    "nums_list = [1,2,3]\n",
    "square_each(nums_list)\n",
    "assert nums_list == [1, 4, 9]\n",
    "\n",
    "nums_list = [6,5,4]\n",
    "square_each(nums_list)\n",
    "assert nums_list == [36, 25, 16]\n",
    "\n",
    "\n",
    "nums_list = [2.5,3.5,4.5]\n",
    "square_each(nums_list)\n",
    "assert nums_list == [6.25, 12.25, 20.25]\n",
    "\n"
   ]
  }
 ],
 "metadata": {
  "kernelspec": {
   "display_name": "Python 3",
   "language": "python",
   "name": "python3"
  },
  "language_info": {
   "codemirror_mode": {
    "name": "ipython",
    "version": 3
   },
   "file_extension": ".py",
   "mimetype": "text/x-python",
   "name": "python",
   "nbconvert_exporter": "python",
   "pygments_lexer": "ipython3",
   "version": "3.6.8"
  }
 },
 "nbformat": 4,
 "nbformat_minor": 2
}
