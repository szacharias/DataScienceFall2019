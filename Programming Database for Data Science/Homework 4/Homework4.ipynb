{
 "cells": [
  {
   "cell_type": "markdown",
   "metadata": {},
   "source": [
    "Before you turn this problem in, make sure everything runs as expected. First, **restart the kernel** (in the menubar, select Kernel$\\rightarrow$Restart) and then **run all cells** (in the menubar, select Cell$\\rightarrow$Run All).\n",
    "\n",
    "Make sure you fill in any place that says `YOUR CODE HERE` or \"YOUR ANSWER HERE\", as well as your name and collaborators below:"
   ]
  },
  {
   "cell_type": "code",
   "execution_count": 1,
   "metadata": {},
   "outputs": [],
   "source": [
    "NAME = \"Matthew Sah\"\n",
    "COLLABORATORS = \"\""
   ]
  },
  {
   "cell_type": "markdown",
   "metadata": {},
   "source": [
    "---"
   ]
  },
  {
   "cell_type": "markdown",
   "metadata": {
    "deletable": false,
    "editable": false,
    "nbgrader": {
     "cell_type": "markdown",
     "checksum": "16e89c67bcf21969f92e7285f0e1e07b",
     "grade": false,
     "grade_id": "cell-294eaacfcd589ed9",
     "locked": true,
     "schema_version": 3,
     "solution": false,
     "task": false
    }
   },
   "source": [
    "# Problem 1 - Testing for Fibonacci Number (10 points)\n",
    "\n",
    "Develop functions to handle [Fibonacci numbers](http://mathworld.wolfram.com/FibonacciNumber.html). Try to design the quickest possible algorithm and record the time taken for the code to run.\n",
    "\n",
    "Test if a number belongs to the Fibonacci series, using `if-else` conditions. The logic of testing if a number, $n$, belongs to the Fibonacci series is: if one or both of $(5*n^2 + 4)$ or $(5*n^2 – 4)$ is a perfect square.\n",
    "\n",
    "Here is what you need to do:\n",
    "1. You will need to implement the function `fibonacciGenerator`, which takes no inputs. The function should return a Python `list` of length 25, with first 25 Fibonacci numbers.\n",
    "2. You will need to define a function `fibonacciTester`, which takes a single number as input, and returns `true` if the number belongs to the Fibonacci series, and `false` otherwise. "
   ]
  },
  {
   "cell_type": "code",
   "execution_count": 2,
   "metadata": {
    "deletable": false,
    "nbgrader": {
     "cell_type": "code",
     "checksum": "31abbac3864fa277b9b99fba6ccbc3e1",
     "grade": false,
     "grade_id": "cell-42dfa70d19792ff1",
     "locked": false,
     "schema_version": 3,
     "solution": true,
     "task": false
    }
   },
   "outputs": [
    {
     "name": "stdout",
     "output_type": "stream",
     "text": [
      "[0, 1, 1, 2, 3, 5, 8, 13, 21, 34, 55, 89, 144, 233, 377, 610, 987, 1597, 2584, 4181, 6765, 10946, 17711, 28657, 46368]\n",
      "The code took 0 seconds.\n"
     ]
    }
   ],
   "source": [
    "def fibonacciGenerator(): \n",
    "    fib_list = [0]\n",
    "    pointer = 1\n",
    "    for x in range(0 , 24):\n",
    "        if len(fib_list) <= 1:\n",
    "            fib_list.append(1)\n",
    "        else:\n",
    "            fib_list.append(fib_list[x] + fib_list[x-1])\n",
    "         \n",
    "    return(fib_list)\n",
    "    \n",
    "import time\n",
    "st = time.time()\n",
    "l = fibonacciGenerator()\n",
    "en = time.time()\n",
    "print(l)\n",
    "print(\"The code took %d seconds.\"%(en - st))  \n"
   ]
  },
  {
   "cell_type": "code",
   "execution_count": 3,
   "metadata": {
    "deletable": false,
    "editable": false,
    "nbgrader": {
     "cell_type": "code",
     "checksum": "19ef5837a6eecefdf9a6e474b7861504",
     "grade": true,
     "grade_id": "cell-0ee383f8bfb924f6",
     "locked": true,
     "points": 5,
     "schema_version": 3,
     "solution": false,
     "task": false
    }
   },
   "outputs": [],
   "source": [
    "assert fibonacciGenerator() == [0, 1, 1, 2, 3, 5, 8, 13, 21, 34, 55, 89, 144, 233, 377, 610, 987, 1597, 2584, 4181, 6765, 10946, 17711, 28657, 46368]\n"
   ]
  },
  {
   "cell_type": "code",
   "execution_count": 4,
   "metadata": {
    "deletable": false,
    "nbgrader": {
     "cell_type": "code",
     "checksum": "c009db9e089a9dc9f6c325e343dad102",
     "grade": false,
     "grade_id": "cell-4d4607e810cebe9b",
     "locked": false,
     "schema_version": 3,
     "solution": true,
     "task": false
    }
   },
   "outputs": [
    {
     "name": "stdout",
     "output_type": "stream",
     "text": [
      "True\n",
      "True\n",
      "True\n",
      "False\n",
      "True\n",
      "False\n",
      "False\n",
      "True\n",
      "False\n",
      "False\n",
      "False\n",
      "False\n",
      "True\n",
      "False\n",
      "False\n",
      "False\n",
      "False\n",
      "False\n",
      "False\n",
      "False\n",
      "The code took 0 seconds.\n"
     ]
    }
   ],
   "source": [
    "def fibonacciTester(number):\n",
    "    \n",
    "    if number >= 0: \n",
    "        import math  \n",
    "        perfectSquarePlus = (number * number * 5) + 4 \n",
    "        perfectSquareMinus = (number * number * 5) - 4 \n",
    "        perfectSquarePlusSqrt = math.sqrt(perfectSquarePlus) \n",
    "        testIntPerfectSquarePlusSqrt = perfectSquarePlusSqrt* perfectSquarePlusSqrt\n",
    "        \n",
    "        try:\n",
    "            perfectSquareMinusSqrt = math.sqrt(perfectSquareMinus) \n",
    "            testIntPerfectSquareMinusSqrt = perfectSquareMinusSqrt * perfectSquareMinusSqrt\n",
    "        except:\n",
    "            pass \n",
    "        \n",
    "        if testIntPerfectSquarePlusSqrt == perfectSquarePlus and perfectSquarePlusSqrt.is_integer() : \n",
    "            return True\n",
    "        else: \n",
    "            if  testIntPerfectSquareMinusSqrt == perfectSquareMinus and perfectSquareMinusSqrt.is_integer():\n",
    "                return True \n",
    "                    \n",
    "            return False \n",
    "    else:    \n",
    "        return False\n",
    "    \n",
    "import time\n",
    "st = time.time()\n",
    "for i in range(1,21):\n",
    "    v = fibonacciTester(i)\n",
    "    print(v)\n",
    "en = time.time()\n",
    "print(\"The code took %d seconds.\"%(en - st))    "
   ]
  },
  {
   "cell_type": "code",
   "execution_count": 5,
   "metadata": {
    "deletable": false,
    "editable": false,
    "nbgrader": {
     "cell_type": "code",
     "checksum": "7a24a8012eb0a8033a9dd75f5d0d8339",
     "grade": true,
     "grade_id": "cell-86b24d18aaf6c0b2",
     "locked": true,
     "points": 5,
     "schema_version": 3,
     "solution": false,
     "task": false
    }
   },
   "outputs": [],
   "source": [
    "assert fibonacciTester(0) == True\n",
    "assert fibonacciTester(4) == False\n",
    "assert fibonacciTester(-1) == False\n",
    "assert fibonacciTester(7.1) == False"
   ]
  },
  {
   "cell_type": "markdown",
   "metadata": {
    "deletable": false,
    "editable": false,
    "nbgrader": {
     "cell_type": "markdown",
     "checksum": "11c782fab8ee4b4db0a8a79aa52b2779",
     "grade": false,
     "grade_id": "cell-6d5bf17e8205fb00",
     "locked": true,
     "schema_version": 3,
     "solution": false,
     "task": false
    }
   },
   "source": [
    "# Problem 2 - Handling Exceptions (10 Points)\n",
    "In this problem you will read from a text file (**data_p2.txt**) included in the assignment. Please download it and store it in the same directory as this notebook. The code for reading data from the file is given below. You need to store the data and perform a simple mathematical operation on each data point. Each line is _supposed_ to contain a floating point number. But what you will observe is that some lines might have erroneous entries. You need to ignore those lines (Hint: Use `Exception` handling). \n",
    "\n",
    "The idea is to implement a function, `computeMedian()`, which reads in a file and computes the median of the numbers and returns the output. You may use the inbuilt function `sort` when computing the median.\n",
    "\n",
    "_DO NOT USE ANY INBUILT OR OTHER FUNCTION TO DIRECTLY COMPUTE MEDIAN_"
   ]
  },
  {
   "cell_type": "code",
   "execution_count": 6,
   "metadata": {
    "deletable": false,
    "nbgrader": {
     "cell_type": "code",
     "checksum": "eff0c59ab87b918122d2ef3949c9a426",
     "grade": false,
     "grade_id": "cell-a419fd9556586435",
     "locked": false,
     "schema_version": 3,
     "solution": true,
     "task": false
    }
   },
   "outputs": [],
   "source": [
    "# Reading from a file. The following code just reads in every line in a text file without doing anything with it.\n",
    "# You can use the code in your solution. DO NOT CALL this function in your implementation.\n",
    "def dummyFileReader():\n",
    "    with open('data_p2.txt','r') as f: #we open the file in 'read' mode. The 'with' clause is similar to 'finally' clause\n",
    "        for line in f: #iterate over the file line by line\n",
    "            s = line.strip() #strip() removes the endline character at the end of the line. Line is of type 'str'\n",
    "            \n",
    "            \n",
    "            \n",
    "def computeMedian():    \n",
    "    full_list = []\n",
    "    with open('data_p2.txt','r') as f: #we open the file in 'read' mode. The 'with' clause is similar to 'finally' clause\n",
    "        for line in f: #iterate over the file line by line\n",
    "            s = line.strip() #strip() removes the endline character at the end of the line. Line is of type 'str'\n",
    "            try:\n",
    "                full_list.append(float(s))\n",
    "            except:\n",
    "                pass\n",
    "                #print(\"value error\" , s) \n",
    "    full_list_sorted = sorted(full_list)   \n",
    "    if len(full_list_sorted)%2 == 0 :\n",
    "        final_answer = (full_list_sorted[int(len(full_list_sorted)/2)] + full_list_sorted[int(len(full_list_sorted)/2)+1])/2\n",
    "        return final_answer\n",
    "    else : \n",
    "        return full_list_sorted[int(len(full_list_sorted)/2-0.5)]\n",
    "\n",
    "    "
   ]
  },
  {
   "cell_type": "code",
   "execution_count": 7,
   "metadata": {
    "deletable": false,
    "editable": false,
    "nbgrader": {
     "cell_type": "code",
     "checksum": "0277d80d52f29f14217498e26c9bbeb4",
     "grade": true,
     "grade_id": "cell-a5072a0203f9b9eb",
     "locked": true,
     "points": 10,
     "schema_version": 3,
     "solution": false,
     "task": false
    }
   },
   "outputs": [],
   "source": [
    "assert computeMedian() == 0.499675"
   ]
  },
  {
   "cell_type": "markdown",
   "metadata": {
    "deletable": false,
    "editable": false,
    "nbgrader": {
     "cell_type": "markdown",
     "checksum": "a48fa6f7d720b316871f2edc8124af38",
     "grade": false,
     "grade_id": "cell-d9444a1f5223d816",
     "locked": true,
     "schema_version": 3,
     "solution": false,
     "task": false
    }
   },
   "source": [
    "# Problem 3 - Benchmarking Dictionary Performance (10 Points)\n",
    "We want to check the peformance of the Python inbuilt `del` routine for dropping elements from a dictionary. The question that we want answer for is: \n",
    "_Does the time required to delete an element from a Python dictionary depend on the size of the dictionary and on the location of the target element?_\n",
    "\n",
    "For this experiment, we want to write a function `monitorTime()`, with one parameter input, $n$, that can:\n",
    "\n",
    "    In each step of the experiment do the following: \n",
    "        - Create a dictionary of integers from 1 to N, with your own desired keys. \n",
    "        - Within a loop, delete the $i^{th}$ element. Measure the time taken to delete the element (Hint: use the `time` package in Python).\n",
    "    \n",
    "    And return the measured time in a list.\n",
    "\n",
    "Conduct the above experiment for $N = 1,000,000$ and $i$ ranging from $1$ to $1,000,000$ in steps of $10,000$. Make sure that you are recreating the Python dictionary every time. Save the times in a list (let us name it `timeMillion`).\n",
    "\n",
    "Repeat the above experiment, but set $N = 10,000,000$. This time, vary $i$ from $1$ to $10,000,000$ in steps of $100,000$. Save the times for this experiment in another list, say, `time10Million`.\n",
    "\n",
    "Plot the two lists using the `matplotlib.pyplot` package. See below for a sample code. You can plot both lists in the same chart to compare.\n",
    "\n",
    "Using the plots, answer the following (create a markup cell after your code cell(s) and enter your responses):\n",
    "1. Does the cost of deleting an element depend on the dictionary size?\n",
    "2. Does the cost of deleting an element depend on the location of the deleted element?"
   ]
  },
  {
   "cell_type": "code",
   "execution_count": 8,
   "metadata": {
    "deletable": false,
    "editable": false,
    "nbgrader": {
     "cell_type": "code",
     "checksum": "7984651efdbc471e90ec394c809e0686",
     "grade": false,
     "grade_id": "cell-5850a2829f9816bc",
     "locked": true,
     "schema_version": 3,
     "solution": false,
     "task": false
    }
   },
   "outputs": [
    {
     "data": {
      "text/plain": [
       "[<matplotlib.lines.Line2D at 0x7ff8b25196d8>]"
      ]
     },
     "execution_count": 8,
     "metadata": {},
     "output_type": "execute_result"
    },
    {
     "data": {
      "image/png": "[encoded data removed]",
      "text/plain": [
       "<Figure size 432x288 with 1 Axes>"
      ]
     },
     "metadata": {
      "needs_background": "light"
     },
     "output_type": "display_data"
    }
   ],
   "source": [
    "# This cell is only for demonstration purposes, you can reuse parts of this code to create your own plots\n",
    "# Using matplotlib for plotting\n",
    "import matplotlib.pyplot as plt\n",
    "%matplotlib inline \n",
    "# above line is needed to make sure that the plots are displayed in the notebook.\n",
    "\n",
    "#generate some dummy data\n",
    "x = list(range(0, 20)) # generate a list\n",
    "y = [x1**2+2*x1 for x1 in x] # create a new list using the original list. Note the Pythonic inline creation of lists.\n",
    "y1 = [x1**2.3 for x1 in x]\n",
    "plt.plot(x,y)\n",
    "plt.plot(x,y1)"
   ]
  },
  {
   "cell_type": "code",
   "execution_count": 9,
   "metadata": {
    "deletable": false,
    "nbgrader": {
     "cell_type": "code",
     "checksum": "f5a74d6c407fe74373ddc983e421d0c9",
     "grade": false,
     "grade_id": "cell-2220c7af0b65826d",
     "locked": false,
     "schema_version": 3,
     "solution": true,
     "task": false
    }
   },
   "outputs": [],
   "source": [
    "import time\n",
    "def monitorTime(N):\n",
    "    steps = N / 100\n",
    "    steps_pointer = 1 \n",
    "    timeMillion = []\n",
    "    \n",
    "    #1009\n",
    "    del_recover_dict = N + 1\n",
    "    \n",
    "    \n",
    "    test_dictionary = {}\n",
    "    for x in range(0, N):\n",
    "        test_dictionary[x]= x\n",
    "      \n",
    "    while( steps_pointer != N):\n",
    "        \n",
    "        # Create Dictionary\n",
    "        #test_dictionary = {}\n",
    "\n",
    "        st = time.time()\n",
    "        del test_dictionary[steps_pointer]\n",
    "        en = time.time()\n",
    "        \n",
    "        test_dictionary[del_recover_dict] = del_recover_dict\n",
    "        del_recover_dict += 1\n",
    "        \n",
    "        #timeMillion[\"Pointer \" + str(steps_pointer)] = en - st\n",
    "        timeMillion.append(en - st)\n",
    "            \n",
    "        if steps_pointer == 1:\n",
    "            steps_pointer = steps\n",
    "        else:\n",
    "            steps_pointer += steps\n",
    "    #print(timeMillion)\n",
    "    return(timeMillion)\n",
    "    \n",
    "time10Million=monitorTime(10000000)\n",
    "timeMillion=monitorTime(1000000)"
   ]
  },
  {
   "cell_type": "code",
   "execution_count": 10,
   "metadata": {
    "deletable": false,
    "editable": false,
    "nbgrader": {
     "cell_type": "code",
     "checksum": "97a0fe660d2043309b1637c2fec99096",
     "grade": true,
     "grade_id": "cell-dc4b7724b0cb8035",
     "locked": true,
     "points": 5,
     "schema_version": 3,
     "solution": false,
     "task": false
    },
    "scrolled": false
   },
   "outputs": [],
   "source": [
    "assert len(monitorTime(1000000)) == 100\n",
    "assert len(monitorTime(10000000)) == 100"
   ]
  },
  {
   "cell_type": "markdown",
   "metadata": {
    "deletable": false,
    "editable": false,
    "nbgrader": {
     "cell_type": "markdown",
     "checksum": "2966cee5483d2c955c406630bc00499d",
     "grade": false,
     "grade_id": "cell-55be63f229bbbfe7",
     "locked": true,
     "points": 3,
     "schema_version": 3,
     "solution": false,
     "task": true
    }
   },
   "source": [
    "### 1. Plot your monitored time lists"
   ]
  },
  {
   "cell_type": "code",
   "execution_count": 11,
   "metadata": {},
   "outputs": [
    {
     "data": {
      "text/plain": [
       "[<matplotlib.lines.Line2D at 0x7ff8b24003c8>]"
      ]
     },
     "execution_count": 11,
     "metadata": {},
     "output_type": "execute_result"
    },
    {
     "data": {
      "image/png": "[encoded data removed]",
      "text/plain": [
       "<Figure size 432x288 with 1 Axes>"
      ]
     },
     "metadata": {
      "needs_background": "light"
     },
     "output_type": "display_data"
    }
   ],
   "source": [
    "import matplotlib.pyplot as plt\n",
    "%matplotlib inline \n",
    "plt.plot(time10Million)\n",
    "plt.plot(timeMillion)"
   ]
  },
  {
   "cell_type": "markdown",
   "metadata": {
    "deletable": false,
    "nbgrader": {
     "cell_type": "markdown",
     "checksum": "cd0add1d0ceddaa822ab1937e9d2fa43",
     "grade": true,
     "grade_id": "cell-b2fa6514d26fe50a",
     "locked": false,
     "points": 2,
     "schema_version": 3,
     "solution": true,
     "task": false
    }
   },
   "source": [
    "YOUR ANSWER HERE\n",
    "1. Does the cost of deleting an element depend on the dictionary size?\n",
    "    No, the time does not depend on the dictionary size\n",
    "2. Does the cost of deleting an element depend on the location of the deleted element? \n",
    "    No, it will not depend on the location"
   ]
  },
  {
   "cell_type": "markdown",
   "metadata": {
    "deletable": false,
    "editable": false,
    "nbgrader": {
     "cell_type": "markdown",
     "checksum": "daaa386d3647976b6323c8e0b0f2534e",
     "grade": false,
     "grade_id": "cell-526b49e5fc1b50df",
     "locked": true,
     "schema_version": 3,
     "solution": false,
     "task": false
    }
   },
   "source": [
    "# Problem 4 - The Two Envelopes Problem (20 Points)\n",
    "The Two Envelopes problem is an interesting decision theory problem.\n",
    "\n",
    "> Consider that you are given two indistinguishable envelopes, each containing money, one contains twice as much as the other. You may pick one envelope and keep the money it contains. Having chosen an envelope at will, but before inspecting it, you are given the chance to switch envelopes. Should you switch?\n",
    "\n",
    "> The game is this: \"stick\" or \"switch\"; It seems obvious that there is no point in switching envelopes as the situation is symmetric. However, because you stand to gain twice as much money if you switch while risking only a loss of half of what you currently have, it is possible to argue that it is more beneficial to switch. The problem is to show what is wrong with this argument.\n",
    "\n",
    "**Two Envelopes problem**: Implement a function, called `simulateProblem()`, that does the game simulation for the two envelopes problem. Run the simulation 1000 times to figure out the empirical (observed) probability of gaining more money when switching and gaining more money when sticking to the original choice. Each simulation operates as follows:\n",
    "1. First, randomly pick an envelopes configuration out of the two possible configurations, $(A,2A)$ or $(2A,A)$. In the first configuration, the second envelope has twice the money and in the second configuration, the first envelope has twice the money.\n",
    "2. Next, randomly pick one of the two envelopes. \n",
    "3. Finally, randomly choose to either stick or switch. The program checks if you won (the envelope that picked has more money) or not (the envelope that picked has less money). In case of winning, record if the winning was because of _sticking_ or _switching_.\n",
    "\n",
    "You can perform the _random_ choice as follows, using the `np.random.randint()` method.\n",
    "```python\n",
    "import numpy as np\n",
    "print(np.random.randint(2))\n",
    "```\n",
    "The `simulateProblem()` function takes no arguments and returns two values, first is a boolean output which is `True` if you win and `False` if you lose. In case of a win, the second output is `True` if the win was due to _sticking_ or the lose was due to _switching_ and `False` if the win was due to _switching_ or the lose was due to _sticking_.\n",
    "\n",
    "Once the method `simulateProblem()` that does the above steps and returns \"sticking\",or \"switching\", depending on the win/loss scenario, run the method 1000 times and count the number of times the win was due to _sticking_ to the pick in Step 2, and number of times the win was due to _switching_ the envelope."
   ]
  },
  {
   "cell_type": "code",
   "execution_count": 12,
   "metadata": {
    "deletable": false,
    "nbgrader": {
     "cell_type": "code",
     "checksum": "a00817ca91f400132c2438959b3bafc9",
     "grade": false,
     "grade_id": "cell-170a92182f1bd556",
     "locked": false,
     "schema_version": 3,
     "solution": true,
     "task": false
    }
   },
   "outputs": [],
   "source": [
    "import numpy as np\n",
    "import math\n",
    "def simulateProblem(): \n",
    "    # Return two boolean values,  first is win/lose, second is switch or no switch\n",
    "    #because you stand to gain twice as much money \n",
    "    #if you switch while risking only a loss of half of what you currently have, \n",
    "    #it is possible to argue that it is more beneficial to switch. \n",
    "    #The problem is to show what is wrong with this argument.\n",
    "    correct_answer = np.random.randint(2) \n",
    "    \n",
    "    my_answer = np.random.randint(2) \n",
    "    \n",
    "    do_switch = np.random.randint(2) \n",
    "    \n",
    "    # swtich answer\n",
    "    if do_switch == 1:\n",
    "        my_answer = abs(my_answer - 1) \n",
    "        if my_answer == correct_answer:\n",
    "            return True, True\n",
    "        else:\n",
    "            return False, True\n",
    "    else:\n",
    "        if my_answer == correct_answer:\n",
    "            return True, False\n",
    "        else:\n",
    "            return False, False  "
   ]
  },
  {
   "cell_type": "code",
   "execution_count": 13,
   "metadata": {
    "deletable": false,
    "editable": false,
    "nbgrader": {
     "cell_type": "code",
     "checksum": "9293fa9217fd9f78ecc7289d9ee71c63",
     "grade": true,
     "grade_id": "cell-d307ddac8ccf9503",
     "locked": true,
     "points": 8,
     "schema_version": 3,
     "solution": false,
     "task": false
    }
   },
   "outputs": [],
   "source": [
    "assert type(simulateProblem()[0]) == bool\n",
    "assert type(simulateProblem()[1]) == bool"
   ]
  },
  {
   "cell_type": "code",
   "execution_count": 14,
   "metadata": {
    "deletable": false,
    "nbgrader": {
     "cell_type": "code",
     "checksum": "1767326aa2d5736d4003a0cb332fbfd2",
     "grade": false,
     "grade_id": "cell-d540e69cd7d07c9b",
     "locked": false,
     "schema_version": 3,
     "solution": true,
     "task": false
    }
   },
   "outputs": [],
   "source": [
    "def run_simulation():\n",
    "    \"\"\"\n",
    "    The function Run the simulation 1000 times to figure out \n",
    "    the empirical (observed) probability of gaining more money when switching \n",
    "    and gaining more money when sticking to the original choice.\n",
    "    Return the probability of win due to sticking and win due to switching\n",
    "    \"\"\"\n",
    "    # YOUR CODE HERE \n",
    "    # Do test and training cases with 500 each, \n",
    "    # Accumulate 500 for each\n",
    "    total_run_count = 1000\n",
    "    accumulated_count_individual  = total_run_count/2\n",
    "    count = 0 \n",
    "    did_change_count = 0\n",
    "    did_change_count_correct = 0\n",
    "    didnt_change_count = 0\n",
    "    didnt_change_count_correct = 0\n",
    "    while count < total_run_count:\n",
    "        \n",
    "        response = simulateProblem()\n",
    "        is_correct = response[0]\n",
    "        did_change = response[1] \n",
    "        # === run 1000 times total ===\n",
    "        count +=1\n",
    "        if did_change == True:\n",
    "            if is_correct == True:\n",
    "                did_change_count_correct +=1\n",
    "            did_change_count+=1\n",
    "        else:\n",
    "            if is_correct == True:\n",
    "                didnt_change_count_correct +=1\n",
    "            didnt_change_count+=1\n",
    "            \n",
    "        # === Run 500 times each ===\n",
    "        #if did_change_count < accumulated_count_individual:\n",
    "        #    did_change_count +=1 \n",
    "        #    if is_correct == True:\n",
    "        #        did_change_count_correct +=1\n",
    "        #    count +=1\n",
    "        #elif didnt_change_count < accumulated_count_individual:\n",
    "        #    didnt_change_count +=1\n",
    "        #    if is_correct == True:\n",
    "        #        didnt_change_count_correct +=1\n",
    "        #    count +=1\n",
    "                \n",
    "    print(\"Didn't change count : \", didnt_change_count , \".\\nDid change count\", did_change_count, \"\\n\")\n",
    "    print(\"Didnt change correct\" ,didnt_change_count_correct , \".\\nDid change correct\" ,did_change_count_correct, \"\\n\")\n",
    "    print(\"Correctness of switching is : \",  did_change_count_correct/did_change_count )\n",
    "    print(\"Correctness of non switching is : \" , didnt_change_count_correct/didnt_change_count )\n"
   ]
  },
  {
   "cell_type": "markdown",
   "metadata": {
    "deletable": false,
    "editable": false,
    "nbgrader": {
     "cell_type": "markdown",
     "checksum": "0e81ca5ab496e74d0efa5a31ae2a6e0f",
     "grade": false,
     "grade_id": "cell-e2c5c4cb574441c3",
     "locked": true,
     "points": 8,
     "schema_version": 3,
     "solution": false,
     "task": true
    }
   },
   "source": [
    "### 1. Print you returned values here, your return values should be decimal values"
   ]
  },
  {
   "cell_type": "code",
   "execution_count": 17,
   "metadata": {},
   "outputs": [
    {
     "name": "stdout",
     "output_type": "stream",
     "text": [
      "Didn't change count :  496 .\n",
      "Did change count 504 \n",
      "\n",
      "Didnt change correct 248 .\n",
      "Did change correct 252 \n",
      "\n",
      "Correctness of switching is :  0.5\n",
      "Correctness of non switching is :  0.5\n",
      "______________________\n",
      "Didn't change count :  458 .\n",
      "Did change count 542 \n",
      "\n",
      "Didnt change correct 235 .\n",
      "Did change correct 278 \n",
      "\n",
      "Correctness of switching is :  0.5129151291512916\n",
      "Correctness of non switching is :  0.5131004366812227\n"
     ]
    }
   ],
   "source": [
    "run_simulation()   \n",
    "print(\"______________________\")\n",
    "run_simulation()   "
   ]
  },
  {
   "cell_type": "markdown",
   "metadata": {
    "deletable": false,
    "editable": false,
    "nbgrader": {
     "cell_type": "markdown",
     "checksum": "10275e927fa569c1c872fe69b98bba61",
     "grade": false,
     "grade_id": "cell-5d96074b2d53b7c6",
     "locked": true,
     "points": 4,
     "schema_version": 3,
     "solution": false,
     "task": true
    }
   },
   "source": [
    "### 2. Give your observation and argument:\n",
    " Which is better - Sticking or Switching ？"
   ]
  },
  {
   "cell_type": "code",
   "execution_count": 16,
   "metadata": {},
   "outputs": [
    {
     "name": "stdout",
     "output_type": "stream",
     "text": [
      "It doesnt matter, there is no significant Difference.\n"
     ]
    }
   ],
   "source": [
    "print(\"It doesnt matter, there is no significant Difference.\")"
   ]
  }
 ],
 "metadata": {
  "kernelspec": {
   "display_name": "Python 3",
   "language": "python",
   "name": "python3"
  },
  "language_info": {
   "codemirror_mode": {
    "name": "ipython",
    "version": 3
   },
   "file_extension": ".py",
   "mimetype": "text/x-python",
   "name": "python",
   "nbconvert_exporter": "python",
   "pygments_lexer": "ipython3",
   "version": "3.6.8"
  }
 },
 "nbformat": 4,
 "nbformat_minor": 2
}
