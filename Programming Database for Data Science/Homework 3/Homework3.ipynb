{
 "cells": [
  {
   "cell_type": "markdown",
   "metadata": {},
   "source": [
    "Before you turn this problem in, make sure everything runs as expected. First, **restart the kernel** (in the menubar, select Kernel$\\rightarrow$Restart) and then **run all cells** (in the menubar, select Cell$\\rightarrow$Run All).\n",
    "\n",
    "Make sure you fill in any place that says `YOUR CODE HERE` or \"YOUR ANSWER HERE\", as well as your name and collaborators below:"
   ]
  },
  {
   "cell_type": "code",
   "execution_count": 1,
   "metadata": {},
   "outputs": [],
   "source": [
    "NAME = \"Matthew Sah\"\n",
    "COLLABORATORS = \"\""
   ]
  },
  {
   "cell_type": "markdown",
   "metadata": {},
   "source": [
    "---"
   ]
  },
  {
   "cell_type": "markdown",
   "metadata": {
    "deletable": false,
    "editable": false,
    "nbgrader": {
     "cell_type": "markdown",
     "checksum": "52218949cec4324302087107079066f7",
     "grade": false,
     "grade_id": "cell-8bcb2cd9177ce744",
     "locked": true,
     "schema_version": 3,
     "solution": false,
     "task": false
    }
   },
   "source": [
    "# Problem 1 (7 points)\n",
    "\n",
    "The body mass index (BMI) is calcualted as a person's weight (in pounds)\n",
    "times 720, divided by the square of the person's height (in inches). A BMI\n",
    "in the range 19-25, inclusive, is considered healthy. Write a function\n",
    "that calculates a person's BMI and RETURNS one of three string: 'above', 'within',\n",
    "or 'below'. Note the function takes as input the person's weight and height.\n",
    "This means you do not have to prompt the user for the input. Rather, the input is\n",
    "provided when the function is called.\n",
    "\n",
    "The function MUST raise exception type ValueError if the weight or height are less\n",
    "than or equal to zero.\n"
   ]
  },
  {
   "cell_type": "code",
   "execution_count": 2,
   "metadata": {
    "deletable": false,
    "nbgrader": {
     "cell_type": "code",
     "checksum": "979388a1bbe5dfd53377ba099c4c4857",
     "grade": false,
     "grade_id": "problem_1",
     "locked": false,
     "schema_version": 3,
     "solution": true,
     "task": false
    }
   },
   "outputs": [],
   "source": [
    "def calculate_bmi(weight, height): \n",
    "    if weight <=0 or height <= 0:\n",
    "        raise ValueError(\"Values are less than or equal to zero\")\n",
    "    else: \n",
    "        BMI = weight * 720 / (height * height )\n",
    "        \n",
    "        if BMI > 25:\n",
    "            return(\"above\")\n",
    "        elif BMI <= 25 and BMI >=19:\n",
    "            return(\"within\")\n",
    "        elif BMI < 19:\n",
    "            return(\"below\")\n",
    "     \n",
    "    \n",
    "    "
   ]
  },
  {
   "cell_type": "code",
   "execution_count": 3,
   "metadata": {
    "deletable": false,
    "editable": false,
    "nbgrader": {
     "cell_type": "code",
     "checksum": "05a514060bbd279ea56be52caa0a8882",
     "grade": true,
     "grade_id": "problem_1_tests",
     "locked": true,
     "points": 7,
     "schema_version": 3,
     "solution": false,
     "task": false
    }
   },
   "outputs": [],
   "source": [
    "assert calculate_bmi(160, 5.6*12) == 'above'\n",
    "assert calculate_bmi(110, 5.6*12) == 'below'\n",
    "assert calculate_bmi(135, 5.6*12) == 'within'\n",
    "\n",
    "\n",
    "try:\n",
    "    calculate_bmi(160, 0)\n",
    "except ValueError as error:\n",
    "    assert error.__class__.__name__ == 'ValueError'\n",
    "try:\n",
    "    calculate_bmi(0, 5.5)\n",
    "except ValueError as error:\n",
    "    assert error.__class__.__name__ == 'ValueError'\n",
    "\n",
    "try:\n",
    "    calculate_bmi(160, -10)\n",
    "except ValueError as error:\n",
    "    assert error.__class__.__name__ == 'ValueError'\n",
    "try:\n",
    "    calculate_bmi(-10, 5.5)\n",
    "except ValueError as error:\n",
    "    assert error.__class__.__name__ == 'ValueError'"
   ]
  },
  {
   "cell_type": "markdown",
   "metadata": {
    "deletable": false,
    "editable": false,
    "nbgrader": {
     "cell_type": "markdown",
     "checksum": "27d5c15085a2e9a74253d5148d07093f",
     "grade": false,
     "grade_id": "problem_2_info",
     "locked": true,
     "schema_version": 3,
     "solution": false,
     "task": false
    }
   },
   "source": [
    "# Problem 2 (5 points)\n",
    "Given a person's height, write a function that returns the healthy BMI range.\n",
    "The return value should be a tuple. Round up the lowest value and round down the\n",
    "highest value.\n",
    "\n",
    "The function MUST raise a ValueError type exception if the weight or height are less\n",
    "than or equal to zero."
   ]
  },
  {
   "cell_type": "code",
   "execution_count": 4,
   "metadata": {
    "deletable": false,
    "nbgrader": {
     "cell_type": "code",
     "checksum": "ddc6a12cc6b6500e8ad6cf31a0f1c77c",
     "grade": false,
     "grade_id": "problem_2",
     "locked": false,
     "schema_version": 3,
     "solution": true,
     "task": false
    }
   },
   "outputs": [],
   "source": [
    "def calculate_within_bmi_range(height): \n",
    "    import math  \n",
    "    BMI_High = round((25 * height * height) / 720)\n",
    "    BMI_Low = round((19 * height * height) / 720) \n",
    "    if BMI_Low <=0 or BMI_High <= 0 or height <=0:\n",
    "        raise ValueError(\"Values are less than or equal to zero\")\n",
    "    return int(BMI_Low), int(BMI_High)"
   ]
  },
  {
   "cell_type": "code",
   "execution_count": 5,
   "metadata": {
    "deletable": false,
    "editable": false,
    "nbgrader": {
     "cell_type": "code",
     "checksum": "7e34acbbb4e0a665484fd84722e3dd7b",
     "grade": true,
     "grade_id": "problem_2_tests",
     "locked": true,
     "points": 5,
     "schema_version": 3,
     "solution": false,
     "task": false
    }
   },
   "outputs": [],
   "source": [
    "assert calculate_within_bmi_range(5.0*12) == (95, 125)\n",
    "assert calculate_within_bmi_range(5.5*12) == (115, 151)\n",
    "assert calculate_within_bmi_range(6.0*12) == (137, 180)\n",
    "\n",
    "try:\n",
    "    calculate_within_bmi_range(0)\n",
    "except ValueError as error:\n",
    "    assert error.__class__.__name__ == 'ValueError'\n",
    "try:\n",
    "    calculate_within_bmi_range(-10)\n",
    "except ValueError as error:\n",
    "    assert error.__class__.__name__ == 'ValueError'\n"
   ]
  },
  {
   "cell_type": "markdown",
   "metadata": {
    "deletable": false,
    "editable": false,
    "nbgrader": {
     "cell_type": "markdown",
     "checksum": "714017c93c21ded3ea141192c8ad18cf",
     "grade": false,
     "grade_id": "cell-b8886222e9ce26a1",
     "locked": true,
     "schema_version": 3,
     "solution": false,
     "task": false
    }
   },
   "source": [
    "# Problem 3 (4 points)\n",
    "\n",
    "A year is a leap year if it is divisible by 4, unless it is a century year\n",
    "that is not divisible by 400. (1800 and 1900 are not leap years while 1600\n",
    "and 2000 are.) Write a function that determines if a given a year is a leap\n",
    "year. The function should return True or False.\n"
   ]
  },
  {
   "cell_type": "code",
   "execution_count": 6,
   "metadata": {
    "deletable": false,
    "nbgrader": {
     "cell_type": "code",
     "checksum": "ce7ce9cb4aa00f46823cf22e9213b7f4",
     "grade": false,
     "grade_id": "problem_3",
     "locked": false,
     "schema_version": 3,
     "solution": true,
     "task": false
    }
   },
   "outputs": [],
   "source": [
    "def is_leap_year(year):\n",
    "    if year %4 == 0 and year % 100 ==0  and year %400 ==0:\n",
    "        return True \n",
    "    elif year %4 == 0 and year % 100 != 0:\n",
    "        return True\n",
    "    else :\n",
    "        return False"
   ]
  },
  {
   "cell_type": "code",
   "execution_count": 7,
   "metadata": {
    "deletable": false,
    "editable": false,
    "nbgrader": {
     "cell_type": "code",
     "checksum": "507b37b2ce1235925102e4f057d71224",
     "grade": true,
     "grade_id": "problem_3_tests",
     "locked": true,
     "points": 4,
     "schema_version": 3,
     "solution": false,
     "task": false
    }
   },
   "outputs": [],
   "source": [
    "assert is_leap_year(1775) == False\n",
    "assert is_leap_year(1776) == True\n",
    "assert is_leap_year(1800) == False\n",
    "assert is_leap_year(2000) == True\n"
   ]
  },
  {
   "cell_type": "markdown",
   "metadata": {
    "deletable": false,
    "editable": false,
    "nbgrader": {
     "cell_type": "markdown",
     "checksum": "aeaf1a60a213a8feb7f93edb5ff506a6",
     "grade": false,
     "grade_id": "cell-951a70f7318c7a1e",
     "locked": true,
     "schema_version": 3,
     "solution": false,
     "task": false
    }
   },
   "source": [
    "# Problem 4 (4 points)\n",
    "\n",
    "Given a date in the form month/day/year, write a function that returns\n",
    "True or False if the date is valid or invalid, respectively. For example\n",
    "5/24/1962 is valid, but 9/31/2000 is invalid (September has only 30 days).\n"
   ]
  },
  {
   "cell_type": "code",
   "execution_count": 8,
   "metadata": {
    "deletable": false,
    "nbgrader": {
     "cell_type": "code",
     "checksum": "cc182af6c431d512e24323551b79cdc2",
     "grade": false,
     "grade_id": "problem_4",
     "locked": false,
     "schema_version": 3,
     "solution": true,
     "task": false
    }
   },
   "outputs": [],
   "source": [
    "def is_date_valid(date):\n",
    "    parsed = date.split(\"/\")\n",
    "    import datetime \n",
    "    try :\n",
    "        datetime.datetime(year = int(parsed[2]) ,month =  int(parsed[0]), day = int(parsed[1])) \n",
    "        return True\n",
    "    except:\n",
    "        return False"
   ]
  },
  {
   "cell_type": "code",
   "execution_count": 9,
   "metadata": {
    "deletable": false,
    "editable": false,
    "nbgrader": {
     "cell_type": "code",
     "checksum": "aed0dddd5592eaf79f823cadfb698082",
     "grade": true,
     "grade_id": "problem4_tests",
     "locked": true,
     "points": 4,
     "schema_version": 3,
     "solution": false,
     "task": false
    }
   },
   "outputs": [],
   "source": [
    "assert is_date_valid('2/29/1800') == False\n",
    "assert is_date_valid('5/24/1962') == True\n",
    "assert is_date_valid('2/29/2000') == True\n",
    "assert is_date_valid('9/31/2000') == False\n"
   ]
  },
  {
   "cell_type": "markdown",
   "metadata": {
    "deletable": false,
    "editable": false,
    "nbgrader": {
     "cell_type": "markdown",
     "checksum": "6f1737f6b73fe5e29d6a8453b607d98d",
     "grade": false,
     "grade_id": "cell-79debb7c863a5ed1",
     "locked": true,
     "schema_version": 3,
     "solution": false,
     "task": false
    }
   },
   "source": [
    "# Problem 5 (3 points)\n",
    "\n",
    "Write a function that uses a while toop to determine how long it takes\n",
    "for an investment to double at a given interest rate. The function\n",
    "should return the number of years it takes an investment to double.\n",
    "\n",
    "The interest rate is simple annual and is given as a percentage.\n",
    "See https://www.investopedia.com/terms/f/futurevalue.asp for formula\n"
   ]
  },
  {
   "cell_type": "code",
   "execution_count": 10,
   "metadata": {
    "deletable": false,
    "nbgrader": {
     "cell_type": "code",
     "checksum": "c4a494fc7d9c2c12df85b50c82d283e2",
     "grade": false,
     "grade_id": "problem_5",
     "locked": false,
     "schema_version": 3,
     "solution": true,
     "task": false
    }
   },
   "outputs": [],
   "source": [
    "def years_to_2x_investment_simple(initial_investment, interest_rate):\n",
    "    total_years = 0 \n",
    "    future_value = 0\n",
    "    threshold = initial_investment * 2\n",
    "    while future_value < threshold:\n",
    "        total_years += 1\n",
    "        rate_per_year = ( 1 + (interest_rate * total_years * 0.01))\n",
    "        future_value = initial_investment * rate_per_year \n",
    "    print(int(total_years))\n",
    "    return int(total_years)"
   ]
  },
  {
   "cell_type": "code",
   "execution_count": 11,
   "metadata": {
    "deletable": false,
    "editable": false,
    "nbgrader": {
     "cell_type": "code",
     "checksum": "476fee8f6cf4b1447c679ccf5a5fdd54",
     "grade": true,
     "grade_id": "problem_5_tests",
     "locked": true,
     "points": 3,
     "schema_version": 3,
     "solution": false,
     "task": false
    }
   },
   "outputs": [
    {
     "name": "stdout",
     "output_type": "stream",
     "text": [
      "20\n",
      "10\n",
      "7\n"
     ]
    }
   ],
   "source": [
    "assert years_to_2x_investment_simple(100000, 5) == 20\n",
    "assert years_to_2x_investment_simple(100000, 10) == 10\n",
    "assert years_to_2x_investment_simple(100000, 15) == 7\n"
   ]
  },
  {
   "cell_type": "markdown",
   "metadata": {
    "deletable": false,
    "editable": false,
    "nbgrader": {
     "cell_type": "markdown",
     "checksum": "25a617e0ffd195bbe35a0d9f59758c37",
     "grade": false,
     "grade_id": "cell-0e3e542a585a3a66",
     "locked": true,
     "schema_version": 3,
     "solution": false,
     "task": false
    }
   },
   "source": [
    "# Problem 6 (3 points)\n",
    "\n",
    "Similar to problem 5, but the interest rate is compounded annual.\n",
    "\n",
    "Write a function that uses a while toop to determine how long it takes\n",
    "for an investment to double at a given interest rate. The function\n",
    "should return the number of years it takes an investment to double.\n",
    "\n",
    "The interest rate is COMPOUND annual and is given as a percentage.\n",
    "See https://www.investopedia.com/terms/f/futurevalue.asp for formula\n"
   ]
  },
  {
   "cell_type": "code",
   "execution_count": 12,
   "metadata": {
    "deletable": false,
    "nbgrader": {
     "cell_type": "code",
     "checksum": "5e92443497636c3bd4263f7d2ef1d80c",
     "grade": false,
     "grade_id": "problem_6",
     "locked": false,
     "schema_version": 3,
     "solution": true,
     "task": false
    }
   },
   "outputs": [],
   "source": [
    "def years_to_2x_investment_compound(initial_investment, interest_rate):\n",
    "    total_years = 0 \n",
    "    future_value = 0\n",
    "    threshold = initial_investment * 2\n",
    "    while future_value < threshold:\n",
    "        total_years+=1 \n",
    "        rate_per_year = ( 1 + (interest_rate * 0.01)) ** total_years \n",
    "        future_value = initial_investment * rate_per_year   \n",
    "    return int(total_years)"
   ]
  },
  {
   "cell_type": "code",
   "execution_count": 13,
   "metadata": {
    "deletable": false,
    "editable": false,
    "nbgrader": {
     "cell_type": "code",
     "checksum": "6381f10aea82ffa38c1cf73d5cdedadf",
     "grade": true,
     "grade_id": "problem_6_tests",
     "locked": true,
     "points": 3,
     "schema_version": 3,
     "solution": false,
     "task": false
    }
   },
   "outputs": [],
   "source": [
    "assert years_to_2x_investment_compound(100000, 5) == 15\n",
    "assert years_to_2x_investment_compound(100000, 10) == 8\n",
    "assert years_to_2x_investment_compound(100000, 15) == 5"
   ]
  }
 ],
 "metadata": {
  "kernelspec": {
   "display_name": "Python 3",
   "language": "python",
   "name": "python3"
  },
  "language_info": {
   "codemirror_mode": {
    "name": "ipython",
    "version": 3
   },
   "file_extension": ".py",
   "mimetype": "text/x-python",
   "name": "python",
   "nbconvert_exporter": "python",
   "pygments_lexer": "ipython3",
   "version": "3.6.8"
  }
 },
 "nbformat": 4,
 "nbformat_minor": 2
}
