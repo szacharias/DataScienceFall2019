{
 "cells": [
  {
   "cell_type": "code",
   "execution_count": 108,
   "metadata": {},
   "outputs": [],
   "source": [
    "import pandas as pd\n",
    "import numpy as np\n",
    "from sklearn.linear_model import LinearRegression\n",
    "from sklearn.neighbors import KNeighborsClassifier\n",
    "import matplotlib.pyplot as plt\n",
    "import time\n",
    "import warnings\n",
    "from sklearn.exceptions import DataConversionWarning\n",
    "warnings.filterwarnings(action='ignore', category=DataConversionWarning)"
   ]
  },
  {
   "cell_type": "code",
   "execution_count": 76,
   "metadata": {},
   "outputs": [],
   "source": [
    "zip_train = pd.read_csv('ziptrain.csv')\n",
    "zip_test = pd.read_csv('ziptest.csv')"
   ]
  },
  {
   "cell_type": "code",
   "execution_count": 77,
   "metadata": {},
   "outputs": [],
   "source": [
    "#drop index column\n",
    "zip_train.drop(zip_train.columns[0], axis=1, inplace=True)\n",
    "zip_test.drop(zip_test.columns[0], axis=1, inplace=True)"
   ]
  },
  {
   "cell_type": "code",
   "execution_count": 78,
   "metadata": {},
   "outputs": [],
   "source": [
    "# get 2's and 3's\n",
    "zip_train_2_3 = zip_train[(zip_train.V1 == 2) | (zip_train.V1 == 3)]\n",
    "zip_test_2_3 = zip_test[(zip_test.V1 == 2) | (zip_test.V1 == 3)]"
   ]
  },
  {
   "cell_type": "code",
   "execution_count": 92,
   "metadata": {},
   "outputs": [],
   "source": [
    "#split fetures and label\n",
    "train_Y = zip_train_2_3.iloc[:, :1]\n",
    "train_X = zip_train_2_3.iloc[:, 1:]"
   ]
  },
  {
   "cell_type": "code",
   "execution_count": 93,
   "metadata": {},
   "outputs": [],
   "source": [
    "#split fetures and label\n",
    "test_Y = zip_test_2_3.iloc[:, :1]\n",
    "test_X = zip_test_2_3.iloc[:, 1:]"
   ]
  },
  {
   "cell_type": "code",
   "execution_count": 112,
   "metadata": {},
   "outputs": [
    {
     "name": "stdout",
     "output_type": "stream",
     "text": [
      "train:0.900478\n",
      "accuracy = 0.388613, runtime = 0.060835\n"
     ]
    }
   ],
   "source": [
    "# perform LinearRegression\n",
    "start = time.time()\n",
    "lr = LinearRegression().fit(train_X, train_Y)\n",
    "acu = lr.score(test_X, test_Y)\n",
    "end = time.time()\n",
    "print('accuracy = %f, runtime = %f'%(acu, end-start))"
   ]
  },
  {
   "cell_type": "code",
   "execution_count": 110,
   "metadata": {},
   "outputs": [
    {
     "name": "stdout",
     "output_type": "stream",
     "text": [
      "k = 1, training error = 0.000000, testing error = 0.024725, runtime = 2.715527\n",
      "k = 3, training error = 0.005040, testing error = 0.030220, runtime = 5.057316\n",
      "k = 5, training error = 0.005760, testing error = 0.030220, runtime = 5.208637\n",
      "k = 7, training error = 0.006479, testing error = 0.032967, runtime = 5.417434\n",
      "k = 9, training error = 0.009359, testing error = 0.035714, runtime = 5.320968\n",
      "k = 11, training error = 0.008639, testing error = 0.035714, runtime = 5.272183\n",
      "k = 13, training error = 0.008639, testing error = 0.038462, runtime = 5.120907\n",
      "k = 15, training error = 0.009359, testing error = 0.038462, runtime = 5.183169\n"
     ]
    }
   ],
   "source": [
    "# train knn with k = [1,3,5,7,9,11,13,15]\n",
    "# get train errors and test errors\n",
    "\n",
    "ks = [1,3,5,7,9,11,13,15]\n",
    "train_errs = []\n",
    "test_errs = []\n",
    "\n",
    "for k in ks:\n",
    "    start = time.time()\n",
    "    knn = KNeighborsClassifier(n_neighbors=k).fit(train_X, train_Y)\n",
    "    train_err = 1 - knn.score(train_X, train_Y)\n",
    "    train_errs.append(train_err)\n",
    "    test_err = 1 - knn.score(test_X, test_Y)\n",
    "    test_errs.append(test_err)\n",
    "    end = time.time()\n",
    "    print('k = %d, training error = %f, testing error = %f, runtime = %f'%(k, train_err, test_err, end-start))"
   ]
  },
  {
   "cell_type": "code",
   "execution_count": 107,
   "metadata": {},
   "outputs": [
    {
     "data": {
      "text/plain": [
       "<matplotlib.legend.Legend at 0x20daf3f2f28>"
      ]
     },
     "execution_count": 107,
     "metadata": {},
     "output_type": "execute_result"
    },
    {
     "data": {
      "image/png": "[encoded data removed]",
      "text/plain": [
       "<Figure size 432x288 with 1 Axes>"
      ]
     },
     "metadata": {
      "needs_background": "light"
     },
     "output_type": "display_data"
    }
   ],
   "source": [
    "#plt errors\n",
    "\n",
    "plt.plot(train_errs)\n",
    "plt.plot(test_errs)\n",
    "plt.ylabel('error')\n",
    "plt.xlabel('k')\n",
    "plt.legend(('training error', 'testing error'), loc='right')"
   ]
  },
  {
   "cell_type": "code",
   "execution_count": null,
   "metadata": {},
   "outputs": [],
   "source": []
  }
 ],
 "metadata": {
  "kernelspec": {
   "display_name": "Python 3",
   "language": "python",
   "name": "python3"
  },
  "language_info": {
   "codemirror_mode": {
    "name": "ipython",
    "version": 3
   },
   "file_extension": ".py",
   "mimetype": "text/x-python",
   "name": "python",
   "nbconvert_exporter": "python",
   "pygments_lexer": "ipython3",
   "version": "3.7.3"
  }
 },
 "nbformat": 4,
 "nbformat_minor": 2
}
