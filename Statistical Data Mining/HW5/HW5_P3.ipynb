{
 "cells": [
  {
   "cell_type": "code",
   "execution_count": 1,
   "metadata": {},
   "outputs": [],
   "source": [
    "import pandas as pd\n",
    "import numpy as np\n",
    "from sklearn.neural_network import MLPClassifier\n",
    "from sklearn.model_selection import train_test_split, cross_val_score\n",
    "from sklearn.metrics import classification_report, confusion_matrix\n",
    "from sklearn import svm\n",
    "from sklearn.metrics import accuracy_score\n",
    "import time\n",
    "import matplotlib.pyplot as plt"
   ]
  },
  {
   "cell_type": "code",
   "execution_count": 2,
   "metadata": {},
   "outputs": [],
   "source": [
    "OJ = pd.read_csv(\"OJ.csv\")"
   ]
  },
  {
   "cell_type": "code",
   "execution_count": 3,
   "metadata": {},
   "outputs": [
    {
     "data": {
      "text/html": [
       "<div>\n",
       "<style scoped>\n",
       "    .dataframe tbody tr th:only-of-type {\n",
       "        vertical-align: middle;\n",
       "    }\n",
       "\n",
       "    .dataframe tbody tr th {\n",
       "        vertical-align: top;\n",
       "    }\n",
       "\n",
       "    .dataframe thead th {\n",
       "        text-align: right;\n",
       "    }\n",
       "</style>\n",
       "<table border=\"1\" class=\"dataframe\">\n",
       "  <thead>\n",
       "    <tr style=\"text-align: right;\">\n",
       "      <th></th>\n",
       "      <th>Purchase</th>\n",
       "      <th>WeekofPurchase</th>\n",
       "      <th>StoreID</th>\n",
       "      <th>PriceCH</th>\n",
       "      <th>PriceMM</th>\n",
       "      <th>DiscCH</th>\n",
       "      <th>DiscMM</th>\n",
       "      <th>SpecialCH</th>\n",
       "      <th>SpecialMM</th>\n",
       "      <th>LoyalCH</th>\n",
       "      <th>SalePriceMM</th>\n",
       "      <th>SalePriceCH</th>\n",
       "      <th>PriceDiff</th>\n",
       "      <th>Store7</th>\n",
       "      <th>PctDiscMM</th>\n",
       "      <th>PctDiscCH</th>\n",
       "      <th>ListPriceDiff</th>\n",
       "      <th>STORE</th>\n",
       "    </tr>\n",
       "  </thead>\n",
       "  <tbody>\n",
       "    <tr>\n",
       "      <th>0</th>\n",
       "      <td>CH</td>\n",
       "      <td>237</td>\n",
       "      <td>1</td>\n",
       "      <td>1.75</td>\n",
       "      <td>1.99</td>\n",
       "      <td>0.00</td>\n",
       "      <td>0.0</td>\n",
       "      <td>0</td>\n",
       "      <td>0</td>\n",
       "      <td>0.500000</td>\n",
       "      <td>1.99</td>\n",
       "      <td>1.75</td>\n",
       "      <td>0.24</td>\n",
       "      <td>No</td>\n",
       "      <td>0.000000</td>\n",
       "      <td>0.000000</td>\n",
       "      <td>0.24</td>\n",
       "      <td>1</td>\n",
       "    </tr>\n",
       "    <tr>\n",
       "      <th>1</th>\n",
       "      <td>CH</td>\n",
       "      <td>239</td>\n",
       "      <td>1</td>\n",
       "      <td>1.75</td>\n",
       "      <td>1.99</td>\n",
       "      <td>0.00</td>\n",
       "      <td>0.3</td>\n",
       "      <td>0</td>\n",
       "      <td>1</td>\n",
       "      <td>0.600000</td>\n",
       "      <td>1.69</td>\n",
       "      <td>1.75</td>\n",
       "      <td>-0.06</td>\n",
       "      <td>No</td>\n",
       "      <td>0.150754</td>\n",
       "      <td>0.000000</td>\n",
       "      <td>0.24</td>\n",
       "      <td>1</td>\n",
       "    </tr>\n",
       "    <tr>\n",
       "      <th>2</th>\n",
       "      <td>CH</td>\n",
       "      <td>245</td>\n",
       "      <td>1</td>\n",
       "      <td>1.86</td>\n",
       "      <td>2.09</td>\n",
       "      <td>0.17</td>\n",
       "      <td>0.0</td>\n",
       "      <td>0</td>\n",
       "      <td>0</td>\n",
       "      <td>0.680000</td>\n",
       "      <td>2.09</td>\n",
       "      <td>1.69</td>\n",
       "      <td>0.40</td>\n",
       "      <td>No</td>\n",
       "      <td>0.000000</td>\n",
       "      <td>0.091398</td>\n",
       "      <td>0.23</td>\n",
       "      <td>1</td>\n",
       "    </tr>\n",
       "    <tr>\n",
       "      <th>3</th>\n",
       "      <td>MM</td>\n",
       "      <td>227</td>\n",
       "      <td>1</td>\n",
       "      <td>1.69</td>\n",
       "      <td>1.69</td>\n",
       "      <td>0.00</td>\n",
       "      <td>0.0</td>\n",
       "      <td>0</td>\n",
       "      <td>0</td>\n",
       "      <td>0.400000</td>\n",
       "      <td>1.69</td>\n",
       "      <td>1.69</td>\n",
       "      <td>0.00</td>\n",
       "      <td>No</td>\n",
       "      <td>0.000000</td>\n",
       "      <td>0.000000</td>\n",
       "      <td>0.00</td>\n",
       "      <td>1</td>\n",
       "    </tr>\n",
       "    <tr>\n",
       "      <th>4</th>\n",
       "      <td>CH</td>\n",
       "      <td>228</td>\n",
       "      <td>7</td>\n",
       "      <td>1.69</td>\n",
       "      <td>1.69</td>\n",
       "      <td>0.00</td>\n",
       "      <td>0.0</td>\n",
       "      <td>0</td>\n",
       "      <td>0</td>\n",
       "      <td>0.956535</td>\n",
       "      <td>1.69</td>\n",
       "      <td>1.69</td>\n",
       "      <td>0.00</td>\n",
       "      <td>Yes</td>\n",
       "      <td>0.000000</td>\n",
       "      <td>0.000000</td>\n",
       "      <td>0.00</td>\n",
       "      <td>0</td>\n",
       "    </tr>\n",
       "  </tbody>\n",
       "</table>\n",
       "</div>"
      ],
      "text/plain": [
       "  Purchase  WeekofPurchase  StoreID  PriceCH  PriceMM  DiscCH  DiscMM  \\\n",
       "0       CH             237        1     1.75     1.99    0.00     0.0   \n",
       "1       CH             239        1     1.75     1.99    0.00     0.3   \n",
       "2       CH             245        1     1.86     2.09    0.17     0.0   \n",
       "3       MM             227        1     1.69     1.69    0.00     0.0   \n",
       "4       CH             228        7     1.69     1.69    0.00     0.0   \n",
       "\n",
       "   SpecialCH  SpecialMM   LoyalCH  SalePriceMM  SalePriceCH  PriceDiff Store7  \\\n",
       "0          0          0  0.500000         1.99         1.75       0.24     No   \n",
       "1          0          1  0.600000         1.69         1.75      -0.06     No   \n",
       "2          0          0  0.680000         2.09         1.69       0.40     No   \n",
       "3          0          0  0.400000         1.69         1.69       0.00     No   \n",
       "4          0          0  0.956535         1.69         1.69       0.00    Yes   \n",
       "\n",
       "   PctDiscMM  PctDiscCH  ListPriceDiff  STORE  \n",
       "0   0.000000   0.000000           0.24      1  \n",
       "1   0.150754   0.000000           0.24      1  \n",
       "2   0.000000   0.091398           0.23      1  \n",
       "3   0.000000   0.000000           0.00      1  \n",
       "4   0.000000   0.000000           0.00      0  "
      ]
     },
     "execution_count": 3,
     "metadata": {},
     "output_type": "execute_result"
    }
   ],
   "source": [
    "OJ.head()"
   ]
  },
  {
   "cell_type": "code",
   "execution_count": 4,
   "metadata": {},
   "outputs": [],
   "source": [
    "OJ_target = OJ.Purchase"
   ]
  },
  {
   "cell_type": "code",
   "execution_count": 5,
   "metadata": {},
   "outputs": [],
   "source": [
    "OJ_predictor = OJ.drop([\"Purchase\", \"Store7\"], axis = 1)"
   ]
  },
  {
   "cell_type": "code",
   "execution_count": 6,
   "metadata": {},
   "outputs": [
    {
     "data": {
      "text/plain": [
       "array(['CH', 'MM'], dtype=object)"
      ]
     },
     "execution_count": 6,
     "metadata": {},
     "output_type": "execute_result"
    }
   ],
   "source": [
    "OJ_target.unique()"
   ]
  },
  {
   "cell_type": "markdown",
   "metadata": {},
   "source": [
    "Citrus Hill or Minute Maid"
   ]
  },
  {
   "cell_type": "code",
   "execution_count": 7,
   "metadata": {},
   "outputs": [],
   "source": [
    "predictor_train,predictor_test,target_train,target_test=train_test_split(OJ_predictor,OJ_target,test_size=0.2)"
   ]
  },
  {
   "cell_type": "markdown",
   "metadata": {},
   "source": [
    "A) \n",
    "<br>Fit  a  support  vector  classifier  with  varying  cost  parameters  over  the  range [0.01, 10].<br> Plot the training and test error across this spectrum of cost parameters, and determine the optimal cost."
   ]
  },
  {
   "cell_type": "code",
   "execution_count": 18,
   "metadata": {},
   "outputs": [],
   "source": [
    "def questionA():\n",
    "    cost_list = np.linspace(0.01, 10, 20)\n",
    "    score_list = []\n",
    "    max_cost = 0.01\n",
    "    max_score = 0.6215113920467946\n",
    "\n",
    "    for i in cost_list:\n",
    "        cost = round(i, 2)\n",
    "        cv_level = 10\n",
    "        svc = svm.SVC(C = cost, gamma = \"auto\")\n",
    "        svc.fit(predictor_train, target_train)\n",
    "    #     prediction = svc.predict(predictor_test)\n",
    "    #     prediction = accuracy_score(target_test,prediction)\n",
    "    #     print(\"Cost : \" + str(i) + \", Prediction : \" + str(prediction))\n",
    "        score = cross_val_score(svc, predictor_train, target_train, cv= cv_level)\n",
    "        score = sum(score)/cv_level\n",
    "        score_list.append(score)\n",
    "        print(\"Cost : \" + str(cost) + \", Prediction : \" + str(score))\n",
    "\n",
    "        if score > max_score:\n",
    "            max_score = score\n",
    "            max_cost = i\n",
    "    print(\"Max Score \" + str(max_score) + \" , max_cost \" + str(max_cost ))\n",
    "    plt.plot(cost_list, score_list)\n",
    "    plt.savefig(\"Q3_a.png\")\n",
    "    \n",
    "\n",
    "    \n",
    "    "
   ]
  },
  {
   "cell_type": "code",
   "execution_count": 19,
   "metadata": {},
   "outputs": [
    {
     "name": "stdout",
     "output_type": "stream",
     "text": [
      "Cost : 0.01, Prediction : 0.6098281365473213\n",
      "Cost : 0.54, Prediction : 0.7007649731905593\n",
      "Cost : 1.06, Prediction : 0.7335833451263425\n",
      "Cost : 1.59, Prediction : 0.7545972294290612\n",
      "Cost : 2.11, Prediction : 0.7686060663238832\n",
      "Cost : 2.64, Prediction : 0.7790724405239241\n",
      "Cost : 3.16, Prediction : 0.7837646429863044\n",
      "Cost : 3.69, Prediction : 0.7872530150793275\n",
      "Cost : 4.22, Prediction : 0.7884294856675629\n",
      "Cost : 4.74, Prediction : 0.7837780083966225\n",
      "Cost : 5.27, Prediction : 0.7849818387659795\n",
      "Cost : 5.79, Prediction : 0.7838187335880623\n",
      "Cost : 6.32, Prediction : 0.7884705253392456\n",
      "Cost : 6.85, Prediction : 0.7907693759139581\n",
      "Cost : 7.37, Prediction : 0.7931223170904287\n",
      "Cost : 7.9, Prediction : 0.7907423306130792\n",
      "Cost : 8.42, Prediction : 0.7942446970769061\n",
      "Cost : 8.95, Prediction : 0.7942583769674669\n",
      "Cost : 9.47, Prediction : 0.7966110036636949\n",
      "Cost : 10.0, Prediction : 0.8013032061260752\n",
      "Max Score 0.8013032061260752 , max_cost 10.0\n"
     ]
    },
    {
     "data": {
      "image/png": "[encoded data removed]",
      "text/plain": [
       "<Figure size 432x288 with 1 Axes>"
      ]
     },
     "metadata": {
      "needs_background": "light"
     },
     "output_type": "display_data"
    }
   ],
   "source": [
    "questionA()"
   ]
  },
  {
   "cell_type": "markdown",
   "metadata": {},
   "source": [
    "Cost : 0.01, Prediction : 0.6098281365473213<br>\n",
    "Cost : 0.54, Prediction : 0.7007649731905593<br>\n",
    "Cost : 1.06, Prediction : 0.7335833451263425<br>\n",
    "Cost : 1.59, Prediction : 0.7545972294290612<br>\n",
    "Cost : 2.11, Prediction : 0.7686060663238832<br>\n",
    "Cost : 2.64, Prediction : 0.7790724405239241<br>\n",
    "Cost : 3.16, Prediction : 0.7837646429863044<br>\n",
    "Cost : 3.69, Prediction : 0.7872530150793275<br>\n",
    "Cost : 4.22, Prediction : 0.7884294856675629<br>\n",
    "Cost : 4.74, Prediction : 0.7837780083966225<br>\n",
    "Cost : 5.27, Prediction : 0.7849818387659795<br>\n",
    "Cost : 5.79, Prediction : 0.7838187335880623<br>\n",
    "Cost : 6.32, Prediction : 0.7884705253392456<br>\n",
    "Cost : 6.85, Prediction : 0.7907693759139581<br>\n",
    "Cost : 7.37, Prediction : 0.7931223170904287<br>\n",
    "Cost : 7.9, Prediction : 0.7907423306130792<br>\n",
    "Cost : 8.42, Prediction : 0.7942446970769061<br>\n",
    "Cost : 8.95, Prediction : 0.7942583769674669<br>\n",
    "Cost : 9.47, Prediction : 0.7966110036636949<br>\n",
    "Cost : 10.0, Prediction : 0.8013032061260752<br>"
   ]
  },
  {
   "cell_type": "markdown",
   "metadata": {},
   "source": [
    "B)<br>Repeat the exercise in (A) for a support vector machine with a radial kernel.  (Use  the  default  parameter  for  gamma).    <br>Repeat  the  exercise  again  for  a  support vector   machine   with   a   polynomial   kernel   of   degree=2. <br>     Reflect   on   the performance of the SVM with different kernels, and the support vector classifier, i.e., SVM with a linear kernel. "
   ]
  },
  {
   "cell_type": "code",
   "execution_count": 10,
   "metadata": {},
   "outputs": [
    {
     "name": "stdout",
     "output_type": "stream",
     "text": [
      "Cost : 0.01, Prediction : 0.5747663551401869\n",
      "Cost : 1.01, Prediction : 0.7383177570093458\n",
      "Cost : 2.01, Prediction : 0.780373831775701\n",
      "Cost : 3.01, Prediction : 0.780373831775701\n",
      "Cost : 4.01, Prediction : 0.8037383177570093\n",
      "Cost : 5.0, Prediction : 0.8037383177570093\n",
      "Cost : 6.0, Prediction : 0.8084112149532711\n",
      "Cost : 7.0, Prediction : 0.7990654205607477\n",
      "Cost : 8.0, Prediction : 0.794392523364486\n",
      "Cost : 9.0, Prediction : 0.794392523364486\n",
      "Cost : 10.0, Prediction : 0.7990654205607477\n",
      "Elapsed Time = 0.35118556022644043\n",
      "Max Score 0.8084112149532711 , max_cost 6.004\n"
     ]
    },
    {
     "data": {
      "image/png": "[encoded data removed]",
      "text/plain": [
       "<Figure size 432x288 with 1 Axes>"
      ]
     },
     "metadata": {
      "needs_background": "light"
     },
     "output_type": "display_data"
    }
   ],
   "source": [
    "def questionb1():\n",
    "    cost_list = np.linspace(0.01, 10, 11)\n",
    "    score_list = []\n",
    "    max_cost = 0.01\n",
    "    max_score = 0.6215113920467946\n",
    "\n",
    "    start_time = time.time()\n",
    "    for i in cost_list:\n",
    "        cost = round(i, 2)\n",
    "        cv_level = 10\n",
    "        svc = svm.SVC(C = cost, gamma = \"auto\")\n",
    "        svc.fit(predictor_train, target_train)\n",
    "        prediction = svc.predict(predictor_test)\n",
    "        prediction = accuracy_score(target_test,prediction)\n",
    "        print(\"Cost : \" + str(cost) + \", Prediction : \" + str(prediction))\n",
    "#         score = cross_val_score(svc, predictor_train, target_train, cv= cv_level)\n",
    "#         score = sum(score)/cv_level\n",
    "        score_list.append(prediction)\n",
    "#         print(\"Cost : \" + str(cost) + \", Prediction : \" + str(score))\n",
    "\n",
    "        if prediction > max_score:\n",
    "            max_score = prediction\n",
    "            max_cost = i\n",
    "    end_time = time.time()\n",
    "    print(\"Elapsed Time = \" + str( end_time - start_time ))\n",
    "    print(\"Max Score \" + str(max_score) + \" , max_cost \" + str(max_cost ))\n",
    "    plt.savefig(\"all_auto_radial.png\")\n",
    "    plt.plot(cost_list, score_list)\n",
    "    \n",
    "questionb1()\n",
    "    \n",
    "    "
   ]
  },
  {
   "cell_type": "markdown",
   "metadata": {},
   "source": [
    "Cost : 0.01, Prediction : 0.5747663551401869 <br>\n",
    "Cost : 1.01, Prediction : 0.7383177570093458<br>\n",
    "Cost : 2.01, Prediction : 0.780373831775701<br>\n",
    "Cost : 3.01, Prediction : 0.780373831775701<br>\n",
    "Cost : 4.01, Prediction : 0.8037383177570093<br>\n",
    "Cost : 5.0, Prediction : 0.8037383177570093<br>\n",
    "Cost : 6.0, Prediction : 0.8084112149532711<br>\n",
    "Cost : 7.0, Prediction : 0.7990654205607477<br>\n",
    "Cost : 8.0, Prediction : 0.794392523364486<br>\n",
    "Cost : 9.0, Prediction : 0.794392523364486<br>\n",
    "Cost : 10.0, Prediction : 0.7990654205607477<br>\n",
    "Elapsed Time = 0.35118556022644043<br>\n",
    "Max Score 0.8084112149532711 , max_cost 6.004<br>\n"
   ]
  },
  {
   "cell_type": "code",
   "execution_count": 20,
   "metadata": {},
   "outputs": [
    {
     "name": "stdout",
     "output_type": "stream",
     "text": [
      "Cost : 0.01, Prediction : 0.8644859813084113\n",
      "Cost : 1.01, Prediction : 0.8598130841121495\n",
      "Cost : 2.01, Prediction : 0.8457943925233645\n",
      "Cost : 3.01, Prediction : 0.8598130841121495\n",
      "Cost : 4.01, Prediction : 0.8457943925233645\n",
      "Cost : 5.0, Prediction : 0.8598130841121495\n",
      "Cost : 6.0, Prediction : 0.8457943925233645\n",
      "Cost : 7.0, Prediction : 0.8598130841121495\n",
      "Cost : 8.0, Prediction : 0.8691588785046729\n",
      "Cost : 9.0, Prediction : 0.8457943925233645\n",
      "Cost : 10.0, Prediction : 0.8598130841121495\n",
      "Elapsed Time = 28.90213131904602\n",
      "Max Score 0.8691588785046729 , max_cost 8.002\n"
     ]
    },
    {
     "data": {
      "image/png": "[encoded data removed]",
      "text/plain": [
       "<Figure size 432x288 with 1 Axes>"
      ]
     },
     "metadata": {
      "needs_background": "light"
     },
     "output_type": "display_data"
    }
   ],
   "source": [
    "def questionb2():\n",
    "    \n",
    "    cost_list = np.linspace(0.01, 10, 11)\n",
    "    score_list = []\n",
    "    max_cost = 0.01\n",
    "    max_score = 0.6215113920467946\n",
    "\n",
    "    start_time = time.time()\n",
    "    for i in cost_list:\n",
    "        cost = round(i, 2)\n",
    "        cv_level = 10\n",
    "        svc = svm.SVC(C = cost, gamma = \"auto\", kernel = \"poly\", degree = 2 )\n",
    "        svc.fit(predictor_train, target_train)\n",
    "        prediction = svc.predict(predictor_test)\n",
    "        prediction = accuracy_score(target_test,prediction)\n",
    "        print(\"Cost : \" + str(cost) + \", Prediction : \" + str(prediction))\n",
    "#         score = cross_val_score(svc, predictor_train, target_train, cv= cv_level)\n",
    "#         score = sum(score)/cv_level\n",
    "        score_list.append(prediction)\n",
    "#         print(\"Cost : \" + str(cost) + \", Prediction : \" + str(score))\n",
    "\n",
    "        if prediction > max_score:\n",
    "            max_score = prediction\n",
    "            max_cost = i\n",
    "    \n",
    "    end_time = time.time()\n",
    "    print(\"Elapsed Time = \" + str(  end_time - start_time))\n",
    "    print(\"Max Score \" + str(max_score) + \" , max_cost \" + str(max_cost ))\n",
    "    plt.plot(cost_list, score_list)\n",
    "    plt.savefig(\"poly_deg2.png\")\n",
    "    \n",
    "questionb2()\n",
    "    \n",
    "    "
   ]
  },
  {
   "cell_type": "markdown",
   "metadata": {},
   "source": [
    "Cost : 0.01, Prediction : 0.8644859813084113<br>\n",
    "Cost : 1.01, Prediction : 0.8598130841121495<br>\n",
    "Cost : 2.01, Prediction : 0.8457943925233645<br>\n",
    "Cost : 3.01, Prediction : 0.8598130841121495<br>\n",
    "Cost : 4.01, Prediction : 0.8457943925233645<br>\n",
    "Cost : 5.0, Prediction : 0.8598130841121495<br>\n",
    "Cost : 6.0, Prediction : 0.8457943925233645<br>\n",
    "Cost : 7.0, Prediction : 0.8598130841121495<br>\n",
    "Cost : 8.0, Prediction : 0.8691588785046729<br>\n",
    "Cost : 9.0, Prediction : 0.8457943925233645<br>\n",
    "Cost : 10.0, Prediction : 0.8598130841121495<br>\n",
    "Elapsed Time = 28.8676016330719<br>\n",
    "Max Score 0.8691588785046729 , max_cost 8.002<br>"
   ]
  },
  {
   "cell_type": "code",
   "execution_count": 21,
   "metadata": {},
   "outputs": [
    {
     "name": "stdout",
     "output_type": "stream",
     "text": [
      "Cost : 0.01, Prediction : 0.7897196261682243\n",
      "Cost : 1.01, Prediction : 0.8785046728971962\n",
      "Cost : 2.01, Prediction : 0.8598130841121495\n",
      "Cost : 3.01, Prediction : 0.8551401869158879\n",
      "Cost : 4.01, Prediction : 0.8551401869158879\n",
      "Cost : 5.0, Prediction : 0.8551401869158879\n",
      "Cost : 6.0, Prediction : 0.8504672897196262\n",
      "Cost : 7.0, Prediction : 0.8551401869158879\n",
      "Cost : 8.0, Prediction : 0.8457943925233645\n",
      "Cost : 9.0, Prediction : 0.8457943925233645\n",
      "Cost : 10.0, Prediction : 0.8411214953271028\n",
      "Elapsed Time = 2.1980247497558594\n",
      "Max Score 0.8785046728971962 , max_cost 1.009\n"
     ]
    },
    {
     "data": {
      "image/png": "[encoded data removed]",
      "text/plain": [
       "<Figure size 432x288 with 1 Axes>"
      ]
     },
     "metadata": {
      "needs_background": "light"
     },
     "output_type": "display_data"
    }
   ],
   "source": [
    "def questionb3_linear_kernel():\n",
    "    \n",
    "    cost_list = np.linspace(0.01, 10, 11)\n",
    "    score_list = []\n",
    "    max_cost = 0.01\n",
    "    max_score = 0.6215113920467946\n",
    "\n",
    "    start_time = time.time()\n",
    "    for i in cost_list:\n",
    "        cost = round(i, 2)\n",
    "        cv_level = 10\n",
    "        svc = svm.SVC(C = cost, kernel = \"linear\" )\n",
    "        svc.fit(predictor_train, target_train)\n",
    "        prediction = svc.predict(predictor_test)\n",
    "        prediction = accuracy_score(target_test,prediction)\n",
    "        print(\"Cost : \" + str(cost) + \", Prediction : \" + str(prediction))\n",
    "#         score = cross_val_score(svc, predictor_train, target_train, cv= cv_level)\n",
    "#         score = sum(score)/cv_level\n",
    "        score_list.append(prediction)\n",
    "#         print(\"Cost : \" + str(cost) + \", Prediction : \" + str(score))\n",
    "\n",
    "        if prediction > max_score:\n",
    "            max_score = prediction\n",
    "            max_cost = i\n",
    "    \n",
    "    end_time = time.time()\n",
    "    print(\"Elapsed Time = \" + str(  end_time - start_time))\n",
    "    print(\"Max Score \" + str(max_score) + \" , max_cost \" + str(max_cost ))\n",
    "    plt.plot(cost_list, score_list)\n",
    "    plt.savefig(\"linear.png\")\n",
    "    \n",
    "questionb3_linear_kernel()\n",
    "    \n",
    "    "
   ]
  },
  {
   "cell_type": "markdown",
   "metadata": {},
   "source": [
    "Cost : 0.01, Prediction : 0.7897196261682243<br>\n",
    "Cost : 1.01, Prediction : 0.8785046728971962<br>\n",
    "Cost : 2.01, Prediction : 0.8598130841121495<br>\n",
    "Cost : 3.01, Prediction : 0.8551401869158879<br>\n",
    "Cost : 4.01, Prediction : 0.8551401869158879<br>\n",
    "Cost : 5.0, Prediction : 0.8551401869158879<br>\n",
    "Cost : 6.0, Prediction : 0.8504672897196262<br>\n",
    "Cost : 7.0, Prediction : 0.8551401869158879<br>\n",
    "Cost : 8.0, Prediction : 0.8457943925233645<br>\n",
    "Cost : 9.0, Prediction : 0.8457943925233645<br>\n",
    "Cost : 10.0, Prediction : 0.8411214953271028<br>\n",
    "Elapsed Time = 1.944648265838623<br>\n",
    "Max Score 0.8785046728971962 , max_cost 1.009<br>"
   ]
  },
  {
   "cell_type": "code",
   "execution_count": 22,
   "metadata": {},
   "outputs": [
    {
     "name": "stdout",
     "output_type": "stream",
     "text": [
      "Cost : 0.01, Prediction : 0.6121495327102804\n",
      "Cost : 1.01, Prediction : 0.6121495327102804\n",
      "Cost : 2.01, Prediction : 0.6121495327102804\n",
      "Cost : 3.01, Prediction : 0.6121495327102804\n",
      "Cost : 4.01, Prediction : 0.6121495327102804\n",
      "Cost : 5.0, Prediction : 0.6121495327102804\n",
      "Cost : 6.0, Prediction : 0.6121495327102804\n",
      "Cost : 7.0, Prediction : 0.6121495327102804\n",
      "Cost : 8.0, Prediction : 0.6121495327102804\n",
      "Cost : 9.0, Prediction : 0.6121495327102804\n",
      "Cost : 10.0, Prediction : 0.6121495327102804\n",
      "Elapsed Time = 0.27335691452026367\n",
      "Max Score 0.6215113920467946 , max_cost 0.01\n"
     ]
    },
    {
     "data": {
      "image/png": "[encoded data removed]",
      "text/plain": [
       "<Figure size 432x288 with 1 Axes>"
      ]
     },
     "metadata": {
      "needs_background": "light"
     },
     "output_type": "display_data"
    }
   ],
   "source": [
    "def questionb4_sigmoid():\n",
    "    \n",
    "    cost_list = np.linspace(0.01, 10, 11)\n",
    "    score_list = []\n",
    "    max_cost = 0.01\n",
    "    max_score = 0.6215113920467946\n",
    "\n",
    "    start_time = time.time()\n",
    "    for i in cost_list:\n",
    "        cost = round(i, 2)\n",
    "        cv_level = 10\n",
    "        svc = svm.SVC(C = cost, gamma = \"auto\", kernel = \"sigmoid\" )\n",
    "        svc.fit(predictor_train, target_train)\n",
    "        prediction = svc.predict(predictor_test)\n",
    "        prediction = accuracy_score(target_test,prediction)\n",
    "        print(\"Cost : \" + str(cost) + \", Prediction : \" + str(prediction))\n",
    "#         score = cross_val_score(svc, predictor_train, target_train, cv= cv_level)\n",
    "#         score = sum(score)/cv_level\n",
    "        score_list.append(prediction)\n",
    "#         print(\"Cost : \" + str(cost) + \", Prediction : \" + str(score))\n",
    "\n",
    "        if prediction > max_score:\n",
    "            max_score = prediction\n",
    "            max_cost = i\n",
    "    \n",
    "    end_time = time.time()\n",
    "    print(\"Elapsed Time = \" + str(  end_time - start_time))\n",
    "    print(\"Max Score \" + str(max_score) + \" , max_cost \" + str(max_cost ))\n",
    "    plt.plot(cost_list, score_list)\n",
    "    plt.savefig(\"sigmoid.png\")\n",
    "    \n",
    "questionb4_sigmoid()\n",
    "    \n",
    "    "
   ]
  },
  {
   "cell_type": "markdown",
   "metadata": {},
   "source": [
    "Cost : 0.01, Prediction : 0.6121495327102804<br>\n",
    "Cost : 1.01, Prediction : 0.6121495327102804<br>\n",
    "Cost : 2.01, Prediction : 0.6121495327102804<br>\n",
    "Cost : 3.01, Prediction : 0.6121495327102804<br>\n",
    "Cost : 4.01, Prediction : 0.6121495327102804<br>\n",
    "Cost : 5.0, Prediction : 0.6121495327102804<br>\n",
    "Cost : 6.0, Prediction : 0.6121495327102804<br>\n",
    "Cost : 7.0, Prediction : 0.6121495327102804<br>\n",
    "Cost : 8.0, Prediction : 0.6121495327102804<br>\n",
    "Cost : 9.0, Prediction : 0.6121495327102804<br>\n",
    "Cost : 10.0, Prediction : 0.6121495327102804<br>\n",
    "Elapsed Time = 0.23919153213500977<br>\n",
    "Max Score 0.6215113920467946 , max_cost 0.01<br>\n"
   ]
  },
  {
   "cell_type": "code",
   "execution_count": null,
   "metadata": {},
   "outputs": [],
   "source": []
  }
 ],
 "metadata": {
  "kernelspec": {
   "display_name": "Python 3",
   "language": "python",
   "name": "python3"
  },
  "language_info": {
   "codemirror_mode": {
    "name": "ipython",
    "version": 3
   },
   "file_extension": ".py",
   "mimetype": "text/x-python",
   "name": "python",
   "nbconvert_exporter": "python",
   "pygments_lexer": "ipython3",
   "version": "3.7.4"
  }
 },
 "nbformat": 4,
 "nbformat_minor": 4
}
