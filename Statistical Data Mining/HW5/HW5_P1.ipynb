{
 "cells": [
  {
   "cell_type": "markdown",
   "metadata": {},
   "source": [
    "## Use NN on the SPAM data\n",
    "- Use CV or hold out to determine neurons(predictor) required\n",
    "- Compare to the additive models(???)"
   ]
  },
  {
   "cell_type": "markdown",
   "metadata": {},
   "source": [
    "Use cross-validation or the hold out method to determine the number of neurons to use in the layer. <br>\n",
    "Compare your results to those for the additive model given in the chapter.<br>\n",
    "When making the comparison, consider both the classification performance and interpretability of the final model.<br>\n",
    "https://towardsdatascience.com/feature-selection-in-python-recursive-feature-elimination-19f1c39b8d15"
   ]
  },
  {
   "cell_type": "code",
   "execution_count": 41,
   "metadata": {},
   "outputs": [],
   "source": [
    "import pandas as pd\n",
    "import numpy as np\n",
    "import matplotlib.pyplot as plt\n",
    "from sklearn.neural_network import MLPClassifier\n",
    "from sklearn.model_selection import train_test_split, cross_val_score, cross_validate\n",
    "from sklearn.metrics import classification_report, confusion_matrix, accuracy_score\n",
    "from sklearn.feature_selection import RFECV\n",
    "from sklearn.ensemble import RandomForestClassifier\n",
    "from sklearn.linear_model import LinearRegression, LogisticRegression\n",
    "import warnings\n",
    "warnings.filterwarnings('ignore')"
   ]
  },
  {
   "cell_type": "code",
   "execution_count": 42,
   "metadata": {},
   "outputs": [],
   "source": [
    "column_list = []\n",
    "total_columns = 59\n",
    "for i in range(1 , total_columns):\n",
    "    column_list.append(\"Column\" + str(i))\n",
    "spam_data = pd.read_csv('./spam.csv', delimiter=\" \", names = column_list) "
   ]
  },
  {
   "cell_type": "code",
   "execution_count": 43,
   "metadata": {},
   "outputs": [
    {
     "data": {
      "text/html": [
       "<div>\n",
       "<style scoped>\n",
       "    .dataframe tbody tr th:only-of-type {\n",
       "        vertical-align: middle;\n",
       "    }\n",
       "\n",
       "    .dataframe tbody tr th {\n",
       "        vertical-align: top;\n",
       "    }\n",
       "\n",
       "    .dataframe thead th {\n",
       "        text-align: right;\n",
       "    }\n",
       "</style>\n",
       "<table border=\"1\" class=\"dataframe\">\n",
       "  <thead>\n",
       "    <tr style=\"text-align: right;\">\n",
       "      <th></th>\n",
       "      <th>Column1</th>\n",
       "      <th>Column2</th>\n",
       "      <th>Column3</th>\n",
       "      <th>Column4</th>\n",
       "      <th>Column5</th>\n",
       "      <th>Column6</th>\n",
       "      <th>Column7</th>\n",
       "      <th>Column8</th>\n",
       "      <th>Column9</th>\n",
       "      <th>Column10</th>\n",
       "      <th>...</th>\n",
       "      <th>Column49</th>\n",
       "      <th>Column50</th>\n",
       "      <th>Column51</th>\n",
       "      <th>Column52</th>\n",
       "      <th>Column53</th>\n",
       "      <th>Column54</th>\n",
       "      <th>Column55</th>\n",
       "      <th>Column56</th>\n",
       "      <th>Column57</th>\n",
       "      <th>Column58</th>\n",
       "    </tr>\n",
       "  </thead>\n",
       "  <tbody>\n",
       "    <tr>\n",
       "      <th>0</th>\n",
       "      <td>0.00</td>\n",
       "      <td>0.64</td>\n",
       "      <td>0.64</td>\n",
       "      <td>0.0</td>\n",
       "      <td>0.32</td>\n",
       "      <td>0.00</td>\n",
       "      <td>0.00</td>\n",
       "      <td>0.00</td>\n",
       "      <td>0.00</td>\n",
       "      <td>0.00</td>\n",
       "      <td>...</td>\n",
       "      <td>0.00</td>\n",
       "      <td>0.000</td>\n",
       "      <td>0.0</td>\n",
       "      <td>0.778</td>\n",
       "      <td>0.000</td>\n",
       "      <td>0.000</td>\n",
       "      <td>3.756</td>\n",
       "      <td>61</td>\n",
       "      <td>278</td>\n",
       "      <td>1</td>\n",
       "    </tr>\n",
       "    <tr>\n",
       "      <th>1</th>\n",
       "      <td>0.21</td>\n",
       "      <td>0.28</td>\n",
       "      <td>0.50</td>\n",
       "      <td>0.0</td>\n",
       "      <td>0.14</td>\n",
       "      <td>0.28</td>\n",
       "      <td>0.21</td>\n",
       "      <td>0.07</td>\n",
       "      <td>0.00</td>\n",
       "      <td>0.94</td>\n",
       "      <td>...</td>\n",
       "      <td>0.00</td>\n",
       "      <td>0.132</td>\n",
       "      <td>0.0</td>\n",
       "      <td>0.372</td>\n",
       "      <td>0.180</td>\n",
       "      <td>0.048</td>\n",
       "      <td>5.114</td>\n",
       "      <td>101</td>\n",
       "      <td>1028</td>\n",
       "      <td>1</td>\n",
       "    </tr>\n",
       "    <tr>\n",
       "      <th>2</th>\n",
       "      <td>0.06</td>\n",
       "      <td>0.00</td>\n",
       "      <td>0.71</td>\n",
       "      <td>0.0</td>\n",
       "      <td>1.23</td>\n",
       "      <td>0.19</td>\n",
       "      <td>0.19</td>\n",
       "      <td>0.12</td>\n",
       "      <td>0.64</td>\n",
       "      <td>0.25</td>\n",
       "      <td>...</td>\n",
       "      <td>0.01</td>\n",
       "      <td>0.143</td>\n",
       "      <td>0.0</td>\n",
       "      <td>0.276</td>\n",
       "      <td>0.184</td>\n",
       "      <td>0.010</td>\n",
       "      <td>9.821</td>\n",
       "      <td>485</td>\n",
       "      <td>2259</td>\n",
       "      <td>1</td>\n",
       "    </tr>\n",
       "    <tr>\n",
       "      <th>3</th>\n",
       "      <td>0.00</td>\n",
       "      <td>0.00</td>\n",
       "      <td>0.00</td>\n",
       "      <td>0.0</td>\n",
       "      <td>0.63</td>\n",
       "      <td>0.00</td>\n",
       "      <td>0.31</td>\n",
       "      <td>0.63</td>\n",
       "      <td>0.31</td>\n",
       "      <td>0.63</td>\n",
       "      <td>...</td>\n",
       "      <td>0.00</td>\n",
       "      <td>0.137</td>\n",
       "      <td>0.0</td>\n",
       "      <td>0.137</td>\n",
       "      <td>0.000</td>\n",
       "      <td>0.000</td>\n",
       "      <td>3.537</td>\n",
       "      <td>40</td>\n",
       "      <td>191</td>\n",
       "      <td>1</td>\n",
       "    </tr>\n",
       "    <tr>\n",
       "      <th>4</th>\n",
       "      <td>0.00</td>\n",
       "      <td>0.00</td>\n",
       "      <td>0.00</td>\n",
       "      <td>0.0</td>\n",
       "      <td>0.63</td>\n",
       "      <td>0.00</td>\n",
       "      <td>0.31</td>\n",
       "      <td>0.63</td>\n",
       "      <td>0.31</td>\n",
       "      <td>0.63</td>\n",
       "      <td>...</td>\n",
       "      <td>0.00</td>\n",
       "      <td>0.135</td>\n",
       "      <td>0.0</td>\n",
       "      <td>0.135</td>\n",
       "      <td>0.000</td>\n",
       "      <td>0.000</td>\n",
       "      <td>3.537</td>\n",
       "      <td>40</td>\n",
       "      <td>191</td>\n",
       "      <td>1</td>\n",
       "    </tr>\n",
       "  </tbody>\n",
       "</table>\n",
       "<p>5 rows × 58 columns</p>\n",
       "</div>"
      ],
      "text/plain": [
       "   Column1  Column2  Column3  Column4  Column5  Column6  Column7  Column8  \\\n",
       "0     0.00     0.64     0.64      0.0     0.32     0.00     0.00     0.00   \n",
       "1     0.21     0.28     0.50      0.0     0.14     0.28     0.21     0.07   \n",
       "2     0.06     0.00     0.71      0.0     1.23     0.19     0.19     0.12   \n",
       "3     0.00     0.00     0.00      0.0     0.63     0.00     0.31     0.63   \n",
       "4     0.00     0.00     0.00      0.0     0.63     0.00     0.31     0.63   \n",
       "\n",
       "   Column9  Column10  ...  Column49  Column50  Column51  Column52  Column53  \\\n",
       "0     0.00      0.00  ...      0.00     0.000       0.0     0.778     0.000   \n",
       "1     0.00      0.94  ...      0.00     0.132       0.0     0.372     0.180   \n",
       "2     0.64      0.25  ...      0.01     0.143       0.0     0.276     0.184   \n",
       "3     0.31      0.63  ...      0.00     0.137       0.0     0.137     0.000   \n",
       "4     0.31      0.63  ...      0.00     0.135       0.0     0.135     0.000   \n",
       "\n",
       "   Column54  Column55  Column56  Column57  Column58  \n",
       "0     0.000     3.756        61       278         1  \n",
       "1     0.048     5.114       101      1028         1  \n",
       "2     0.010     9.821       485      2259         1  \n",
       "3     0.000     3.537        40       191         1  \n",
       "4     0.000     3.537        40       191         1  \n",
       "\n",
       "[5 rows x 58 columns]"
      ]
     },
     "execution_count": 43,
     "metadata": {},
     "output_type": "execute_result"
    }
   ],
   "source": [
    "spam_data.head()"
   ]
  },
  {
   "cell_type": "code",
   "execution_count": 44,
   "metadata": {},
   "outputs": [],
   "source": [
    "spam_target = spam_data.Column58\n",
    "spam_predictor = spam_data.drop(\"Column58\", axis = 1)"
   ]
  },
  {
   "cell_type": "code",
   "execution_count": 45,
   "metadata": {},
   "outputs": [],
   "source": [
    "predictor_train,predictor_test,target_train,target_test=train_test_split(spam_predictor,spam_target,test_size=0.2)"
   ]
  },
  {
   "cell_type": "code",
   "execution_count": 46,
   "metadata": {},
   "outputs": [
    {
     "data": {
      "text/plain": [
       "MLPClassifier(activation='relu', alpha=0.0001, batch_size='auto', beta_1=0.9,\n",
       "              beta_2=0.999, early_stopping=False, epsilon=1e-08,\n",
       "              hidden_layer_sizes=10, learning_rate='constant',\n",
       "              learning_rate_init=0.001, max_iter=1000, momentum=0.9,\n",
       "              n_iter_no_change=10, nesterovs_momentum=True, power_t=0.5,\n",
       "              random_state=None, shuffle=True, solver='adam', tol=0.0001,\n",
       "              validation_fraction=0.1, verbose=False, warm_start=False)"
      ]
     },
     "execution_count": 46,
     "metadata": {},
     "output_type": "execute_result"
    }
   ],
   "source": [
    "\n",
    "mlp = MLPClassifier(hidden_layer_sizes=(10), max_iter=1000)\n",
    "mlp.fit(predictor_train, target_train.values.ravel())"
   ]
  },
  {
   "cell_type": "code",
   "execution_count": null,
   "metadata": {},
   "outputs": [],
   "source": []
  },
  {
   "cell_type": "markdown",
   "metadata": {},
   "source": [
    "### Use cross-validation or the hold out method to determine the number of neurons to use in the layer. <br>\n"
   ]
  },
  {
   "cell_type": "code",
   "execution_count": 47,
   "metadata": {},
   "outputs": [
    {
     "data": {
      "text/plain": [
       "RFECV(cv=10,\n",
       "      estimator=RandomForestClassifier(bootstrap=True, class_weight=None,\n",
       "                                       criterion='gini', max_depth=None,\n",
       "                                       max_features='auto', max_leaf_nodes=None,\n",
       "                                       min_impurity_decrease=0.0,\n",
       "                                       min_impurity_split=None,\n",
       "                                       min_samples_leaf=1, min_samples_split=2,\n",
       "                                       min_weight_fraction_leaf=0.0,\n",
       "                                       n_estimators='warn', n_jobs=None,\n",
       "                                       oob_score=False, random_state=101,\n",
       "                                       verbose=0, warm_start=False),\n",
       "      min_features_to_select=1, n_jobs=None, scoring=None, step=1, verbose=0)"
      ]
     },
     "execution_count": 47,
     "metadata": {},
     "output_type": "execute_result"
    }
   ],
   "source": [
    "\n",
    "rfc = RandomForestClassifier(random_state=101)\n",
    "rfecv = RFECV(rfc, step=1, cv=10) # scoring='accuracy'\n",
    "rfecv.fit(predictor_train, target_train.values.ravel())"
   ]
  },
  {
   "cell_type": "code",
   "execution_count": 48,
   "metadata": {},
   "outputs": [
    {
     "name": "stdout",
     "output_type": "stream",
     "text": [
      "Optimal number of features: 56\n"
     ]
    }
   ],
   "source": [
    "print('Optimal number of features: {}'.format(rfecv.n_features_))"
   ]
  },
  {
   "cell_type": "code",
   "execution_count": 63,
   "metadata": {},
   "outputs": [
    {
     "data": {
      "image/png": "[encoded data removed]",
      "text/plain": [
       "<Figure size 1152x648 with 1 Axes>"
      ]
     },
     "metadata": {
      "needs_background": "light"
     },
     "output_type": "display_data"
    }
   ],
   "source": [
    "plt.figure(figsize=(16, 9))\n",
    "plt.title('Recursive Feature Elimination with Cross-Validation', fontsize=18, fontweight='bold', pad=20)\n",
    "plt.xlabel('Number of features selected', fontsize=14, labelpad=20)\n",
    "plt.ylabel('% Correct Classification', fontsize=14, labelpad=20)\n",
    "plt.plot(range(1, len(rfecv.grid_scores_) + 1), rfecv.grid_scores_, color='#303F9F', linewidth=3)\n",
    "plt.savefig(\"Recursive Feature Elimination with Cross-Validation\")\n",
    "plt.show()"
   ]
  },
  {
   "cell_type": "code",
   "execution_count": 50,
   "metadata": {},
   "outputs": [
    {
     "name": "stdout",
     "output_type": "stream",
     "text": [
      "              precision    recall  f1-score   support\n",
      "\n",
      "           0       0.93      0.96      0.94       535\n",
      "           1       0.95      0.89      0.92       386\n",
      "\n",
      "    accuracy                           0.93       921\n",
      "   macro avg       0.94      0.93      0.93       921\n",
      "weighted avg       0.93      0.93      0.93       921\n",
      "\n"
     ]
    }
   ],
   "source": [
    "\n",
    "mlp_test = MLPClassifier(hidden_layer_sizes=(50), max_iter=1000) \n",
    "mlp_test.fit(predictor_train, target_train)\n",
    "predictions = mlp_test.predict(predictor_test)\n",
    "print(classification_report(target_test,predictions)) "
   ]
  },
  {
   "cell_type": "markdown",
   "metadata": {},
   "source": [
    "### Compare your results to those for the additive model given in the chapter.<br>\n"
   ]
  },
  {
   "cell_type": "code",
   "execution_count": 51,
   "metadata": {},
   "outputs": [
    {
     "name": "stdout",
     "output_type": "stream",
     "text": [
      "0.9229098805646037\n"
     ]
    }
   ],
   "source": [
    "lm = LogisticRegression()\n",
    "lm.fit(predictor_train, target_train)\n",
    "predictions = lm.predict(predictor_test)   \n",
    "print(accuracy_score(target_test,predictions))"
   ]
  },
  {
   "cell_type": "markdown",
   "metadata": {},
   "source": [
    "# Deprecated"
   ]
  },
  {
   "cell_type": "markdown",
   "metadata": {},
   "source": [
    "---"
   ]
  },
  {
   "cell_type": "code",
   "execution_count": 52,
   "metadata": {},
   "outputs": [],
   "source": [
    "# cv_levels = 10\n",
    "# score = cross_val_score(mlp, predictor_train, target_train, cv=cv_levels)\n",
    "# average_score = sum(score) / cv_levels"
   ]
  },
  {
   "cell_type": "code",
   "execution_count": 53,
   "metadata": {},
   "outputs": [],
   "source": [
    "# average_score"
   ]
  },
  {
   "cell_type": "code",
   "execution_count": 54,
   "metadata": {},
   "outputs": [],
   "source": [
    "# max_cv = cv_levels\n",
    "# max_score = average_score\n",
    "# print(\"max_cv\" , max_cv)\n",
    "# print(\"max_score\" , max_score)"
   ]
  },
  {
   "cell_type": "code",
   "execution_count": 55,
   "metadata": {},
   "outputs": [],
   "source": [
    "# for i in range(2 , 11):\n",
    "#     score = cross_val_score(mlp, predictor_train, target_train, cv=i)\n",
    "#     average_score = sum(score) / i\n",
    "#     print(str(i) + \" round , Score : \" + str(average_score)) \n",
    "#     if average_score > max_score :\n",
    "#         max_score = average_score\n",
    "#         max_cv = i"
   ]
  },
  {
   "cell_type": "code",
   "execution_count": 56,
   "metadata": {},
   "outputs": [],
   "source": [
    "# max_cv"
   ]
  },
  {
   "cell_type": "code",
   "execution_count": 57,
   "metadata": {},
   "outputs": [],
   "source": [
    "# max_score"
   ]
  },
  {
   "cell_type": "code",
   "execution_count": 58,
   "metadata": {},
   "outputs": [],
   "source": [
    "# for i in range(9 , 15):\n",
    "#     mlp = MLPClassifier(hidden_layer_sizes=(i), max_iter=1000)\n",
    "#     mlp.fit(predictor_train, target_train.values.ravel())\n",
    "#     score = cross_val_score(mlp, predictor_train, target_train, cv=max_cv)\n",
    "#     average_score = sum(score) / max_cv\n",
    "#     print( str(i) + \" round. score : \" + str(average_score))\n",
    "#     if average_score > max_score :\n",
    "#         max_score = average_score\n",
    "#         max_cv = i"
   ]
  },
  {
   "cell_type": "markdown",
   "metadata": {},
   "source": [
    "## i , i , i \n",
    "9 round. score : 0.929345504456407\n",
    "10 round. score : 0.9320651010087877\n",
    "11 round. score : 0.9209134466433516\n",
    "12 round. score : 0.9293536251468428\n",
    "13 round. score : 0.9250057950466959\n",
    "14 round. score : 0.9211970246849723"
   ]
  },
  {
   "cell_type": "markdown",
   "metadata": {},
   "source": [
    "## i , i \n",
    "9 round. score : 0.9239081743331455\n",
    "10 round. score : 0.9320574956340932\n",
    "11 round. score : 0.9277172829482115\n",
    "12 round. score : 0.9301599733877328\n",
    "13 round. score : 0.927452191667397\n",
    "14 round. score : 0.928807197191152\n"
   ]
  },
  {
   "cell_type": "code",
   "execution_count": 59,
   "metadata": {},
   "outputs": [],
   "source": [
    "\n",
    "# scores = cross_validate(clf, X, y, scoring=scoring)\n",
    "# sorted(scores.keys())"
   ]
  },
  {
   "cell_type": "code",
   "execution_count": 60,
   "metadata": {},
   "outputs": [],
   "source": [
    "\n",
    "# mlp_test = MLPClassifier(hidden_layer_sizes=(i), max_iter=1000)\n",
    "\n",
    "# scores = cross_validate(mlp_test, predictor_train, target_train, return_estimator=True)\n",
    "# sorted(scores.keys())"
   ]
  },
  {
   "cell_type": "code",
   "execution_count": 61,
   "metadata": {},
   "outputs": [],
   "source": [
    "# scores"
   ]
  },
  {
   "cell_type": "code",
   "execution_count": 62,
   "metadata": {},
   "outputs": [],
   "source": [
    "\n",
    "# predictions = mlp.predict(predictor_test)\n",
    "# print(confusion_matrix(target_test,predictions))\n",
    "# print(classification_report(target_test,predictions))"
   ]
  },
  {
   "cell_type": "code",
   "execution_count": null,
   "metadata": {},
   "outputs": [],
   "source": []
  }
 ],
 "metadata": {
  "kernelspec": {
   "display_name": "Python 3",
   "language": "python",
   "name": "python3"
  },
  "language_info": {
   "codemirror_mode": {
    "name": "ipython",
    "version": 3
   },
   "file_extension": ".py",
   "mimetype": "text/x-python",
   "name": "python",
   "nbconvert_exporter": "python",
   "pygments_lexer": "ipython3",
   "version": "3.7.4"
  }
 },
 "nbformat": 4,
 "nbformat_minor": 4
}
