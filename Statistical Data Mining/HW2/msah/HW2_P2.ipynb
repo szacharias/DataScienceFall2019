{
 "cells": [
  {
   "cell_type": "markdown",
   "metadata": {},
   "source": [
    "86 Variable about on product usage\n",
    "and socio-demographic data\n",
    "\n",
    "5822 in training set\n",
    "4000 in test set\n",
    "\n",
    "__Predict who will buy caravan insurance policy__\n",
    "\n",
    "Computer the Ordinary Least Square estimates and compare them with those obtained from \n",
    "1. Forwards Selection\n",
    "2. Backwards Selection\n",
    "3. Lasso Regression\n",
    "4. Ridge Regression\n"
   ]
  },
  {
   "cell_type": "code",
   "execution_count": 26,
   "metadata": {},
   "outputs": [],
   "source": [
    "import csv\n",
    "import time\n",
    "import pandas as pd\n",
    "from sklearn.feature_selection import f_regression\n",
    "from sklearn.model_selection import cross_val_score, KFold, cross_validate\n",
    "from sklearn.linear_model import Ridge, Lasso, SGDRegressor\n",
    "from sklearn.linear_model import LinearRegression \n",
    "\n",
    "\n",
    "from mlxtend.feature_selection import SequentialFeatureSelector as SFS # includes forward and backwawrds selection\n",
    "#https://rasbt.github.io/mlxtend/user_guide/feature_selection/SequentialFeatureSelector/#example-2-toggling-between-sfs-sbs-sffs-and-sbfs\n"
   ]
  },
  {
   "cell_type": "code",
   "execution_count": 2,
   "metadata": {},
   "outputs": [],
   "source": [
    "\n",
    "#Read Data Complete\n",
    "training_data = pd.read_csv('ticdata2000.txt', sep=\"\\t\", header=None)\n",
    "test_data = pd.read_csv('ticeval2000.txt' , sep='\\t', header = None)\n",
    "target_data = pd.read_csv('tictgts2000.txt' , sep='\\t', header = None)"
   ]
  },
  {
   "cell_type": "code",
   "execution_count": 3,
   "metadata": {
    "scrolled": true
   },
   "outputs": [],
   "source": [
    "len(training_data), len(test_data), len(target_data)\n",
    "\n",
    "training_data_column_count = training_data.shape[1]\n",
    "test_data_column_count = test_data.shape[1]\n",
    "target_data_column_count = target_data.shape[1]"
   ]
  },
  {
   "cell_type": "code",
   "execution_count": 4,
   "metadata": {},
   "outputs": [
    {
     "data": {
      "text/plain": [
       "((5822, 86), (4000, 85), (4000, 1))"
      ]
     },
     "execution_count": 4,
     "metadata": {},
     "output_type": "execute_result"
    }
   ],
   "source": [
    "training_data.shape, test_data.shape, target_data.shape"
   ]
  },
  {
   "cell_type": "markdown",
   "metadata": {},
   "source": [
    "Name Cell Columns"
   ]
  },
  {
   "cell_type": "code",
   "execution_count": 5,
   "metadata": {},
   "outputs": [],
   "source": [
    "train_data_column=[]\n",
    "test_data_column = []\n",
    "target_data_column = []\n",
    "for i in range(1, training_data_column_count):\n",
    "    feature_name = 'Feature_' + str(i)\n",
    "    train_data_column.append(feature_name)\n",
    "    test_data_column.append(feature_name)\n",
    "#print(train_data_column)\n",
    "train_data_column.append(\"target_caravan\")\n",
    "target_data_column.append(\"target_caravan\")\n",
    "\n",
    "training_data.columns = train_data_column\n",
    "test_data.columns = test_data_column\n",
    "target_data.columns = target_data_column\n",
    "\n",
    "training_data_target = training_data.iloc[:,-1]\n",
    "training_data_feature = training_data.iloc[:, 0:training_data_column_count-1]"
   ]
  },
  {
   "cell_type": "markdown",
   "metadata": {},
   "source": [
    "Data Process Complete"
   ]
  },
  {
   "cell_type": "code",
   "execution_count": 18,
   "metadata": {},
   "outputs": [
    {
     "name": "stdout",
     "output_type": "stream",
     "text": [
      "Test Accuracy for OLS is  0.0853462345424455\n"
     ]
    }
   ],
   "source": [
    "# OLS\n",
    "from sklearn.linear_model import LinearRegression as lm\n",
    "lm = LinearRegression()\n",
    "\n",
    "model=lm.fit(training_data_feature, training_data_target) \n",
    "results = cross_val_score(model, test_data, target_data, cv = 10)\n",
    "max_value = 0 \n",
    "for i in results:\n",
    "    if i > max_value:\n",
    "        max_value = i\n",
    "print(\"Test Accuracy for OLS is \" ,max_value)\n"
   ]
  },
  {
   "cell_type": "code",
   "execution_count": 27,
   "metadata": {},
   "outputs": [
    {
     "name": "stdout",
     "output_type": "stream",
     "text": [
      " runtime = 1.342415\n",
      "\n",
      "Sequential Forward Selection (k=3):\n",
      "(42, 46, 81)\n",
      "CV Score:\n",
      "3.956031906280372\n"
     ]
    }
   ],
   "source": [
    "# Sequential Forward Selection\n",
    "\n",
    "lm = LinearRegression()\n",
    "\n",
    "start = time.time() \n",
    "\n",
    "sfs = SFS(lm, \n",
    "          k_features=3, \n",
    "          forward=True, \n",
    "          floating=False, \n",
    "          cv=4,\n",
    "          n_jobs=-1)\n",
    "\n",
    "sfs = sfs.fit(training_data_feature, training_data_target)\n",
    "\n",
    "end = time.time()\n",
    "print(' runtime = %f'%( end-start))\n",
    "print('\\nSequential Forward Selection (k=3):')\n",
    "print(sfs.k_feature_idx_)\n",
    "print('CV Score:')\n",
    "print((sfs.k_score_*100))\n"
   ]
  },
  {
   "cell_type": "markdown",
   "metadata": {},
   "source": [
    "__Forward Selection Output__ <br>\n",
    "Sequential Forward Selection (k=3): <br>\n",
    "(42, 46, 81)<br>\n",
    "CV Score:<br>\n",
    "3.956031906280372<br>\n",
    "\n",
    "Sequential Forward Selection (k=3):<br>\n",
    "(9, 15, 20, 40, 42, 43, 45, 46, 58, 81)<br>\n",
    "CV Score:<br>\n",
    "5.354115734215675<br>\n"
   ]
  },
  {
   "cell_type": "code",
   "execution_count": 28,
   "metadata": {},
   "outputs": [
    {
     "name": "stdout",
     "output_type": "stream",
     "text": [
      " runtime = 173.865419\n",
      "\n",
      "Sequential Backward Selection (k=3):\n",
      "(17, 46, 81)\n",
      "CV Score:\n",
      "3.9023624397377303\n"
     ]
    }
   ],
   "source": [
    "\n",
    "# Sequential Backward Selection\n",
    "\n",
    "lm = LinearRegression()\n",
    "\n",
    "start = time.time() \n",
    "sbs = SFS(lm, \n",
    "          k_features=3, \n",
    "          forward=False, \n",
    "          floating=False, \n",
    "          cv=4,\n",
    "          n_jobs=-1) \n",
    "\n",
    "sbs = sbs.fit(training_data_feature, training_data_target)\n",
    "\n",
    "end = time.time()\n",
    "print(' runtime = %f'%( end-start))\n",
    "print('\\nSequential Backward Selection (k=3):')\n",
    "print(sbs.k_feature_idx_)\n",
    "print('CV Score:')\n",
    "print((sbs.k_score_*100))\n"
   ]
  },
  {
   "cell_type": "markdown",
   "metadata": {},
   "source": [
    "__Backward Selection Output__ <br>\n",
    "Sequential Backward Selection (k=3):<br>\n",
    "(17, 46, 81)<br>\n",
    "CV Score:<br>\n",
    "3.9023624397377303<br>\n"
   ]
  },
  {
   "cell_type": "code",
   "execution_count": 15,
   "metadata": {},
   "outputs": [
    {
     "name": "stderr",
     "output_type": "stream",
     "text": [
      "C:\\Users\\Matthew\\Anaconda3\\lib\\site-packages\\sklearn\\model_selection\\_validation.py:514: UserWarning: With alpha=0, this algorithm does not converge well. You are advised to use the LinearRegression estimator\n",
      "  estimator.fit(X_train, y_train, **fit_params)\n",
      "C:\\Users\\Matthew\\Anaconda3\\lib\\site-packages\\sklearn\\linear_model\\coordinate_descent.py:475: UserWarning: Coordinate descent with no regularization may lead to unexpected results and is discouraged.\n",
      "  positive)\n",
      "C:\\Users\\Matthew\\Anaconda3\\lib\\site-packages\\sklearn\\linear_model\\coordinate_descent.py:475: ConvergenceWarning: Objective did not converge. You might want to increase the number of iterations. Duality gap: 135.89113403964728, tolerance: 0.00031299999999999996\n",
      "  positive)\n",
      "C:\\Users\\Matthew\\Anaconda3\\lib\\site-packages\\sklearn\\model_selection\\_validation.py:514: UserWarning: With alpha=0, this algorithm does not converge well. You are advised to use the LinearRegression estimator\n",
      "  estimator.fit(X_train, y_train, **fit_params)\n",
      "C:\\Users\\Matthew\\Anaconda3\\lib\\site-packages\\sklearn\\linear_model\\coordinate_descent.py:475: UserWarning: Coordinate descent with no regularization may lead to unexpected results and is discouraged.\n",
      "  positive)\n",
      "C:\\Users\\Matthew\\Anaconda3\\lib\\site-packages\\sklearn\\linear_model\\coordinate_descent.py:475: ConvergenceWarning: Objective did not converge. You might want to increase the number of iterations. Duality gap: 136.67226450768948, tolerance: 0.00031299999999999996\n",
      "  positive)\n",
      "C:\\Users\\Matthew\\Anaconda3\\lib\\site-packages\\sklearn\\model_selection\\_validation.py:514: UserWarning: With alpha=0, this algorithm does not converge well. You are advised to use the LinearRegression estimator\n",
      "  estimator.fit(X_train, y_train, **fit_params)\n",
      "C:\\Users\\Matthew\\Anaconda3\\lib\\site-packages\\sklearn\\linear_model\\coordinate_descent.py:475: UserWarning: Coordinate descent with no regularization may lead to unexpected results and is discouraged.\n",
      "  positive)\n",
      "C:\\Users\\Matthew\\Anaconda3\\lib\\site-packages\\sklearn\\linear_model\\coordinate_descent.py:475: ConvergenceWarning: Objective did not converge. You might want to increase the number of iterations. Duality gap: 133.81774825089684, tolerance: 0.000308\n",
      "  positive)\n",
      "C:\\Users\\Matthew\\Anaconda3\\lib\\site-packages\\sklearn\\model_selection\\_validation.py:514: UserWarning: With alpha=0, this algorithm does not converge well. You are advised to use the LinearRegression estimator\n",
      "  estimator.fit(X_train, y_train, **fit_params)\n",
      "C:\\Users\\Matthew\\Anaconda3\\lib\\site-packages\\sklearn\\linear_model\\coordinate_descent.py:475: UserWarning: Coordinate descent with no regularization may lead to unexpected results and is discouraged.\n",
      "  positive)\n",
      "C:\\Users\\Matthew\\Anaconda3\\lib\\site-packages\\sklearn\\linear_model\\coordinate_descent.py:475: ConvergenceWarning: Objective did not converge. You might want to increase the number of iterations. Duality gap: 139.60052018952757, tolerance: 0.000323\n",
      "  positive)\n",
      "C:\\Users\\Matthew\\Anaconda3\\lib\\site-packages\\sklearn\\model_selection\\_validation.py:514: UserWarning: With alpha=0, this algorithm does not converge well. You are advised to use the LinearRegression estimator\n",
      "  estimator.fit(X_train, y_train, **fit_params)\n",
      "C:\\Users\\Matthew\\Anaconda3\\lib\\site-packages\\sklearn\\linear_model\\coordinate_descent.py:475: UserWarning: Coordinate descent with no regularization may lead to unexpected results and is discouraged.\n",
      "  positive)\n",
      "C:\\Users\\Matthew\\Anaconda3\\lib\\site-packages\\sklearn\\linear_model\\coordinate_descent.py:475: ConvergenceWarning: Objective did not converge. You might want to increase the number of iterations. Duality gap: 136.18950603494972, tolerance: 0.000312\n",
      "  positive)\n",
      "C:\\Users\\Matthew\\Anaconda3\\lib\\site-packages\\sklearn\\model_selection\\_validation.py:514: UserWarning: With alpha=0, this algorithm does not converge well. You are advised to use the LinearRegression estimator\n",
      "  estimator.fit(X_train, y_train, **fit_params)\n",
      "C:\\Users\\Matthew\\Anaconda3\\lib\\site-packages\\sklearn\\linear_model\\coordinate_descent.py:475: UserWarning: Coordinate descent with no regularization may lead to unexpected results and is discouraged.\n",
      "  positive)\n",
      "C:\\Users\\Matthew\\Anaconda3\\lib\\site-packages\\sklearn\\linear_model\\coordinate_descent.py:475: ConvergenceWarning: Objective did not converge. You might want to increase the number of iterations. Duality gap: 137.7815633213952, tolerance: 0.000316\n",
      "  positive)\n",
      "C:\\Users\\Matthew\\Anaconda3\\lib\\site-packages\\sklearn\\model_selection\\_validation.py:514: UserWarning: With alpha=0, this algorithm does not converge well. You are advised to use the LinearRegression estimator\n",
      "  estimator.fit(X_train, y_train, **fit_params)\n",
      "C:\\Users\\Matthew\\Anaconda3\\lib\\site-packages\\sklearn\\linear_model\\coordinate_descent.py:475: UserWarning: Coordinate descent with no regularization may lead to unexpected results and is discouraged.\n",
      "  positive)\n",
      "C:\\Users\\Matthew\\Anaconda3\\lib\\site-packages\\sklearn\\linear_model\\coordinate_descent.py:475: ConvergenceWarning: Objective did not converge. You might want to increase the number of iterations. Duality gap: 136.23472654510613, tolerance: 0.000312\n",
      "  positive)\n",
      "C:\\Users\\Matthew\\Anaconda3\\lib\\site-packages\\sklearn\\model_selection\\_validation.py:514: UserWarning: With alpha=0, this algorithm does not converge well. You are advised to use the LinearRegression estimator\n",
      "  estimator.fit(X_train, y_train, **fit_params)\n",
      "C:\\Users\\Matthew\\Anaconda3\\lib\\site-packages\\sklearn\\linear_model\\coordinate_descent.py:475: UserWarning: Coordinate descent with no regularization may lead to unexpected results and is discouraged.\n",
      "  positive)\n",
      "C:\\Users\\Matthew\\Anaconda3\\lib\\site-packages\\sklearn\\linear_model\\coordinate_descent.py:475: ConvergenceWarning: Objective did not converge. You might want to increase the number of iterations. Duality gap: 136.3907279260902, tolerance: 0.00031499999999999996\n",
      "  positive)\n",
      "C:\\Users\\Matthew\\Anaconda3\\lib\\site-packages\\sklearn\\model_selection\\_validation.py:514: UserWarning: With alpha=0, this algorithm does not converge well. You are advised to use the LinearRegression estimator\n",
      "  estimator.fit(X_train, y_train, **fit_params)\n",
      "C:\\Users\\Matthew\\Anaconda3\\lib\\site-packages\\sklearn\\linear_model\\coordinate_descent.py:475: UserWarning: Coordinate descent with no regularization may lead to unexpected results and is discouraged.\n",
      "  positive)\n",
      "C:\\Users\\Matthew\\Anaconda3\\lib\\site-packages\\sklearn\\linear_model\\coordinate_descent.py:475: ConvergenceWarning: Objective did not converge. You might want to increase the number of iterations. Duality gap: 133.4126095828958, tolerance: 0.000306\n",
      "  positive)\n",
      "C:\\Users\\Matthew\\Anaconda3\\lib\\site-packages\\sklearn\\model_selection\\_validation.py:514: UserWarning: With alpha=0, this algorithm does not converge well. You are advised to use the LinearRegression estimator\n",
      "  estimator.fit(X_train, y_train, **fit_params)\n",
      "C:\\Users\\Matthew\\Anaconda3\\lib\\site-packages\\sklearn\\linear_model\\coordinate_descent.py:475: UserWarning: Coordinate descent with no regularization may lead to unexpected results and is discouraged.\n",
      "  positive)\n",
      "C:\\Users\\Matthew\\Anaconda3\\lib\\site-packages\\sklearn\\linear_model\\coordinate_descent.py:475: ConvergenceWarning: Objective did not converge. You might want to increase the number of iterations. Duality gap: 136.9964415611031, tolerance: 0.000314\n",
      "  positive)\n"
     ]
    },
    {
     "name": "stdout",
     "output_type": "stream",
     "text": [
      "Accuracy,  1.3054810076146928\n"
     ]
    }
   ],
   "source": [
    "# Lasso \n",
    "for k in [0, 0.01, 0.1]:\n",
    "    lasso = Lasso(alpha=k, max_iter=100000,fit_intercept=False, tol=0.000001 )\n",
    "    results = cross_val_score(lasso, training_data_feature, training_data_target, cv = 10)\n",
    "#     print(results)\n",
    "\n",
    "print(\"Accuracy, \" , results.mean() * 100)"
   ]
  },
  {
   "cell_type": "code",
   "execution_count": 16,
   "metadata": {},
   "outputs": [
    {
     "name": "stdout",
     "output_type": "stream",
     "text": [
      "Accuracy,  3.017164024976703\n"
     ]
    }
   ],
   "source": [
    "# Ridge \n",
    "# kfold cross validation score \n",
    "for k in [0, 0.01, 0.1]:\n",
    "    ridge = Ridge(alpha=k)\n",
    "    results = cross_val_score(ridge, training_data_feature, training_data_target, cv = 10) \n",
    "print(\"Accuracy, \" , results.mean() * 100)"
   ]
  }
 ],
 "metadata": {
  "kernelspec": {
   "display_name": "Python 3",
   "language": "python",
   "name": "python3"
  },
  "language_info": {
   "codemirror_mode": {
    "name": "ipython",
    "version": 3
   },
   "file_extension": ".py",
   "mimetype": "text/x-python",
   "name": "python",
   "nbconvert_exporter": "python",
   "pygments_lexer": "ipython3",
   "version": "3.7.3"
  }
 },
 "nbformat": 4,
 "nbformat_minor": 2
}
