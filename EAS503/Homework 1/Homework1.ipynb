{
 "cells": [
  {
   "cell_type": "markdown",
   "metadata": {},
   "source": [
    "Before you turn this problem in, make sure everything runs as expected. First, **restart the kernel** (in the menubar, select Kernel$\\rightarrow$Restart) and then **run all cells** (in the menubar, select Cell$\\rightarrow$Run All).\n",
    "\n",
    "Make sure you fill in any place that says `YOUR CODE HERE` or \"YOUR ANSWER HERE\", as well as your name and collaborators below:"
   ]
  },
  {
   "cell_type": "code",
   "execution_count": 1,
   "metadata": {},
   "outputs": [],
   "source": [
    "NAME = \"Matthew Sah\"\n",
    "COLLABORATORS = \"\""
   ]
  },
  {
   "cell_type": "markdown",
   "metadata": {},
   "source": [
    "---"
   ]
  },
  {
   "cell_type": "markdown",
   "metadata": {},
   "source": [
    "## Part A (3 points)\n",
    "\n",
    "Write a function that converts tempratues from Fahrenheit to Celsius"
   ]
  },
  {
   "cell_type": "code",
   "execution_count": 2,
   "metadata": {
    "deletable": false,
    "nbgrader": {
     "cell_type": "code",
     "checksum": "b6d06484cbf6e3ab4eb62027ff690798",
     "grade": false,
     "grade_id": "fahrenheit_to_celsius",
     "locked": false,
     "schema_version": 3,
     "solution": true,
     "task": false
    }
   },
   "outputs": [],
   "source": [
    "def fahrenheit_to_celsius(temprature_in_fahrenheit): \n",
    "    return (temprature_in_fahrenheit-32 ) * 5 / 9\n",
    "    raise NotImplementedError()"
   ]
  },
  {
   "cell_type": "code",
   "execution_count": 3,
   "metadata": {
    "deletable": false,
    "editable": false,
    "nbgrader": {
     "cell_type": "code",
     "checksum": "8e19843c12453c4bc0106fb8a1ac9bf8",
     "grade": true,
     "grade_id": "correct_fahrenheit_to_celsius",
     "locked": true,
     "points": 3,
     "schema_version": 3,
     "solution": false,
     "task": false
    }
   },
   "outputs": [],
   "source": [
    "assert fahrenheit_to_celsius(212) == 100\n",
    "assert fahrenheit_to_celsius(32) == 0\n",
    "assert round(fahrenheit_to_celsius(73.4)) == 23.0"
   ]
  },
  {
   "cell_type": "markdown",
   "metadata": {},
   "source": [
    "## Part B (1 points)\n",
    "\n",
    "Write a function that prompts the user using the `input` function to enter temprature in Fahrenheit. This function should use your `fahrenheit_to_celsius` function. It should print the converted value."
   ]
  },
  {
   "cell_type": "code",
   "execution_count": 4,
   "metadata": {
    "deletable": false,
    "nbgrader": {
     "cell_type": "code",
     "checksum": "91fe1794ebcc09eb676b743fdfe5246c",
     "grade": true,
     "grade_id": "prompt_user_for_temperature_in_fahrenheit",
     "locked": false,
     "points": 1,
     "schema_version": 3,
     "solution": true,
     "task": false
    }
   },
   "outputs": [],
   "source": [
    "def prompt_user_for_temperature_in_fahrenheit():\n",
    "    \"\"\"\n",
    "    Function uses the `input` function to prompt user to enter temperature in Fahrenheit. The function will print\n",
    "    the converted value. \n",
    "    \"\"\"\n",
    "    # YOUR CODE HERE\n",
    "    temperaturer = int(input(\"Enter Fahrenheit : \"))\n",
    "    return fahrenheit_to_celsius(temperaturer)\n",
    "    raise NotImplementedError()"
   ]
  },
  {
   "cell_type": "markdown",
   "metadata": {},
   "source": [
    "## Part C (3 points)\n",
    "\n",
    "Write a function that converts distances measured in kilometers to miles. One kilometer is approximately 0.62 miles."
   ]
  },
  {
   "cell_type": "code",
   "execution_count": 5,
   "metadata": {
    "deletable": false,
    "nbgrader": {
     "cell_type": "code",
     "checksum": "920aa041a7733dd3c540e707096676f5",
     "grade": false,
     "grade_id": "km_to_miles",
     "locked": false,
     "schema_version": 3,
     "solution": true,
     "task": false
    }
   },
   "outputs": [],
   "source": [
    "def km_to_miles(distance_in_km):\n",
    "    \"\"\"\n",
    "    Write a function that converts distances measured in kilometers to miles. \n",
    "    One kilometer is approximately 0.62 miles.\n",
    "    \"\"\"\n",
    "    # YOUR CODE HERE \n",
    "    return distance_in_km * 0.62\n",
    "    raise NotImplementedError()"
   ]
  },
  {
   "cell_type": "code",
   "execution_count": 6,
   "metadata": {
    "deletable": false,
    "editable": false,
    "nbgrader": {
     "cell_type": "code",
     "checksum": "c14a10d00ca8dd654c8e1ec0451d5034",
     "grade": true,
     "grade_id": "correct_km_to_miles",
     "locked": true,
     "points": 3,
     "schema_version": 3,
     "solution": false,
     "task": false
    }
   },
   "outputs": [],
   "source": [
    "assert km_to_miles(160) == 99.2\n",
    "assert km_to_miles(40) == 24.8\n",
    "assert km_to_miles(80) == 49.6"
   ]
  },
  {
   "cell_type": "markdown",
   "metadata": {},
   "source": [
    "## Part D (1 points)\n",
    "\n",
    "Write a function that prompts the user using the `input` function to enter distance in kilometers. This function should use your `km_to_miles` function. It should print the converted value."
   ]
  },
  {
   "cell_type": "code",
   "execution_count": 7,
   "metadata": {
    "deletable": false,
    "nbgrader": {
     "cell_type": "code",
     "checksum": "ec02a09c1745587b1034f1e1eb6e2170",
     "grade": true,
     "grade_id": "prompt_user_for_distance_in_kilometers",
     "locked": false,
     "points": 1,
     "schema_version": 3,
     "solution": true,
     "task": false
    }
   },
   "outputs": [],
   "source": [
    "def prompt_user_for_distance_in_kilometers():\n",
    "    \"\"\"\n",
    "    Function uses the `input` function to prompt user to enter distance in kilometers. The function will print\n",
    "    the converted value. \n",
    "    \"\"\"\n",
    "    # YOUR CODE HERE \n",
    "    kilometer = int(input(\"Enter Kilometer : \"))\n",
    "    return km_to_miles(kilometer)\n",
    "    raise NotImplementedError()"
   ]
  },
  {
   "cell_type": "markdown",
   "metadata": {},
   "source": [
    "## Part E (3 points)\n",
    "\n",
    "Write a function that calculates the volume of a sphere given its radius. The formula for volume is: $V = 4/3 \\pi r^3$. Use $\\pi=3.14$. Round the volume to two decimal places. Use the `round` function, e.g., `round(3.1415926535,2)`."
   ]
  },
  {
   "cell_type": "code",
   "execution_count": 8,
   "metadata": {
    "deletable": false,
    "nbgrader": {
     "cell_type": "code",
     "checksum": "229f6e7e0164a09f76282df7d7b1dbb8",
     "grade": false,
     "grade_id": "calculate_sphere_volume",
     "locked": false,
     "schema_version": 3,
     "solution": true,
     "task": false
    }
   },
   "outputs": [],
   "source": [
    "def calculate_sphere_volume(radius):\n",
    "    \"\"\"\n",
    "    Function calcuates the volume of sphere given its radius\n",
    "    \"\"\"\n",
    "    # YOUR CODE HERE \n",
    "    return round(4 / 3 * 3.14 * radius * radius * radius, 2)\n",
    "    raise NotImplementedError()"
   ]
  },
  {
   "cell_type": "code",
   "execution_count": 9,
   "metadata": {
    "deletable": false,
    "editable": false,
    "nbgrader": {
     "cell_type": "code",
     "checksum": "829fef456c21f9df6a08dec7262b4e69",
     "grade": true,
     "grade_id": "correct_calculate_sphere_volume",
     "locked": true,
     "points": 3,
     "schema_version": 3,
     "solution": false,
     "task": false
    }
   },
   "outputs": [],
   "source": [
    "assert calculate_sphere_volume(10) == 4186.67\n",
    "assert calculate_sphere_volume(35) == 179503.33\n",
    "assert calculate_sphere_volume(78) == 1986791.04"
   ]
  },
  {
   "cell_type": "markdown",
   "metadata": {},
   "source": [
    "## Part F (3 points)\n",
    "\n",
    "Write a function that calculates the surface area of a sphere given its radius. The formula for surface area is: $A = 4\\pi r^2$. Use $\\pi=3.14$. Round the surface area to two decimal places. Use the `round` function, e.g., `round(3.1415926535,2)`."
   ]
  },
  {
   "cell_type": "code",
   "execution_count": 10,
   "metadata": {
    "deletable": false,
    "nbgrader": {
     "cell_type": "code",
     "checksum": "d6b42d6a05211bf5a069eba7a14628be",
     "grade": false,
     "grade_id": "calculate_sphere_surface_area",
     "locked": false,
     "schema_version": 3,
     "solution": true,
     "task": false
    }
   },
   "outputs": [],
   "source": [
    "def calculate_sphere_surface_area(radius):\n",
    "    \"\"\"\n",
    "    Function calcuates the surface area of sphere given its radius\n",
    "    \"\"\"\n",
    "    # YOUR CODE HERE \n",
    "    return round( 4 * 3.14 * radius * radius , 2)\n",
    "    raise NotImplementedError()"
   ]
  },
  {
   "cell_type": "code",
   "execution_count": 11,
   "metadata": {
    "deletable": false,
    "editable": false,
    "nbgrader": {
     "cell_type": "code",
     "checksum": "8ea1d40040a14e681574a37dfb2d8747",
     "grade": true,
     "grade_id": "correct_calculate_sphere_surface_area",
     "locked": true,
     "points": 3,
     "schema_version": 3,
     "solution": false,
     "task": false
    }
   },
   "outputs": [],
   "source": [
    "assert calculate_sphere_surface_area(10) == 1256.0\n",
    "assert calculate_sphere_surface_area(35) == 15386.0\n",
    "assert calculate_sphere_surface_area(78) == 76415.04"
   ]
  }
 ],
 "metadata": {
  "kernelspec": {
   "display_name": "Python 3",
   "language": "python",
   "name": "python3"
  },
  "language_info": {
   "codemirror_mode": {
    "name": "ipython",
    "version": 3
   },
   "file_extension": ".py",
   "mimetype": "text/x-python",
   "name": "python",
   "nbconvert_exporter": "python",
   "pygments_lexer": "ipython3",
   "version": "3.6.8"
  }
 },
 "nbformat": 4,
 "nbformat_minor": 2
}
