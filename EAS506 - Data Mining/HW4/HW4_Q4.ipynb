{
 "cells": [
  {
   "cell_type": "markdown",
   "metadata": {},
   "source": [
    "Fit a series of random-forest classifiers to the SPAM data,  to  explore  the  sensitivity  to m  (the  number of  randomly  selected  inputs  for each  tree).     <br> Plot  both  the  OOB  error  as  well  as  the  test  error  against  a  suitably chosen range of values for m."
   ]
  },
  {
   "cell_type": "code",
   "execution_count": 34,
   "metadata": {},
   "outputs": [],
   "source": [
    "import pandas as pd\n",
    "import numpy as np\n",
    "from sklearn.ensemble import RandomForestClassifier\n",
    "from sklearn.model_selection import train_test_split\n",
    "from sklearn.metrics import accuracy_score"
   ]
  },
  {
   "cell_type": "code",
   "execution_count": 3,
   "metadata": {},
   "outputs": [],
   "source": [
    "#random forest classification\n"
   ]
  },
  {
   "cell_type": "code",
   "execution_count": 31,
   "metadata": {},
   "outputs": [],
   "source": [
    "column_list = []\n",
    "for i in range(1 , 59):\n",
    "    column_list.append(\"Column\" + str(i))\n",
    "spam_data = pd.read_csv(\"./SPAM_DATA/spam.csv\", delimiter= \" \" , names= column_list)\n",
    "# spam_data.info()\n",
    "# spam_data = pd.read_csv(\"./SPAM_DATA/spam.csv\", delimiter= \" \" , header = None)"
   ]
  },
  {
   "cell_type": "code",
   "execution_count": 23,
   "metadata": {},
   "outputs": [],
   "source": [
    "spam_target = spam_data.Column58\n",
    "spam_predictor = spam_data.drop(\"Column58\", axis = 1)"
   ]
  },
  {
   "cell_type": "code",
   "execution_count": 32,
   "metadata": {},
   "outputs": [],
   "source": [
    "predictor_train,predictor_test,target_train,target_test=train_test_split(spam_predictor,spam_target,test_size=0.2)"
   ]
  },
  {
   "cell_type": "code",
   "execution_count": 38,
   "metadata": {},
   "outputs": [
    {
     "data": {
      "text/plain": [
       "0.9761129207383279"
      ]
     },
     "execution_count": 38,
     "metadata": {},
     "output_type": "execute_result"
    }
   ],
   "source": [
    "model = RandomForestClassifier(n_estimators = 1000)\n",
    "model.fit(predictor_train, target_train)\n",
    "target_predict = model.predict(predictor_test)\n",
    "accuracy_score(target_test, target_predict)"
   ]
  }
 ],
 "metadata": {
  "kernelspec": {
   "display_name": "Python 3",
   "language": "python",
   "name": "python3"
  },
  "language_info": {
   "codemirror_mode": {
    "name": "ipython",
    "version": 3
   },
   "file_extension": ".py",
   "mimetype": "text/x-python",
   "name": "python",
   "nbconvert_exporter": "python",
   "pygments_lexer": "ipython3",
   "version": "3.7.4"
  }
 },
 "nbformat": 4,
 "nbformat_minor": 4
}
