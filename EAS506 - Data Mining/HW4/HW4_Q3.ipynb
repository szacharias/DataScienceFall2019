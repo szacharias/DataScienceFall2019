{
 "cells": [
  {
   "cell_type": "markdown",
   "metadata": {},
   "source": [
    "Apply  bagging,  boosting,  and  random  forests  to  a  data  set  of  your choice  (not  one  used  in  the  committee  machines  labs).  <br>  Fit  the  models  on  a training  set,  and  evaluate  them  on  a  test  set.   <br> How  accurate  are  these  results compared  tomore  simplistic  (non-ensemble)  methods  (e.g.,  logistic  regression, kNN,  etc)?    <br>What  are  some  advantages  (and  disadvantages)  do  committee machines have related to the data set that you selected?"
   ]
  },
  {
   "cell_type": "code",
   "execution_count": null,
   "metadata": {},
   "outputs": [],
   "source": []
  }
 ],
 "metadata": {
  "kernelspec": {
   "display_name": "Python 3",
   "language": "python",
   "name": "python3"
  },
  "language_info": {
   "codemirror_mode": {
    "name": "ipython",
    "version": 3
   },
   "file_extension": ".py",
   "mimetype": "text/x-python",
   "name": "python",
   "nbconvert_exporter": "python",
   "pygments_lexer": "ipython3",
   "version": "3.7.4"
  }
 },
 "nbformat": 4,
 "nbformat_minor": 4
}
