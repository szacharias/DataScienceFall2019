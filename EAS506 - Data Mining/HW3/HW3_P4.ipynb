{
 "cells": [
  {
   "cell_type": "code",
   "execution_count": 32,
   "metadata": {},
   "outputs": [],
   "source": [
    "import numpy as np \n",
    "import matplotlib.pyplot as plt\n",
    "from sklearn.model_selection import LeaveOneOut # use this lib\n",
    "from sklearn.linear_model import LinearRegression\n",
    "from sklearn.model_selection import KFold  # or just kfold with n \n",
    "from sklearn.metrics import mean_squared_error # MSE calculation (guess,true)\n",
    "import statistics #use statistics.stdev(list)"
   ]
  },
  {
   "cell_type": "code",
   "execution_count": 54,
   "metadata": {},
   "outputs": [
    {
     "name": "stdout",
     "output_type": "stream",
     "text": [
      "<class 'numpy.ndarray'>\n"
     ]
    }
   ],
   "source": [
    "\n",
    "\n",
    "mu, sigma = 0, 1 # mean and standard deviation\n",
    "x = np.random.normal(mu, sigma, 100)\n",
    "y = np.random.normal(mu, sigma, 100) #rnorm"
   ]
  },
  {
   "cell_type": "code",
   "execution_count": 34,
   "metadata": {},
   "outputs": [],
   "source": [
    "index = 0 \n",
    "for i in x :\n",
    "    y_i = i - 2 * i**2 \n",
    "    y_i = y[index] + y_i # plus rnorm\n",
    "    y[index] = y_i\n",
    "    index += 1 \n"
   ]
  },
  {
   "cell_type": "code",
   "execution_count": 35,
   "metadata": {
    "scrolled": true
   },
   "outputs": [
    {
     "data": {
      "image/png": "[encoded data removed]",
      "text/plain": [
       "<Figure size 432x288 with 1 Axes>"
      ]
     },
     "metadata": {
      "needs_background": "light"
     },
     "output_type": "display_data"
    }
   ],
   "source": [
    "# Verify X\n",
    "count, bins, ignored = plt.hist(x, 30, density=True)\n",
    "\n",
    "plt.plot(bins, 1/(sigma * np.sqrt(2 * np.pi)) *\n",
    "               np.exp( - (bins - mu)**2 / (2 * sigma**2) ),\n",
    "         linewidth=2, color='r')\n",
    "plt.show()"
   ]
  },
  {
   "cell_type": "code",
   "execution_count": 36,
   "metadata": {
    "scrolled": true
   },
   "outputs": [
    {
     "data": {
      "image/png": "[encoded data removed]",
      "text/plain": [
       "<Figure size 432x288 with 1 Axes>"
      ]
     },
     "metadata": {
      "needs_background": "light"
     },
     "output_type": "display_data"
    }
   ],
   "source": [
    "# Verify Y\n",
    "count, bins, ignored = plt.hist(y, 30, density=True)\n",
    "\n",
    "plt.plot(bins, 1/(sigma * np.sqrt(2 * np.pi)) *\n",
    "               np.exp( - (bins - mu)**2 / (2 * sigma**2) ),\n",
    "         linewidth=2, color='r')\n",
    "plt.show()"
   ]
  },
  {
   "cell_type": "code",
   "execution_count": 48,
   "metadata": {
    "scrolled": true
   },
   "outputs": [],
   "source": [
    "# Setting up comparision values\n",
    "x_2_base = []\n",
    "x_3_base = []\n",
    "x_4_base = []\n",
    "for i in range(0, len(x)):\n",
    "    x_2_base.append(x[i] ** 2)\n",
    "    x_3_base.append(x[i] ** 3)\n",
    "    x_4_base.append(x[i] ** 4) \n",
    "    \n",
    "x_2 = np.array([x, x_2_base])\n",
    "x_3 = np.array([x, x_2_base, x_3_base])\n",
    "x_4 = np.array([x, x_2_base, x_3_base, x_4_base])\n",
    "\n",
    "# x_2 = []\n",
    "# x_3 = []\n",
    "# x_4 = []\n",
    "# for i in range(0, len(x)): \n",
    "#     x_2.append(x[i] + x[i]**2)\n",
    "# for i in range(0, len(x)): \n",
    "#     x_3.append(x_2[i] + x[i]**3)\n",
    "    \n",
    "# for i in range(0, len(x)): \n",
    "#     x_4.append(x_3[i] + x[i]**4)\n",
    "# x_2 = np.array(x_2)\n",
    "# x_3 = np.array(x_3)\n",
    "# x_4 = np.array(x_4)\n",
    "# print(type(x_2))\n",
    "# print(type(x))\n",
    "# #print(x_3_base) \n"
   ]
  },
  {
   "cell_type": "code",
   "execution_count": 52,
   "metadata": {
    "scrolled": true
   },
   "outputs": [],
   "source": [
    "def LOOCV(x,y):\n",
    "    #print(y)\n",
    "    MSE , STD_DEV = 0 ,0\n",
    "    linReg = LinearRegression()\n",
    "\n",
    "    # leave one out\n",
    "    loocv = LeaveOneOut()\n",
    "\n",
    "    #number of splits\n",
    "    loocv.get_n_splits(x) \n",
    "    x_test_mse_list = []\n",
    "    y_test_mse_list = []\n",
    "    y_pred_lst = []\n",
    "    \n",
    "    try:\n",
    "        ## has columns\n",
    "        #print(x[0][0])\n",
    "        for i in x :\n",
    "            ### TODO \n",
    "            for train_index, test_index in loocv.split(i): \n",
    "                X_train, X_test = i[train_index], i[test_index]\n",
    "                y_train, y_test = y[train_index], y[test_index]   \n",
    "#                 print(\"X_train : \" , X_train,\"\\nX_test:\",  X_test, \"\\n y_train :\", y_train, \"\\n y_test\", y_test)\n",
    "                linReg.fit(X_train.reshape(-1, 1), y_train)\n",
    "                predict = linReg.predict(X_test.reshape(-1, 1))\n",
    "                x_test_mse_list.append(X_test)\n",
    "                y_test_mse_list.append(y_test) \n",
    "                y_pred_lst.append(predict)\n",
    "#         MSE = mean_squared_error(y_test_mse_list, y_pred_lst) \n",
    "#         print(\"column \" ,MSE)\n",
    "#         return MSE\n",
    "\n",
    "            \n",
    "    except:\n",
    "        # single column\n",
    "        for train_index, test_index in loocv.split(x): \n",
    "            X_train, X_test = x[train_index], x[test_index]\n",
    "            y_train, y_test = y[train_index], y[test_index]    \n",
    "            linReg.fit(X_train.reshape(-1, 1), y_train)\n",
    "            predict = linReg.predict(X_test.reshape(-1, 1)) \n",
    "#             print(\"X_train : \" , X_train,\"\\nX_test:\",  X_test, \"\\n y_train :\", y_train, \"\\n y_test\", y_test)\n",
    "            x_test_mse_list.append(X_test)\n",
    "            y_test_mse_list.append(y_test) \n",
    "            y_pred_lst.append(predict) \n",
    "\n",
    "    MSE = mean_squared_error(y_test_mse_list, y_pred_lst) \n",
    "#     print(MSE) \n",
    "    return MSE\n"
   ]
  },
  {
   "cell_type": "code",
   "execution_count": 53,
   "metadata": {},
   "outputs": [
    {
     "name": "stdout",
     "output_type": "stream",
     "text": [
      "x1 :  15.247909406047418\n",
      "x2 :  9.051634889078853\n",
      "x3 :  11.673970471331907\n",
      "x4 :  9.952449740354645\n"
     ]
    }
   ],
   "source": [
    "\n",
    "x1_mse  = LOOCV(x  , y)\n",
    "x2_mse  = LOOCV(x_2, y)\n",
    "x3_mse  = LOOCV(x_3, y)\n",
    "x4_mse  = LOOCV(x_4, y)\n",
    "\n",
    "\n",
    "print(\"x1 : \",x1_mse)\n",
    "print(\"x2 : \",x2_mse)\n",
    "print(\"x3 : \",x3_mse)\n",
    "print(\"x4 : \",x4_mse)\n",
    "\n"
   ]
  },
  {
   "cell_type": "code",
   "execution_count": 40,
   "metadata": {},
   "outputs": [],
   "source": [
    "def count_mse(x,y):\n",
    "    #print(y)\n",
    "    MSE , STD_DEV = 0 ,0\n",
    "    \n",
    "    # leave one out\n",
    "    loocv = LeaveOneOut()\n",
    "\n",
    "    #number of splits\n",
    "    loocv.get_n_splits(x) \n",
    "    x_test_mse_list = []\n",
    "    y_test_mse_list = []\n",
    "    \n",
    "    try:\n",
    "        ## has columns\n",
    "#         print(x[0][0])\n",
    "        for i in x :\n",
    "            ### TODO \n",
    "            for train_index, test_index in loocv.split(i): \n",
    "                X_train, X_test = i[train_index], i[test_index]\n",
    "                y_train, y_test = y[train_index], y[test_index]   \n",
    "#                 print(\"X_train : \" , X_train,\"\\nX_test:\",  X_test, \"\\n y_train :\", y_train, \"\\n y_test\", y_test)\n",
    "                x_test_mse_list.append(X_test)\n",
    "                y_test_mse_list.append(y_test)\n",
    "            \n",
    "    except:\n",
    "        # single column\n",
    "        for train_index, test_index in loocv.split(x): \n",
    "            X_train, X_test = x[train_index], x[test_index]\n",
    "            y_train, y_test = y[train_index], y[test_index]   \n",
    "#             print(\"X_train : \" , X_train,\"\\nX_test:\",  X_test, \"\\n y_train :\", y_train, \"\\n y_test\", y_test)\n",
    "            x_test_mse_list.append(X_test)\n",
    "            y_test_mse_list.append(y_test)\n",
    "    #print(y_test_mse_list)\n",
    "    \n",
    "    std_dev_list = []  \n",
    "    x_test_mse_list = np.asarray(x_test_mse_list) \n",
    "    is_column = False\n",
    "    for i in range(0 , len(x_test_mse_list)): \n",
    "        try:\n",
    "            std_dev_list_columns = []\n",
    "            for x in range(0 , len(x_test_mse_list[i])): \n",
    "\n",
    "                for q in range(0, len(x_test_mse_list[i][x])): \n",
    "                    std_dev_list_columns.append(x_test_mse_list[i][x][q])\n",
    "            std_dev_list.append(std_dev_list_columns)\n",
    "        except:\n",
    "            std_dev_list.append(x_test_mse_list[i][0])\n",
    "            is_column = True\n",
    "            pass\n",
    "         \n",
    "    #print(\"is column?\" , is_column)\n",
    "    if is_column is False:\n",
    "        mean_square_error_list = []\n",
    "        for i in std_dev_list: \n",
    "            #print(\"i\", i , \"\\ny_test_mse_list\" , y_test_mse_list)\n",
    "            mean_square_error_list.append(mean_squared_error(i, y_test_mse_list)) \n",
    "        MSE = sum(mean_square_error_list) / len(mean_square_error_list)\n",
    "    else: \n",
    "        #print(\"std_dev_list\" , std_dev_list , \"\\ny_test_mse_list\" , y_test_mse_list)\n",
    "        MSE = mean_squared_error(std_dev_list, y_test_mse_list)\n",
    "    print(MSE)\n",
    "    return MSE, STD_DEV\n",
    "# x2_mse , x2_std_dev = count_mse(x_2, y)\n",
    "\n",
    "#x1_mse , x1_std_dev = count_mse(x,y)"
   ]
  },
  {
   "cell_type": "code",
   "execution_count": 41,
   "metadata": {
    "scrolled": false
   },
   "outputs": [
    {
     "name": "stdout",
     "output_type": "stream",
     "text": [
      "23.27766285723733\n"
     ]
    }
   ],
   "source": [
    "x1_mse , x1_std_dev = count_mse(x,y)"
   ]
  },
  {
   "cell_type": "code",
   "execution_count": 42,
   "metadata": {
    "scrolled": false
   },
   "outputs": [
    {
     "name": "stdout",
     "output_type": "stream",
     "text": [
      "49.458800221633616\n"
     ]
    }
   ],
   "source": [
    "x2_mse , x2_std_dev = count_mse(x_2, y) "
   ]
  },
  {
   "cell_type": "code",
   "execution_count": 43,
   "metadata": {
    "scrolled": false
   },
   "outputs": [
    {
     "name": "stdout",
     "output_type": "stream",
     "text": [
      "66.61517916539374\n"
     ]
    }
   ],
   "source": [
    "x3_mse , x3_std_dev = count_mse(x_3, y)"
   ]
  },
  {
   "cell_type": "code",
   "execution_count": 44,
   "metadata": {
    "scrolled": false
   },
   "outputs": [
    {
     "name": "stdout",
     "output_type": "stream",
     "text": [
      "375.67775979394435\n"
     ]
    }
   ],
   "source": [
    "x4_mse , x4_std_dev = count_mse(x_4, y)"
   ]
  },
  {
   "cell_type": "code",
   "execution_count": 45,
   "metadata": {},
   "outputs": [],
   "source": [
    "def count_mse_new(x, y):\n",
    "    MSE = 0\n",
    "    \n",
    "    loocv = LeaveOneOut()\n",
    "    \n",
    "#     print(loocv.get_n_splits(x) )\n",
    "    has_columns = False\n",
    "    try:\n",
    "    # Solves x2\n",
    "#         print(x[0][0]) \n",
    "        has_columns = True \n",
    "        all_x_test_lst = []\n",
    "        y_test_lst = []\n",
    "        y_has_value = False\n",
    "        for columns in x: \n",
    "            x_test_lst = []\n",
    "#             print( \"Length of Columns \" , loocv.get_n_splits(columns) ) \n",
    "            for train_index, test_index in loocv.split(columns): \n",
    "                 \n",
    "                X_train, X_test = columns[train_index], columns[test_index]\n",
    "                y_train, y_test = y[train_index], y[test_index]   \n",
    "#                 print(\"X_train : \" , X_train,\"\\nX_test:\",  X_test, \"\\n y_train :\", y_train, \"\\n y_test\", y_test)\n",
    "                x_test_lst.append(X_test)\n",
    "    \n",
    "                if y_has_value is False:\n",
    "                    y_test_lst.append(y_test) \n",
    "            y_has_value = True\n",
    "            all_x_test_lst.append(x_test_lst) \n",
    "#         print(\"all_x_test_lst\" , all_x_test_lst[0]) \n",
    "#         print(\"all_x_test_lst\" , all_x_test_lst[1]) \n",
    "#         print(\"y_test_lst\" , y_test_lst)\n",
    "        print(len(all_x_test_lst))\n",
    "    \n",
    "        \n",
    "        \n",
    "#         print(calculateMSEAddition(all_x_test_lst,y_test_lst ))\n",
    "#         print(calculateMSEAverage(all_x_test_lst,y_test_lst ))\n",
    "        MSE = calculateMSEAverage(all_x_test_lst,y_test_lst )\n",
    "        print(MSE)\n",
    "\n",
    "#         cumulate_MSE = []\n",
    "#         for i in all_x_test_lst:\n",
    "#             temp_mse = mean_squared_error(i, y_test_lst) \n",
    "#             cumulate_MSE.append(temp_mse)\n",
    "#         temp_MSE = sum(cumulate_MSE) / len(cumulate_MSE)\n",
    "#         print(temp_MSE)\n",
    "    \n",
    "#         # Calculate MSE \n",
    "#         #real_x is cumulated from x1~x4\n",
    "#         real_x = []\n",
    "# #         print(len(all_x_test_lst))\n",
    "#         for rows in range(0, len(all_x_test_lst[0])): \n",
    "#             local_total = 0\n",
    "#             for columns in range(0, len(all_x_test_lst)):\n",
    "#                 local_total +=  all_x_test_lst[columns][rows]\n",
    "# #             real_x.append(local_total/ (len(all_x_test_lst)))\n",
    "#             real_x.append(local_total)\n",
    "# #         print(len(real_x))\n",
    "# #         print(\"real_x\",real_x)\n",
    "# #         print(\"y_test_list\" , y_test_lst)\n",
    "# #         print(\"len(all_x_test_lst)\" , len(all_x_test_lst))\n",
    "#         MSE = mean_squared_error(real_x, y_test_lst) \n",
    "    \n",
    "        \n",
    "    # Solves x1\n",
    "#     except Exception as e:\n",
    "    except Exception as e: \n",
    "        x_test_lst = []\n",
    "        y_test_lst = []\n",
    "        for train_index, test_index in loocv.split(x): \n",
    "                 \n",
    "            X_train, X_test = x[train_index], x[test_index]\n",
    "            y_train, y_test = y[train_index], y[test_index]   \n",
    "#             print(\"X_train : \" , X_train,\"\\nX_test:\",  X_test, \"\\n y_train :\", y_train, \"\\n y_test\", y_test)\n",
    "            x_test_lst.append(X_test)\n",
    "            y_test_lst.append(y_test)\n",
    "        MSE = mean_squared_error(x_test_lst, y_test_lst)\n",
    "        print(MSE)\n",
    "#         print(e)\n",
    "    \n",
    "    print(\"\\n\")\n",
    "    return MSE\n",
    "# x1_mse  = count_mse_new(x,y)\n",
    "# x2_mse  = count_mse_new(x_2, y)\n",
    "# x3_mse  = count_mse_new(x_3, y)\n",
    "# x4_mse  = count_mse_new(x_4, y)"
   ]
  },
  {
   "cell_type": "code",
   "execution_count": 46,
   "metadata": {},
   "outputs": [],
   "source": [
    "def calculateMSEAddition(all_x_test_lst,y_test_lst ):\n",
    "    real_x = [] \n",
    "    for rows in range(0, len(all_x_test_lst[0])): \n",
    "        local_total = 0\n",
    "        for columns in range(0, len(all_x_test_lst)):\n",
    "            local_total +=  all_x_test_lst[columns][rows]\n",
    "#             real_x.append(local_total/ (len(all_x_test_lst)))\n",
    "        real_x.append(local_total) \n",
    "    MSE = mean_squared_error(real_x, y_test_lst) \n",
    "    return MSE\n"
   ]
  },
  {
   "cell_type": "code",
   "execution_count": 47,
   "metadata": {},
   "outputs": [],
   "source": [
    "def calculateMSEAverage(all_x_test_lst , y_test_lst):\n",
    "    cumulate_MSE = []\n",
    "    for i in all_x_test_lst:\n",
    "        temp_mse = mean_squared_error(i, y_test_lst) \n",
    "        cumulate_MSE.append(temp_mse)\n",
    "    temp_MSE = sum(cumulate_MSE) / len(cumulate_MSE)\n",
    "#     print(temp_MSE)\n",
    "        \n",
    "    \n",
    "    return temp_MSE"
   ]
  }
 ],
 "metadata": {
  "kernelspec": {
   "display_name": "Python 3",
   "language": "python",
   "name": "python3"
  },
  "language_info": {
   "codemirror_mode": {
    "name": "ipython",
    "version": 3
   },
   "file_extension": ".py",
   "mimetype": "text/x-python",
   "name": "python",
   "nbconvert_exporter": "python",
   "pygments_lexer": "ipython3",
   "version": "3.7.4"
  }
 },
 "nbformat": 4,
 "nbformat_minor": 2
}
