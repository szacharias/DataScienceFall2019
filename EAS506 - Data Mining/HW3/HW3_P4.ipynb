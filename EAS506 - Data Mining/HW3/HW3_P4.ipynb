{
 "cells": [
  {
   "cell_type": "code",
   "execution_count": 39,
   "metadata": {},
   "outputs": [],
   "source": [
    "import numpy as np \n",
    "import matplotlib.pyplot as plt\n",
    "from sklearn.model_selection import LeaveOneOut # use this lib\n",
    "from sklearn.model_selection import KFold  # or just kfold with n \n",
    "from sklearn.metrics import mean_squared_error # MSE calculation (guess,true)\n",
    "import statistics #use statistics.stdev(list)"
   ]
  },
  {
   "cell_type": "code",
   "execution_count": 41,
   "metadata": {},
   "outputs": [],
   "source": [
    "\n",
    "\n",
    "mu, sigma = 0, 1 # mean and standard deviation\n",
    "x = np.random.normal(mu, sigma, 100)\n",
    "y = np.random.normal(mu, sigma, 100)"
   ]
  },
  {
   "cell_type": "code",
   "execution_count": 42,
   "metadata": {},
   "outputs": [],
   "source": [
    "index = 0 \n",
    "for i in x :\n",
    "    y_i = i - 2 * i**2 \n",
    "    y_i = y[index] + y_i\n",
    "    y[index] = y_i\n",
    "    index += 1 \n"
   ]
  },
  {
   "cell_type": "code",
   "execution_count": 43,
   "metadata": {
    "scrolled": true
   },
   "outputs": [
    {
     "data": {
      "image/png": "[encoded data removed]",
      "text/plain": [
       "<Figure size 432x288 with 1 Axes>"
      ]
     },
     "metadata": {
      "needs_background": "light"
     },
     "output_type": "display_data"
    }
   ],
   "source": [
    "# Verify X\n",
    "count, bins, ignored = plt.hist(x, 30, density=True)\n",
    "\n",
    "plt.plot(bins, 1/(sigma * np.sqrt(2 * np.pi)) *\n",
    "               np.exp( - (bins - mu)**2 / (2 * sigma**2) ),\n",
    "         linewidth=2, color='r')\n",
    "plt.show()"
   ]
  },
  {
   "cell_type": "code",
   "execution_count": 44,
   "metadata": {
    "scrolled": true
   },
   "outputs": [
    {
     "data": {
      "image/png": "[encoded data removed]",
      "text/plain": [
       "<Figure size 432x288 with 1 Axes>"
      ]
     },
     "metadata": {
      "needs_background": "light"
     },
     "output_type": "display_data"
    }
   ],
   "source": [
    "# Verify Y\n",
    "count, bins, ignored = plt.hist(y, 30, density=True)\n",
    "\n",
    "plt.plot(bins, 1/(sigma * np.sqrt(2 * np.pi)) *\n",
    "               np.exp( - (bins - mu)**2 / (2 * sigma**2) ),\n",
    "         linewidth=2, color='r')\n",
    "plt.show()"
   ]
  },
  {
   "cell_type": "code",
   "execution_count": 45,
   "metadata": {
    "scrolled": true
   },
   "outputs": [],
   "source": [
    "# Setting up comparision values\n",
    "x_2_base = []\n",
    "x_3_base = []\n",
    "x_4_base = []\n",
    "for i in range(0, len(x)):\n",
    "    x_2_base.append(x[i] ** 2)\n",
    "    x_3_base.append(x[i] ** 3)\n",
    "    x_4_base.append(x[i] ** 4) \n",
    "    \n",
    "x_2 = np.array([x, x_2_base])\n",
    "x_3 = np.array([x, x_2_base, x_3_base])\n",
    "x_4 = np.array([x, x_2_base, x_3_base, x_4_base])\n",
    "\n",
    "#print(x_3_base) \n"
   ]
  },
  {
   "cell_type": "code",
   "execution_count": 80,
   "metadata": {},
   "outputs": [
    {
     "name": "stdout",
     "output_type": "stream",
     "text": [
      "2\n",
      "1.097837840321745\n",
      "Length of Columns  100\n",
      "Length of Columns  100\n",
      "all_x_test_lst [array([1.09783784]), array([0.84075611]), array([-0.67181146]), array([-0.4930802]), array([0.0411682]), array([-0.10614912]), array([1.45445885]), array([2.05947727]), array([0.79061823]), array([-0.52114719]), array([2.16062148]), array([1.21567065]), array([-1.06948586]), array([-0.37477997]), array([1.29569775]), array([0.16146778]), array([0.02456146]), array([1.42034655]), array([-0.61435396]), array([-0.03893694]), array([-1.96044234]), array([-0.51439114]), array([0.83857286]), array([0.74919631]), array([-0.46718048]), array([-0.04313513]), array([0.65148254]), array([0.92055712]), array([-0.80357853]), array([0.00521482]), array([-0.18584448]), array([0.5013432]), array([1.01336886]), array([-0.52861376]), array([-0.34802842]), array([0.85969126]), array([-0.2564604]), array([1.2186469]), array([-0.48638526]), array([0.72680567]), array([-0.62234692]), array([0.80406223]), array([1.96570623]), array([0.2871451]), array([0.60577645]), array([-1.91379306]), array([-1.08278278]), array([0.09449669]), array([-0.1739177]), array([0.22798208]), array([-0.65533567]), array([0.35603665]), array([-0.70922541]), array([-0.08505413]), array([0.38525711]), array([0.9058447]), array([1.50187702]), array([1.02438629]), array([0.53033167]), array([0.9815443]), array([0.53769119]), array([0.08441876]), array([0.55146782]), array([1.26844172]), array([1.41203231]), array([0.9952619]), array([0.10801372]), array([-0.26105597]), array([2.33276452]), array([-0.50484365]), array([-0.98843694]), array([0.36160224]), array([-0.50761142]), array([0.38320142]), array([-0.4607938]), array([-0.84234381]), array([0.02541169]), array([1.31941504]), array([0.67396312]), array([-0.57323026]), array([-1.36619477]), array([0.59212658]), array([-0.38051894]), array([0.49040974]), array([0.98546413]), array([0.58325745]), array([-1.14796079]), array([1.16415186]), array([1.13264371]), array([-1.46807361]), array([-0.91334847]), array([-0.29832926]), array([0.44846106]), array([0.91650477]), array([-0.28950359]), array([2.4554262]), array([0.18185036]), array([-0.00773404]), array([-0.57278341]), array([0.3033104])]\n",
      "all_x_test_lst [array([1.20524792]), array([0.70687083]), array([0.45133064]), array([0.24312808]), array([0.00169482]), array([0.01126764]), array([2.11545055]), array([4.24144662]), array([0.62507718]), array([0.27159439]), array([4.66828518]), array([1.47785513]), array([1.14380001]), array([0.14046003]), array([1.67883265]), array([0.02607184]), array([0.00060327]), array([2.01738433]), array([0.37743079]), array([0.00151609]), array([3.84333419]), array([0.26459824]), array([0.70320444]), array([0.5612951]), array([0.21825761]), array([0.00186064]), array([0.4244295]), array([0.8474254]), array([0.64573846]), array([2.71943049e-05]), array([0.03453817]), array([0.251345]), array([1.02691645]), array([0.2794325]), array([0.12112378]), array([0.73906906]), array([0.06577194]), array([1.48510026]), array([0.23657062]), array([0.52824648]), array([0.38731569]), array([0.64651607]), array([3.86400097]), array([0.08245231]), array([0.36696511]), array([3.66260388]), array([1.17241854]), array([0.00892962]), array([0.03024737]), array([0.05197583]), array([0.42946484]), array([0.1267621]), array([0.50300068]), array([0.0072342]), array([0.14842304]), array([0.82055463]), array([2.25563459]), array([1.04936727]), array([0.28125168]), array([0.96342921]), array([0.28911182]), array([0.00712653]), array([0.30411676]), array([1.60894439]), array([1.99383524]), array([0.99054625]), array([0.01166696]), array([0.06815022]), array([5.44179031]), array([0.25486711]), array([0.97700759]), array([0.13075618]), array([0.25766935]), array([0.14684333]), array([0.21233093]), array([0.70954309]), array([0.00064575]), array([1.74085604]), array([0.45422628]), array([0.32859293]), array([1.86648816]), array([0.35061389]), array([0.14479466]), array([0.24050172]), array([0.97113955]), array([0.34018926]), array([1.31781397]), array([1.35524955]), array([1.28288178]), array([2.15524013]), array([0.83420542]), array([0.08900035]), array([0.20111732]), array([0.839981]), array([0.08381233]), array([6.02911783]), array([0.03306955]), array([5.98153472e-05]), array([0.32808084]), array([0.0919972])]\n",
      "y_test_lst [array([-1.68290786]), array([0.25632662]), array([-1.72932164]), array([-0.51181548]), array([-1.06370592]), array([0.244353]), array([-2.57311723]), array([-6.7156922]), array([0.7733914]), array([-0.20973453]), array([-7.52125444]), array([-0.92666757]), array([-1.80589224]), array([-0.79777699]), array([-1.44011638]), array([-0.60243325]), array([-0.05815395]), array([-1.97499291]), array([-0.59065307]), array([0.54740106]), array([-10.66179212]), array([-2.66998388]), array([-1.16503054]), array([-1.06738292]), array([-1.12070069]), array([-0.05303838]), array([0.62328301]), array([1.02970779]), array([-2.20583992]), array([0.65726054]), array([-0.9350395]), array([1.49117332]), array([-0.62410026]), array([-1.9603719]), array([-0.52657522]), array([-1.49853456]), array([-1.73113053]), array([-2.33423483]), array([-1.56901542]), array([-0.77155437]), array([-0.95891289]), array([-0.67564955]), array([-5.12446524]), array([0.81346277]), array([-1.04796171]), array([-9.58221237]), array([-2.92920326]), array([1.16825671]), array([-1.22185663]), array([2.22596521]), array([-0.28507441]), array([-0.20505347]), array([-2.52825336]), array([-0.68057864]), array([-0.30797959]), array([1.21014664]), array([-2.19616454]), array([-2.55838786]), array([3.2322971]), array([-2.24623394]), array([-0.40773176]), array([1.0754484]), array([-0.61130685]), array([-3.4937322]), array([-1.9368552]), array([-0.40741665]), array([-1.93892362]), array([-0.49399379]), array([-7.30142423]), array([-1.16905904]), array([-1.64178012]), array([-0.52323111]), array([-1.83692777]), array([-1.54110639]), array([-0.36485903]), array([-2.18126353]), array([-0.62923938]), array([-1.17216959]), array([-0.51762588]), array([-0.19237101]), array([-4.70237363]), array([-2.02096917]), array([0.88486143]), array([0.74501617]), array([-0.04311058]), array([1.06215914]), array([-4.58922861]), array([-0.45740377]), array([-0.71281773]), array([-6.55735857]), array([-1.86249314]), array([1.04525821]), array([0.50668896]), array([-0.5635096]), array([0.79045302]), array([-10.06110546]), array([-0.31487975]), array([-0.31975665]), array([1.17704435]), array([1.63885038])]\n",
      "2\n",
      "100\n",
      "19.40514976810734\n",
      "\n",
      "\n"
     ]
    }
   ],
   "source": [
    "def count_mse_new(x, y):\n",
    "    MSE = 0\n",
    "    \n",
    "    loocv = LeaveOneOut()\n",
    "    \n",
    "    print(loocv.get_n_splits(x) )\n",
    "    has_columns = False\n",
    "    try:\n",
    "    # Solves x2\n",
    "        print(x[0][0]) \n",
    "        has_columns = True \n",
    "        all_x_test_lst = []\n",
    "        y_test_lst = []\n",
    "        y_has_value = False\n",
    "        for columns in x: \n",
    "            x_test_lst = []\n",
    "            print( \"Length of Columns \" , loocv.get_n_splits(columns) ) \n",
    "            for train_index, test_index in loocv.split(columns): \n",
    "                 \n",
    "                X_train, X_test = columns[train_index], columns[test_index]\n",
    "                y_train, y_test = y[train_index], y[test_index]   \n",
    "#                 print(\"X_train : \" , X_train,\"\\nX_test:\",  X_test, \"\\n y_train :\", y_train, \"\\n y_test\", y_test)\n",
    "                x_test_lst.append(X_test)\n",
    "    \n",
    "                if y_has_value is False:\n",
    "                    y_test_lst.append(y_test) \n",
    "            y_has_value = True\n",
    "            all_x_test_lst.append(x_test_lst) \n",
    "        print(\"all_x_test_lst\" , all_x_test_lst[0]) \n",
    "        print(\"all_x_test_lst\" , all_x_test_lst[1]) \n",
    "        print(\"y_test_lst\" , y_test_lst)\n",
    "        \n",
    "#         # Calculate MSE \n",
    "        real_x = []\n",
    "        print(len(all_x_test_lst))\n",
    "        for rows in range(0, len(all_x_test_lst[0])): \n",
    "            local_total = 0\n",
    "            for columns in range(0, len(all_x_test_lst)):\n",
    "                local_total +=  all_x_test_lst[columns][rows]\n",
    "            real_x.append(local_total)\n",
    "        print(len(real_x))\n",
    "        MSE = mean_squared_error(real_x, y_test_lst)\n",
    "        print(MSE)\n",
    "\n",
    "        \n",
    "    # Solves x1\n",
    "#     except Exception as e:\n",
    "    except Exception as e:\n",
    "        x_test_lst = []\n",
    "        y_test_lst = []\n",
    "        for train_index, test_index in loocv.split(x): \n",
    "                 \n",
    "            X_train, X_test = x[train_index], x[test_index]\n",
    "            y_train, y_test = y[train_index], y[test_index]   \n",
    "#             print(\"X_train : \" , X_train,\"\\nX_test:\",  X_test, \"\\n y_train :\", y_train, \"\\n y_test\", y_test)\n",
    "            x_test_lst.append(X_test)\n",
    "            y_test_lst.append(y_test)\n",
    "        MSE = mean_squared_error(x_test_lst, y_test_lst)\n",
    "        print(MSE)\n",
    "#         print(e)\n",
    "    \n",
    "    print(\"\\n\")\n",
    "    return MSE\n",
    "# x1_mse  = count_mse_new(x,y)\n",
    "x2_mse  = count_mse_new(x_2, y)\n",
    "# x4_mse  = count_mse_new(x_4, y)"
   ]
  },
  {
   "cell_type": "code",
   "execution_count": 19,
   "metadata": {},
   "outputs": [
    {
     "name": "stdout",
     "output_type": "stream",
     "text": [
      "26.450607079373\n"
     ]
    }
   ],
   "source": [
    "def count_mse(x,y):\n",
    "    #print(y)\n",
    "    MSE , STD_DEV = 0 ,0\n",
    "    \n",
    "    # leave one out\n",
    "    loocv = LeaveOneOut()\n",
    "\n",
    "    #number of splits\n",
    "    loocv.get_n_splits(x) \n",
    "    x_test_mse_list = []\n",
    "    y_test_mse_list = []\n",
    "    \n",
    "    try:\n",
    "        ## has columns\n",
    "#         print(x[0][0])\n",
    "        for i in x :\n",
    "            ### TODO \n",
    "            for train_index, test_index in loocv.split(i): \n",
    "                X_train, X_test = i[train_index], i[test_index]\n",
    "                y_train, y_test = y[train_index], y[test_index]   \n",
    "#                 print(\"X_train : \" , X_train,\"\\nX_test:\",  X_test, \"\\n y_train :\", y_train, \"\\n y_test\", y_test)\n",
    "                x_test_mse_list.append(X_test)\n",
    "                y_test_mse_list.append(y_test)\n",
    "            \n",
    "    except:\n",
    "        # single column\n",
    "        for train_index, test_index in loocv.split(x): \n",
    "            X_train, X_test = x[train_index], x[test_index]\n",
    "            y_train, y_test = y[train_index], y[test_index]   \n",
    "#             print(\"X_train : \" , X_train,\"\\nX_test:\",  X_test, \"\\n y_train :\", y_train, \"\\n y_test\", y_test)\n",
    "            x_test_mse_list.append(X_test)\n",
    "            y_test_mse_list.append(y_test)\n",
    "    #print(y_test_mse_list)\n",
    "    \n",
    "    std_dev_list = []  \n",
    "    x_test_mse_list = np.asarray(x_test_mse_list) \n",
    "    is_column = False\n",
    "    for i in range(0 , len(x_test_mse_list)): \n",
    "        try:\n",
    "            std_dev_list_columns = []\n",
    "            for x in range(0 , len(x_test_mse_list[i])): \n",
    "\n",
    "                for q in range(0, len(x_test_mse_list[i][x])): \n",
    "                    std_dev_list_columns.append(x_test_mse_list[i][x][q])\n",
    "            std_dev_list.append(std_dev_list_columns)\n",
    "        except:\n",
    "            std_dev_list.append(x_test_mse_list[i][0])\n",
    "            is_column = True\n",
    "            pass\n",
    "         \n",
    "    #print(\"is column?\" , is_column)\n",
    "    if is_column is False:\n",
    "        mean_square_error_list = []\n",
    "        for i in std_dev_list: \n",
    "            #print(\"i\", i , \"\\ny_test_mse_list\" , y_test_mse_list)\n",
    "            mean_square_error_list.append(mean_squared_error(i, y_test_mse_list)) \n",
    "        MSE = sum(mean_square_error_list) / len(mean_square_error_list)\n",
    "    else: \n",
    "        #print(\"std_dev_list\" , std_dev_list , \"\\ny_test_mse_list\" , y_test_mse_list)\n",
    "        MSE = mean_squared_error(std_dev_list, y_test_mse_list)\n",
    "    print(MSE)\n",
    "    return MSE, STD_DEV\n",
    "x2_mse , x2_std_dev = count_mse(x_2, y)\n",
    "\n",
    "#x1_mse , x1_std_dev = count_mse(x,y)"
   ]
  },
  {
   "cell_type": "code",
   "execution_count": 49,
   "metadata": {
    "scrolled": false
   },
   "outputs": [
    {
     "name": "stdout",
     "output_type": "stream",
     "text": [
      "9.02288302201405\n"
     ]
    }
   ],
   "source": [
    "x1_mse , x1_std_dev = count_mse(x,y)"
   ]
  },
  {
   "cell_type": "code",
   "execution_count": 81,
   "metadata": {
    "scrolled": false
   },
   "outputs": [
    {
     "name": "stdout",
     "output_type": "stream",
     "text": [
      "12.82042730741493\n"
     ]
    }
   ],
   "source": [
    "x2_mse , x2_std_dev = count_mse(x_2, y)\n",
    "# 因為line13沒有拆解到全部的所以會錯"
   ]
  },
  {
   "cell_type": "code",
   "execution_count": 47,
   "metadata": {
    "scrolled": false
   },
   "outputs": [
    {
     "name": "stdout",
     "output_type": "stream",
     "text": [
      "15.57768000339742\n"
     ]
    }
   ],
   "source": [
    "x3_mse , x3_std_dev = count_mse(x_3, y)"
   ]
  },
  {
   "cell_type": "code",
   "execution_count": 46,
   "metadata": {
    "scrolled": true
   },
   "outputs": [
    {
     "name": "stdout",
     "output_type": "stream",
     "text": [
      "29.88277397767877\n"
     ]
    }
   ],
   "source": [
    "x4_mse , x4_std_dev = count_mse(x_4, y)"
   ]
  }
 ],
 "metadata": {
  "kernelspec": {
   "display_name": "Python 3",
   "language": "python",
   "name": "python3"
  },
  "language_info": {
   "codemirror_mode": {
    "name": "ipython",
    "version": 3
   },
   "file_extension": ".py",
   "mimetype": "text/x-python",
   "name": "python",
   "nbconvert_exporter": "python",
   "pygments_lexer": "ipython3",
   "version": "3.7.4"
  }
 },
 "nbformat": 4,
 "nbformat_minor": 2
}
