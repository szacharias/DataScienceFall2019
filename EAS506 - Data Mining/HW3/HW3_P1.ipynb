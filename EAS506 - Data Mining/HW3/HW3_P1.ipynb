{
 "cells": [
  {
   "cell_type": "code",
   "execution_count": 18,
   "metadata": {},
   "outputs": [],
   "source": [
    "\n",
    "\n",
    "# %load ../standard_import.txt\n",
    "import pandas as pd\n",
    "import numpy as np\n",
    "import matplotlib.pyplot as plt\n",
    "import seaborn as sns\n",
    "import time\n",
    " \n",
    "#from IPython.display import Image\n",
    "\n",
    "from sklearn.model_selection import train_test_split, cross_val_score\n",
    "from sklearn.externals.six import StringIO  \n",
    "from sklearn.linear_model import LogisticRegression\n",
    "from sklearn.discriminant_analysis import LinearDiscriminantAnalysis as LDA\n",
    "from sklearn.neighbors import KNeighborsClassifier as KNN\n",
    "from sklearn.tree import DecisionTreeRegressor, DecisionTreeClassifier, export_graphviz\n",
    "from sklearn.ensemble import BaggingClassifier, RandomForestClassifier, BaggingRegressor, RandomForestRegressor, GradientBoostingRegressor\n",
    "from sklearn.metrics import mean_squared_error,confusion_matrix, classification_report\n",
    "\n",
    "\n",
    "#glm\n",
    "import statsmodels.api as sm"
   ]
  },
  {
   "cell_type": "markdown",
   "metadata": {},
   "source": [
    "Data Preprocess\n"
   ]
  },
  {
   "cell_type": "code",
   "execution_count": 19,
   "metadata": {
    "scrolled": false
   },
   "outputs": [
    {
     "data": {
      "text/html": [
       "<div>\n",
       "<style scoped>\n",
       "    .dataframe tbody tr th:only-of-type {\n",
       "        vertical-align: middle;\n",
       "    }\n",
       "\n",
       "    .dataframe tbody tr th {\n",
       "        vertical-align: top;\n",
       "    }\n",
       "\n",
       "    .dataframe thead th {\n",
       "        text-align: right;\n",
       "    }\n",
       "</style>\n",
       "<table border=\"1\" class=\"dataframe\">\n",
       "  <thead>\n",
       "    <tr style=\"text-align: right;\">\n",
       "      <th></th>\n",
       "      <th>crim</th>\n",
       "      <th>zn</th>\n",
       "      <th>indus</th>\n",
       "      <th>chas</th>\n",
       "      <th>nox</th>\n",
       "      <th>rm</th>\n",
       "      <th>age</th>\n",
       "      <th>dis</th>\n",
       "      <th>rad</th>\n",
       "      <th>tax</th>\n",
       "      <th>ptratio</th>\n",
       "      <th>black</th>\n",
       "      <th>lstat</th>\n",
       "      <th>medv</th>\n",
       "    </tr>\n",
       "  </thead>\n",
       "  <tbody>\n",
       "    <tr>\n",
       "      <td>0</td>\n",
       "      <td>0.00632</td>\n",
       "      <td>18.0</td>\n",
       "      <td>2.31</td>\n",
       "      <td>0</td>\n",
       "      <td>0.538</td>\n",
       "      <td>6.575</td>\n",
       "      <td>65.2</td>\n",
       "      <td>4.0900</td>\n",
       "      <td>1</td>\n",
       "      <td>296</td>\n",
       "      <td>15.3</td>\n",
       "      <td>396.90</td>\n",
       "      <td>4.98</td>\n",
       "      <td>24.0</td>\n",
       "    </tr>\n",
       "    <tr>\n",
       "      <td>1</td>\n",
       "      <td>0.02731</td>\n",
       "      <td>0.0</td>\n",
       "      <td>7.07</td>\n",
       "      <td>0</td>\n",
       "      <td>0.469</td>\n",
       "      <td>6.421</td>\n",
       "      <td>78.9</td>\n",
       "      <td>4.9671</td>\n",
       "      <td>2</td>\n",
       "      <td>242</td>\n",
       "      <td>17.8</td>\n",
       "      <td>396.90</td>\n",
       "      <td>9.14</td>\n",
       "      <td>21.6</td>\n",
       "    </tr>\n",
       "    <tr>\n",
       "      <td>2</td>\n",
       "      <td>0.02729</td>\n",
       "      <td>0.0</td>\n",
       "      <td>7.07</td>\n",
       "      <td>0</td>\n",
       "      <td>0.469</td>\n",
       "      <td>7.185</td>\n",
       "      <td>61.1</td>\n",
       "      <td>4.9671</td>\n",
       "      <td>2</td>\n",
       "      <td>242</td>\n",
       "      <td>17.8</td>\n",
       "      <td>392.83</td>\n",
       "      <td>4.03</td>\n",
       "      <td>34.7</td>\n",
       "    </tr>\n",
       "    <tr>\n",
       "      <td>3</td>\n",
       "      <td>0.03237</td>\n",
       "      <td>0.0</td>\n",
       "      <td>2.18</td>\n",
       "      <td>0</td>\n",
       "      <td>0.458</td>\n",
       "      <td>6.998</td>\n",
       "      <td>45.8</td>\n",
       "      <td>6.0622</td>\n",
       "      <td>3</td>\n",
       "      <td>222</td>\n",
       "      <td>18.7</td>\n",
       "      <td>394.63</td>\n",
       "      <td>2.94</td>\n",
       "      <td>33.4</td>\n",
       "    </tr>\n",
       "    <tr>\n",
       "      <td>4</td>\n",
       "      <td>0.06905</td>\n",
       "      <td>0.0</td>\n",
       "      <td>2.18</td>\n",
       "      <td>0</td>\n",
       "      <td>0.458</td>\n",
       "      <td>7.147</td>\n",
       "      <td>54.2</td>\n",
       "      <td>6.0622</td>\n",
       "      <td>3</td>\n",
       "      <td>222</td>\n",
       "      <td>18.7</td>\n",
       "      <td>396.90</td>\n",
       "      <td>5.33</td>\n",
       "      <td>36.2</td>\n",
       "    </tr>\n",
       "  </tbody>\n",
       "</table>\n",
       "</div>"
      ],
      "text/plain": [
       "      crim    zn  indus  chas    nox     rm   age     dis  rad  tax  ptratio  \\\n",
       "0  0.00632  18.0   2.31     0  0.538  6.575  65.2  4.0900    1  296     15.3   \n",
       "1  0.02731   0.0   7.07     0  0.469  6.421  78.9  4.9671    2  242     17.8   \n",
       "2  0.02729   0.0   7.07     0  0.469  7.185  61.1  4.9671    2  242     17.8   \n",
       "3  0.03237   0.0   2.18     0  0.458  6.998  45.8  6.0622    3  222     18.7   \n",
       "4  0.06905   0.0   2.18     0  0.458  7.147  54.2  6.0622    3  222     18.7   \n",
       "\n",
       "    black  lstat  medv  \n",
       "0  396.90   4.98  24.0  \n",
       "1  396.90   9.14  21.6  \n",
       "2  392.83   4.03  34.7  \n",
       "3  394.63   2.94  33.4  \n",
       "4  396.90   5.33  36.2  "
      ]
     },
     "execution_count": 19,
     "metadata": {},
     "output_type": "execute_result"
    }
   ],
   "source": [
    "boston_df = pd.read_csv('Boston.csv')\n",
    "#boston_df.info()\n",
    "boston_df.head()"
   ]
  },
  {
   "cell_type": "markdown",
   "metadata": {},
   "source": [
    "Append column to verify if greater than 0.5"
   ]
  },
  {
   "cell_type": "code",
   "execution_count": 20,
   "metadata": {},
   "outputs": [
    {
     "data": {
      "text/html": [
       "<div>\n",
       "<style scoped>\n",
       "    .dataframe tbody tr th:only-of-type {\n",
       "        vertical-align: middle;\n",
       "    }\n",
       "\n",
       "    .dataframe tbody tr th {\n",
       "        vertical-align: top;\n",
       "    }\n",
       "\n",
       "    .dataframe thead th {\n",
       "        text-align: right;\n",
       "    }\n",
       "</style>\n",
       "<table border=\"1\" class=\"dataframe\">\n",
       "  <thead>\n",
       "    <tr style=\"text-align: right;\">\n",
       "      <th></th>\n",
       "      <th>crim</th>\n",
       "      <th>greater_half</th>\n",
       "    </tr>\n",
       "  </thead>\n",
       "  <tbody>\n",
       "    <tr>\n",
       "      <td>10</td>\n",
       "      <td>0.22489</td>\n",
       "      <td>0</td>\n",
       "    </tr>\n",
       "    <tr>\n",
       "      <td>11</td>\n",
       "      <td>0.11747</td>\n",
       "      <td>0</td>\n",
       "    </tr>\n",
       "    <tr>\n",
       "      <td>12</td>\n",
       "      <td>0.09378</td>\n",
       "      <td>0</td>\n",
       "    </tr>\n",
       "    <tr>\n",
       "      <td>13</td>\n",
       "      <td>0.62976</td>\n",
       "      <td>1</td>\n",
       "    </tr>\n",
       "    <tr>\n",
       "      <td>14</td>\n",
       "      <td>0.63796</td>\n",
       "      <td>1</td>\n",
       "    </tr>\n",
       "  </tbody>\n",
       "</table>\n",
       "</div>"
      ],
      "text/plain": [
       "       crim greater_half\n",
       "10  0.22489            0\n",
       "11  0.11747            0\n",
       "12  0.09378            0\n",
       "13  0.62976            1\n",
       "14  0.63796            1"
      ]
     },
     "execution_count": 20,
     "metadata": {},
     "output_type": "execute_result"
    }
   ],
   "source": [
    "is_greater_than_half = []\n",
    "for i in range(0 , len(boston_df)):\n",
    "    if boston_df.loc[i, \"crim\"] >= 0.5:\n",
    "        #print(\"greater at \" ,i,\" : \", boston_df.loc[i, \"crim\"] )\n",
    "        is_greater_than_half.append(\"1\")\n",
    "    else:\n",
    "        is_greater_than_half.append(\"0\")\n",
    "\n",
    "append_column = pd.DataFrame({'greater_half': is_greater_than_half})\n",
    "new_boston = boston_df.join(append_column)\n",
    "new_boston.iloc[10:15,[0,-1]]"
   ]
  },
  {
   "cell_type": "markdown",
   "metadata": {},
   "source": [
    "Split Test and Training set"
   ]
  },
  {
   "cell_type": "code",
   "execution_count": 21,
   "metadata": {
    "scrolled": true
   },
   "outputs": [],
   "source": [
    "#split target and feature\n",
    "target_col = new_boston.greater_half\n",
    "feature_drop_target= new_boston.drop('greater_half', axis = 1) \n",
    "feature_drop_crim = feature_drop_target.drop('crim', axis = 1) \n",
    "feature_col = feature_drop_crim\n",
    "\n",
    "# print(feature_col.head())\n",
    "# print(target_col.head())\n",
    "#split train, test\n",
    "feature_train,feature_test,target_train,target_test=train_test_split(feature_col,target_col,test_size=0.2)\n"
   ]
  },
  {
   "cell_type": "markdown",
   "metadata": {},
   "source": [
    "========================================== Logistic Regression =========================================="
   ]
  },
  {
   "cell_type": "code",
   "execution_count": 22,
   "metadata": {},
   "outputs": [
    {
     "name": "stderr",
     "output_type": "stream",
     "text": [
      "/home/mavericku/anaconda3/lib/python3.7/site-packages/sklearn/linear_model/logistic.py:432: FutureWarning: Default solver will be changed to 'lbfgs' in 0.22. Specify a solver to silence this warning.\n",
      "  FutureWarning)\n"
     ]
    }
   ],
   "source": [
    "#log regression\n",
    "logreg = LogisticRegression()\n",
    "logreg.fit(feature_train, target_train)\n",
    "y_pred = logreg.predict(feature_test) \n",
    "\n",
    "# print('Accuracy of logistic regression classifier on test set: {:.2f}'.format(logreg.score(feature_test, target_test)))"
   ]
  },
  {
   "cell_type": "markdown",
   "metadata": {},
   "source": [
    "Accuracy of logistic regression classifier on test set: 0.89"
   ]
  },
  {
   "cell_type": "markdown",
   "metadata": {},
   "source": [
    "========================================== LDA =========================================="
   ]
  },
  {
   "cell_type": "code",
   "execution_count": 23,
   "metadata": {},
   "outputs": [],
   "source": [
    "lda = LDA()\n",
    "lda.fit(feature_train, target_train)\n",
    "output = lda.predict(feature_test)\n",
    "#print('Accuracy of LDA on test set: {:.2f}'.format(lda.score(feature_test, target_test)))"
   ]
  },
  {
   "cell_type": "markdown",
   "metadata": {},
   "source": [
    "Accuracy of LDA on test set: 0.93"
   ]
  },
  {
   "cell_type": "markdown",
   "metadata": {},
   "source": [
    "\n",
    "========================================== KNN ==========================================\n"
   ]
  },
  {
   "cell_type": "code",
   "execution_count": 24,
   "metadata": {},
   "outputs": [],
   "source": [
    "\n",
    "ks = [1,3,5,7,9,11,13,15]\n",
    "train_errs = []\n",
    "test_errs = []\n",
    "\n",
    "for k in ks:\n",
    "    start = time.time()\n",
    "    knn = KNN(n_neighbors=k).fit(feature_train, target_train)\n",
    "    train_err = 1 - knn.score(feature_train, target_train)\n",
    "    train_errs.append(train_err)\n",
    "    test_err = 1 - knn.score(feature_test, target_test)\n",
    "    test_errs.append(test_err)\n",
    "    end = time.time()\n",
    "    #print('k = %d, training accuracy = %f, testing accuracy = %f, runtime = %f'%(k, (1-train_err), (1-test_err), end-start))\n",
    "     \n",
    "    "
   ]
  },
  {
   "cell_type": "markdown",
   "metadata": {},
   "source": [
    "k = 1, training accuracy = 1.000000, testing accuracy = 0.911765, runtime = 0.055321 <br>\n",
    "k = 3, training accuracy = 0.972772, testing accuracy = 0.872549, runtime = 0.026159<br>\n",
    "k = 5, training accuracy = 0.960396, testing accuracy = 0.862745, runtime = 0.023613<br>\n",
    "k = 7, training accuracy = 0.955446, testing accuracy = 0.872549, runtime = 0.020938<br>\n",
    "k = 9, training accuracy = 0.940594, testing accuracy = 0.852941, runtime = 0.021631<br>\n",
    "k = 11, training accuracy = 0.925743, testing accuracy = 0.872549, runtime = 0.021542<br>\n",
    "k = 13, training accuracy = 0.915842, testing accuracy = 0.843137, runtime = 0.021641<br>\n",
    "k = 15, training accuracy = 0.913366, testing accuracy = 0.852941, runtime = 0.021738<br>"
   ]
  },
  {
   "cell_type": "code",
   "execution_count": 25,
   "metadata": {},
   "outputs": [],
   "source": [
    "train_error_mean = ( 1 -  sum(train_errs)/len(train_errs))\n",
    "# print(\"training error : \" , train_error_mean)\n",
    "teat_error_mean = ( 1 -  sum(test_errs)/len(test_errs))\n",
    "# print(\"testing error : \" ,teat_error_mean)\n"
   ]
  },
  {
   "cell_type": "markdown",
   "metadata": {},
   "source": [
    "training error :  0.948019801980198 <br>\n",
    "testing error :  0.8676470588235294\n"
   ]
  },
  {
   "cell_type": "code",
   "execution_count": 26,
   "metadata": {
    "scrolled": true
   },
   "outputs": [
    {
     "name": "stdout",
     "output_type": "stream",
     "text": [
      "Accuracy of logistic regression classifier on test set: 0.87\n",
      "Accuracy of LDA on test set: 0.91\n",
      "KNN training error :  0.9514232673267327\n",
      "KNN testing error :  0.8799019607843137\n"
     ]
    }
   ],
   "source": [
    "print('Accuracy of logistic regression classifier on test set: {:.2f}'.format(logreg.score(feature_test, target_test)))\n",
    "print('Accuracy of LDA on test set: {:.2f}'.format(lda.score(feature_test, target_test)))\n",
    "print(\"KNN training error : \" , train_error_mean)\n",
    "print(\"KNN testing error : \" ,teat_error_mean)"
   ]
  },
  {
   "cell_type": "code",
   "execution_count": 37,
   "metadata": {},
   "outputs": [
    {
     "data": {
      "image/png": "[encoded data removed]",
      "text/plain": [
       "<Figure size 720x648 with 2 Axes>"
      ]
     },
     "metadata": {
      "needs_background": "light"
     },
     "output_type": "display_data"
    }
   ],
   "source": [
    "# Attempt different predictors \n",
    "\n",
    "corrmat = new_boston.corr()\n",
    "f, ax = plt.subplots(figsize=(10, 9))\n",
    "sns.heatmap(corrmat, vmax=0.8, square=True);\n",
    "plt.savefig('hw3_heatmap.png')"
   ]
  },
  {
   "cell_type": "code",
   "execution_count": 38,
   "metadata": {
    "scrolled": true
   },
   "outputs": [
    {
     "data": {
      "image/png": "[encoded data removed]",
      "text/plain": [
       "<Figure size 432x288 with 1 Axes>"
      ]
     },
     "metadata": {
      "needs_background": "light"
     },
     "output_type": "display_data"
    }
   ],
   "source": [
    "rating_corr = new_boston[new_boston.columns[:]].corr()['crim']\n",
    "rating_corr.plot(kind = \"barh\")\n",
    "plt.savefig('hw3_q1_coeff.png')"
   ]
  },
  {
   "cell_type": "code",
   "execution_count": 36,
   "metadata": {},
   "outputs": [
    {
     "name": "stderr",
     "output_type": "stream",
     "text": [
      "/home/mavericku/anaconda3/lib/python3.7/site-packages/sklearn/linear_model/logistic.py:432: FutureWarning: Default solver will be changed to 'lbfgs' in 0.22. Specify a solver to silence this warning.\n",
      "  FutureWarning)\n"
     ]
    },
    {
     "name": "stdout",
     "output_type": "stream",
     "text": [
      "Accuracy of logistic regression classifier on test set: 0.92\n",
      "Accuracy of LDA on test set: 0.96\n",
      "testing error :  0.9375\n"
     ]
    }
   ],
   "source": [
    "\n",
    "feature_col = feature_drop_crim.drop(\"chas\",axis = 1)\n",
    "feature_col = feature_col.drop(\"zn\", axis = 1)\n",
    "feature_col = feature_col.drop(\"rm\", axis = 1)\n",
    "\n",
    "feature_train,feature_test,target_train,target_test=train_test_split(feature_col,target_col,test_size=0.2)\n",
    "#log regression\n",
    "logreg = LogisticRegression()\n",
    "logreg.fit(feature_train, target_train)\n",
    "y_pred = logreg.predict(feature_test) \n",
    "\n",
    "print('Accuracy of logistic regression classifier on test set: {:.2f}'.format(logreg.score(feature_test, target_test)))\n",
    "\n",
    "lda = LDA()\n",
    "lda.fit(feature_train, target_train)\n",
    "output = lda.predict(feature_test)\n",
    "print('Accuracy of LDA on test set: {:.2f}'.format(lda.score(feature_test, target_test)))\n",
    "\n",
    "ks = [1,3,5,7,9,11,13,15]\n",
    "train_errs = []\n",
    "test_errs = []\n",
    "\n",
    "for k in ks:\n",
    "    start = time.time()\n",
    "    knn = KNN(n_neighbors=k).fit(feature_train, target_train)\n",
    "    train_err = 1 - knn.score(feature_train, target_train)\n",
    "    train_errs.append(train_err)\n",
    "    test_err = 1 - knn.score(feature_test, target_test)\n",
    "    test_errs.append(test_err)\n",
    "    end = time.time()\n",
    "    #print('k = %d, training accuracy = %f, testing accuracy = %f, runtime = %f'%(k, (1-train_err), (1-test_err), end-start))\n",
    "     \n",
    "train_error_mean = ( 1 -  sum(train_errs)/len(train_errs))\n",
    "# print(\"training error : \" , train_error_mean)\n",
    "teat_error_mean = ( 1 -  sum(test_errs)/len(test_errs))\n",
    "print(\"testing error : \" ,teat_error_mean)\n"
   ]
  }
 ],
 "metadata": {
  "kernelspec": {
   "display_name": "Python 3",
   "language": "python",
   "name": "python3"
  },
  "language_info": {
   "codemirror_mode": {
    "name": "ipython",
    "version": 3
   },
   "file_extension": ".py",
   "mimetype": "text/x-python",
   "name": "python",
   "nbconvert_exporter": "python",
   "pygments_lexer": "ipython3",
   "version": "3.7.4"
  }
 },
 "nbformat": 4,
 "nbformat_minor": 2
}
