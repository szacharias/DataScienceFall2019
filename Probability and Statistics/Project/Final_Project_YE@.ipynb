{
 "cells": [
  {
   "cell_type": "code",
   "execution_count": 1,
   "metadata": {},
   "outputs": [],
   "source": [
    "import scipy.io as scio\n",
    "import numpy as np \n",
    "from scipy import stats\n",
    "\n",
    "#Getting data\n",
    "data = scio.loadmat('data.mat')\n",
    "#Process the data\n",
    "F1 = list(data['F1'])\n",
    "F2 = list(data['F2'])\n"
   ]
  },
  {
   "cell_type": "code",
   "execution_count": 2,
   "metadata": {},
   "outputs": [],
   "source": [
    "#step 1\n",
    "def training_data(data):\n",
    "    list6=[]\n",
    "    for j in range(100):\n",
    "        list6.append(list(data[j]))\n",
    "    return list6\n",
    "def mean_var(data):\n",
    "    list1,list2,list3,list4,list5,dic=[],[],[],[],[],{}\n",
    "    for i in range(len(data)):\n",
    "        list1.append(data[i][0])\n",
    "        list2.append(data[i][1])\n",
    "        list3.append(data[i][2])\n",
    "        list4.append(data[i][3])\n",
    "        list5.append(data[i][4])\n",
    "    dic['m1'] = np.mean(list1)\n",
    "    dic['m2'] = np.mean(list2)\n",
    "    dic['m3'] = np.mean(list3)\n",
    "    dic['m4'] = np.mean(list4)\n",
    "    dic['m5'] = np.mean(list5)\n",
    "    dic['var1'] = np.var(list1)\n",
    "    dic['var2'] = np.var(list2)\n",
    "    dic['var3'] = np.var(list3)\n",
    "    dic['var4'] = np.var(list4)\n",
    "    dic['var5'] = np.var(list5)\n",
    "    return dic\n",
    "def result(data,meas):\n",
    "    if meas == 'F1':\n",
    "        j = 1\n",
    "        print('F1:\\n')\n",
    "    elif meas == 'F2':\n",
    "        j = 2\n",
    "        print('F2:\\n')\n",
    "    else: pass\n",
    "    for i in range(1,6):\n",
    "        print('m'+str(j)+str(i)+' = '+ str(data['m'+str(i)]))\n",
    "        print('var'+str(j)+str(i)+' = '+ str(data['var'+str(i)]))\n",
    "#         print('normal distribution: '+str(stats.norm.pdf(x, (data['m'+str(i)], sigma),np.sqrt(data['var'+str(i)])))+'\\n')\n"
   ]
  },
  {
   "cell_type": "code",
   "execution_count": 3,
   "metadata": {},
   "outputs": [
    {
     "name": "stdout",
     "output_type": "stream",
     "text": [
      "F1:\n",
      "\n",
      "m11 = 7.093276745822095\n",
      "var11 = 4.242083092666572\n",
      "m12 = 9.144547521590674\n",
      "var12 = 5.264687407441236\n",
      "m13 = 4.287691491993289\n",
      "var13 = 5.087568385990322\n",
      "m14 = 13.33749006747352\n",
      "var14 = 3.760788754269051\n",
      "m15 = 11.24185889702683\n",
      "var15 = 4.022309590554696\n",
      "F2:\n",
      "\n",
      "m21 = 0.9437745580004682\n",
      "var21 = 0.71920000947922\n",
      "m22 = 4.97942762175956\n",
      "var22 = 1.3795600340845644\n",
      "m23 = 1.8343812239039996\n",
      "var23 = 1.0659821430276346\n",
      "m24 = 3.0140986679897996\n",
      "var24 = 0.27699546926623164\n",
      "m25 = 1.0249099445406251\n",
      "var25 = 0.4612314887016689\n"
     ]
    }
   ],
   "source": [
    "F1_100 = training_data(F1)\n",
    "step1_F1 = mean_var(F1_100)\n",
    "result(step1_F1,'F1')\n",
    "F2_100 = training_data(F2)\n",
    "step1_F2 = mean_var(F2_100)\n",
    "result(step1_F2,'F2')\n",
    "# step1_F1"
   ]
  },
  {
   "cell_type": "code",
   "execution_count": 15,
   "metadata": {},
   "outputs": [],
   "source": [
    "#step 2.1\n",
    "def testing_data(data):\n",
    "    list7=[]\n",
    "    for i in range(100,1000):\n",
    "        list7.append(list(data[i]))\n",
    "    return list7\n",
    "#拿取data from100-1000，data填写F1或者F2之类的"
   ]
  },
  {
   "cell_type": "code",
   "execution_count": 20,
   "metadata": {},
   "outputs": [],
   "source": [
    "#getting prediction\n",
    "def prediction(data, mean_var):\n",
    "    pro = []\n",
    "    for k in range(1,6):\n",
    "        pro.append(stats.norm.pdf(data, mean_var['m'+str(k)], np.sqrt(mean_var['var'+str(k)])))\n",
    "            #stats.norm.pdf（X,mean,stander deviation）\n",
    "    prediction = np.argmax(pro)+1\n",
    "    return prediction\n",
    "# data是每次输入的单一数据点\n",
    "# mean_var是给X的东西，里面是F1或F2的mean和var，我这里是一个dictionary"
   ]
  },
  {
   "cell_type": "code",
   "execution_count": 25,
   "metadata": {},
   "outputs": [
    {
     "name": "stdout",
     "output_type": "stream",
     "text": [
      "Classification accuracy = 0.53\n",
      "Error rate = 0.47\n"
     ]
    }
   ],
   "source": [
    "#step 2.2\n",
    "test_F1 = testing_data(F1)\n",
    "#test_F1是截取下来的101-1000的data，是一个大list包着900个小list\n",
    "orignal = []\n",
    "pred = []\n",
    "for i in range(900):\n",
    "    data1 = test_F1[i]\n",
    "    for j in range(5):\n",
    "        orignal.append(j+1)\n",
    "        data2 = data1[j]\n",
    "        pred.append(prediction(data2,step1_F1))\n",
    "        #step1_F1是我的F1的mean和var\n",
    "right = 0\n",
    "for num in range(len(pred)):\n",
    "    if pred[num] == orignal[num]:\n",
    "        right = right + 1\n",
    "acc = right / 4500\n",
    "err = (4500-right) / 4500\n",
    "print('Classification accuracy = '+str(acc))\n",
    "print('Error rate = '+str(err))"
   ]
  },
  {
   "cell_type": "code",
   "execution_count": 7,
   "metadata": {},
   "outputs": [],
   "source": [
    "#step 3\n"
   ]
  },
  {
   "cell_type": "code",
   "execution_count": 8,
   "metadata": {},
   "outputs": [],
   "source": [
    "#step 4\n"
   ]
  },
  {
   "cell_type": "code",
   "execution_count": 27,
   "metadata": {},
   "outputs": [
    {
     "name": "stdout",
     "output_type": "stream",
     "text": [
      "Classification accuracy = 0.5516\n",
      "Error rate = 0.4484\n"
     ]
    }
   ],
   "source": [
    "#case 3 ：X = F2\n",
    "test_F2 = testing_data(F2)\n",
    "orignal = []\n",
    "pred = []\n",
    "for i in range(900):\n",
    "    data1 = test_F2[i]\n",
    "    for j in range(5):\n",
    "        orignal.append(j+1)\n",
    "        data2 = data1[j]\n",
    "        pred.append(prediction(data2,step1_F2))\n",
    "\n",
    "right = 0\n",
    "for num in range(len(pred)):\n",
    "    if pred[num] == orignal[num]:\n",
    "        right = right + 1\n",
    "acc = right / 4500\n",
    "err = (4500-right) / 4500\n",
    "print('Classification accuracy = '+str(round(acc,4)))\n",
    "print('Error rate = '+str(round(err,4)))"
   ]
  },
  {
   "cell_type": "code",
   "execution_count": 9,
   "metadata": {},
   "outputs": [],
   "source": [
    "#step 5\n"
   ]
  },
  {
   "cell_type": "code",
   "execution_count": null,
   "metadata": {},
   "outputs": [],
   "source": []
  }
 ],
 "metadata": {
  "kernelspec": {
   "display_name": "Python 3",
   "language": "python",
   "name": "python3"
  },
  "language_info": {
   "codemirror_mode": {
    "name": "ipython",
    "version": 3
   },
   "file_extension": ".py",
   "mimetype": "text/x-python",
   "name": "python",
   "nbconvert_exporter": "python",
   "pygments_lexer": "ipython3",
   "version": "3.7.4"
  }
 },
 "nbformat": 4,
 "nbformat_minor": 2
}
