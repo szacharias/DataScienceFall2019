{
 "cells": [
  {
   "cell_type": "code",
   "execution_count": 1,
   "metadata": {},
   "outputs": [],
   "source": [
    "import pandas as pd\n",
    "import numpy as np\n",
    "import matplotlib.pyplot as plt\n",
    "import matplotlib.cm as cm\n",
    "\n",
    "import scipy.io\n",
    "from scipy import stats\n",
    "from sklearn.naive_bayes import MultinomialNB"
   ]
  },
  {
   "cell_type": "code",
   "execution_count": 2,
   "metadata": {},
   "outputs": [],
   "source": [
    "mat = scipy.io.loadmat('data.mat')"
   ]
  },
  {
   "cell_type": "code",
   "execution_count": 3,
   "metadata": {},
   "outputs": [
    {
     "data": {
      "text/plain": [
       "{'__header__': b'MATLAB 5.0 MAT-file, Platform: PCWIN64, Created on: Wed Dec  5 18:00:48 2018',\n",
       " '__version__': '1.0',\n",
       " '__globals__': [],\n",
       " 'F1': array([[ 7.90543045,  9.03548961,  4.53489091, 14.16683497, 11.88347036],\n",
       "        [ 6.60370731, 10.29896573,  1.99880063, 12.68755326, 10.39232245],\n",
       "        [ 6.10896036,  7.10180666,  3.6290366 , 12.60627281, 12.20593245],\n",
       "        ...,\n",
       "        [ 5.51959563,  8.05812131,  3.20857723, 12.48202388, 11.01627179],\n",
       "        [ 9.37874365, 10.00443538,  8.05460477, 14.75110443, 13.04608571],\n",
       "        [ 3.1119946 ,  5.33038517, -0.76241982, 10.70181844,  6.50224691]]),\n",
       " 'F2': array([[1.15552173, 5.97631978, 1.16612037, 3.40406767, 1.21352697],\n",
       "        [1.39738885, 6.12634738, 2.70301481, 3.19363103, 0.44655667],\n",
       "        [1.64427344, 4.05758523, 1.85129124, 2.4391763 , 0.51799572],\n",
       "        ...,\n",
       "        [1.77629716, 6.43822583, 1.76304902, 2.44898151, 0.82978268],\n",
       "        [1.82399817, 5.27738683, 1.37666548, 2.73968526, 0.10886404],\n",
       "        [1.32098527, 4.73801579, 1.7968828 , 3.08891109, 1.34318218]])}"
      ]
     },
     "execution_count": 3,
     "metadata": {},
     "output_type": "execute_result"
    }
   ],
   "source": [
    "mat"
   ]
  },
  {
   "cell_type": "markdown",
   "metadata": {},
   "source": [
    "--- \n",
    " ## Step 1"
   ]
  },
  {
   "cell_type": "code",
   "execution_count": 72,
   "metadata": {},
   "outputs": [
    {
     "name": "stdout",
     "output_type": "stream",
     "text": [
      "[ 7.90543045  9.03548961  4.53489091 14.16683497 11.88347036]\n",
      "[ 6.60370731 10.29896573  1.99880063 12.68755326 10.39232245]\n",
      "[ 6.10896036  7.10180666  3.6290366  12.60627281 12.20593245]\n"
     ]
    }
   ],
   "source": [
    "for i in mat[\"F1\"][0:3]:\n",
    "    print(i)"
   ]
  },
  {
   "cell_type": "code",
   "execution_count": 73,
   "metadata": {},
   "outputs": [],
   "source": [
    "average_var = []\n",
    "average_mean = []\n",
    "#calculate columns\n",
    "for i in range(0,5):\n",
    "    F1 = np.array(mat[\"F1\"][0:100,[i]])\n",
    "    var_f1 = np.var(F1)\n",
    "    mean_f1 = np.mean(F1)\n",
    "#     print(\"F1\",F1,i)\n",
    "    average_var.append(var_f1)\n",
    "    average_mean.append(mean_f1)"
   ]
  },
  {
   "cell_type": "code",
   "execution_count": 74,
   "metadata": {},
   "outputs": [
    {
     "data": {
      "text/plain": [
       "[4.242083092666572,\n",
       " 5.264687407441236,\n",
       " 5.087568385990322,\n",
       " 3.760788754269051,\n",
       " 4.022309590554696]"
      ]
     },
     "execution_count": 74,
     "metadata": {},
     "output_type": "execute_result"
    }
   ],
   "source": [
    "average_var"
   ]
  },
  {
   "cell_type": "code",
   "execution_count": 75,
   "metadata": {},
   "outputs": [
    {
     "data": {
      "text/plain": [
       "[7.093276745822095,\n",
       " 9.144547521590674,\n",
       " 4.287691491993289,\n",
       " 13.33749006747352,\n",
       " 11.24185889702683]"
      ]
     },
     "execution_count": 75,
     "metadata": {},
     "output_type": "execute_result"
    }
   ],
   "source": [
    "average_mean"
   ]
  },
  {
   "cell_type": "markdown",
   "metadata": {},
   "source": [
    "---"
   ]
  },
  {
   "cell_type": "code",
   "execution_count": 8,
   "metadata": {},
   "outputs": [],
   "source": [
    "average_var_F2 = []\n",
    "average_mean_F2 = []\n",
    "#calculate columns\n",
    "for i in range(0,5):\n",
    "    F1 = np.array(mat[\"F2\"][0:100][i]) \n",
    "    var_f1 = np.var(F1)\n",
    "    mean_f1 = np.mean(F1)\n",
    "    average_var_F2.append(var_f1)\n",
    "    average_mean_F2.append(mean_f1)"
   ]
  },
  {
   "cell_type": "code",
   "execution_count": 9,
   "metadata": {},
   "outputs": [
    {
     "data": {
      "text/plain": [
       "[3.6218939273527773,\n",
       " 3.7462821806188096,\n",
       " 1.3438878911217302,\n",
       " 3.6615895883001244,\n",
       " 0.981498148244045]"
      ]
     },
     "execution_count": 9,
     "metadata": {},
     "output_type": "execute_result"
    }
   ],
   "source": [
    "average_var_F2"
   ]
  },
  {
   "cell_type": "code",
   "execution_count": 10,
   "metadata": {},
   "outputs": [
    {
     "data": {
      "text/plain": [
       "[2.583111303354113,\n",
       " 2.773387746952918,\n",
       " 2.102064386353135,\n",
       " 2.7670334010960103,\n",
       " 2.0691732772222196]"
      ]
     },
     "execution_count": 10,
     "metadata": {},
     "output_type": "execute_result"
    }
   ],
   "source": [
    "average_mean_F2"
   ]
  },
  {
   "cell_type": "markdown",
   "metadata": {},
   "source": [
    "---"
   ]
  },
  {
   "cell_type": "markdown",
   "metadata": {},
   "source": [
    "## Step 2\n",
    "Assume that 𝑋 = 𝐹1.<br>Using the Bayes' theorem, calculate theprobability of each class for data ofthe remaining subjects (columns 101-1000of 𝐹1)and consequently predict the class for each data point. <br>Note that each subjectperformed 5 differenttasks so you need to predict the class of 4500 data points."
   ]
  },
  {
   "cell_type": "code",
   "execution_count": 11,
   "metadata": {},
   "outputs": [],
   "source": [
    "F1 = np.array(mat[\"F1\"])\n",
    "F2 = np.array(mat[\"F2\"])"
   ]
  },
  {
   "cell_type": "code",
   "execution_count": 12,
   "metadata": {},
   "outputs": [],
   "source": [
    "step1_F1 = {}\n",
    "for i in range(0,5):\n",
    "    step1_F1[\"m\" + str(i+1) ] = average_mean[i]\n",
    "    step1_F1[\"var\" + str(i+1) ] = average_var[i]\n",
    "    "
   ]
  },
  {
   "cell_type": "code",
   "execution_count": 13,
   "metadata": {},
   "outputs": [],
   "source": [
    "#step 2.1\n",
    "def testing_data(data):\n",
    "    list7=[]\n",
    "    for i in range(100,1000):\n",
    "        list7.append(list(data[i]))\n",
    "    return list7\n",
    "#拿取data from100-1000，data填写F1或者F2之类的"
   ]
  },
  {
   "cell_type": "code",
   "execution_count": 14,
   "metadata": {},
   "outputs": [],
   "source": [
    "#getting prediction\n",
    "# data是單一資料\n",
    "def prediction(data, mean_var):\n",
    "    pro = []\n",
    "    for k in range(1,6):\n",
    "        pro.append(stats.norm.pdf(data, mean_var['m'+str(k)], np.sqrt(mean_var['var'+str(k)])))\n",
    "            #stats.norm.pdf（X,mean,stander deviation）\n",
    "    prediction = np.argmax(pro)+1\n",
    "    return prediction\n",
    "# data是每次输入的单一数据点\n",
    "# mean_var是给X的东西，里面是F1或F2的mean和var，我这里是一个dictionary"
   ]
  },
  {
   "cell_type": "code",
   "execution_count": 15,
   "metadata": {},
   "outputs": [
    {
     "name": "stdout",
     "output_type": "stream",
     "text": [
      "Classification accuracy = 0.53\n",
      "Error rate = 0.47\n"
     ]
    }
   ],
   "source": [
    "#step 2.2\n",
    "test_F1 = testing_data(F1)\n",
    "#test_F1是截取下来的101-1000的data，是一个大list包着900个小list\n",
    "orignal = []\n",
    "pred = []\n",
    "for i in range(900):\n",
    "    data1 = test_F1[i]\n",
    "    for j in range(5):\n",
    "        orignal.append(j+1)\n",
    "        data2 = data1[j]\n",
    "        pred.append(prediction(data2,step1_F1))\n",
    "        #step1_F1是我的F1的mean和var\n",
    "right = 0\n",
    "for num in range(len(pred)):\n",
    "    if pred[num] == orignal[num]:\n",
    "        right = right + 1\n",
    "acc = right / 4500\n",
    "err = (4500-right) / 4500\n",
    "print('Classification accuracy = '+str(acc))\n",
    "print('Error rate = '+str(err))"
   ]
  },
  {
   "cell_type": "code",
   "execution_count": 16,
   "metadata": {},
   "outputs": [
    {
     "data": {
      "text/plain": [
       "6.541370816037187"
      ]
     },
     "execution_count": 16,
     "metadata": {},
     "output_type": "execute_result"
    }
   ],
   "source": [
    "test_F1[1][1]"
   ]
  },
  {
   "cell_type": "code",
   "execution_count": 17,
   "metadata": {},
   "outputs": [
    {
     "data": {
      "text/plain": [
       "{'m1': 7.093276745822095,\n",
       " 'var1': 4.242083092666572,\n",
       " 'm2': 9.144547521590674,\n",
       " 'var2': 5.264687407441236,\n",
       " 'm3': 4.287691491993289,\n",
       " 'var3': 5.087568385990322,\n",
       " 'm4': 13.33749006747352,\n",
       " 'var4': 3.760788754269051,\n",
       " 'm5': 11.24185889702683,\n",
       " 'var5': 4.022309590554696}"
      ]
     },
     "execution_count": 17,
     "metadata": {},
     "output_type": "execute_result"
    }
   ],
   "source": [
    "step1_F1"
   ]
  },
  {
   "cell_type": "markdown",
   "metadata": {},
   "source": [
    "---"
   ]
  },
  {
   "cell_type": "markdown",
   "metadata": {},
   "source": [
    "## Step 3\n"
   ]
  },
  {
   "cell_type": "markdown",
   "metadata": {},
   "source": [
    "Calculate 𝑍1(the  standard  normal  of𝐹1)  \n",
    "<br>\n",
    "plot  the  distribution  of  the  data  using 𝑍1and 𝐹2\n",
    "<br>\n",
    "and compare it to the distribution in 𝐹1and 𝐹2shown on right."
   ]
  },
  {
   "cell_type": "code",
   "execution_count": 18,
   "metadata": {},
   "outputs": [],
   "source": [
    "# Fi is dataset, stepi_Fi is information of mean and variance\n",
    "def create_zi( Fi , stepi_Fi  ): \n",
    "    Zi = [] \n",
    "    \n",
    "    for i in range(0,len(F1)): \n",
    "        z_column = []\n",
    "        for j in range(0, 5): \n",
    "            average_mean = stepi_Fi[\"m\" + str(j+1)]\n",
    "            average_var = stepi_Fi[\"var\" + str(j+1)] \n",
    "            zi_c =( Fi[i,:][j]- average_mean) / average_var    \n",
    "            z_column.append(zi_c)\n",
    "        Zi.append(z_column)\n",
    "    return Zi\n",
    "Z1= create_zi(F1, step1_F1)\n",
    "# Z1 = np.transpose(Z1)"
   ]
  },
  {
   "cell_type": "code",
   "execution_count": 19,
   "metadata": {},
   "outputs": [],
   "source": [
    "# Preprocess data to it's classified value\n",
    "# 3.43543 -> 3\n",
    "def classified_z(F1,step1_F1):\n",
    "    classified_z = []\n",
    "    for i in range(0, 1000):\n",
    "        local_classified_z = []\n",
    "\n",
    "        for j in range(0,5):\n",
    "    #         print(\"j\" , j)\n",
    "    #         print(\"i\" , i) \n",
    "    #         print(F1[i][:]) \n",
    "            temp_z = prediction(F1[i][j], step1_F1) \n",
    "            local_classified_z.append(temp_z)\n",
    "        classified_z.append(local_classified_z)\n",
    "    return classified_z\n",
    "classified = classified_z(F1,step1_F1)"
   ]
  },
  {
   "cell_type": "code",
   "execution_count": 50,
   "metadata": {},
   "outputs": [
    {
     "data": {
      "image/png": "[encoded data removed]",
      "text/plain": [
       "<Figure size 432x288 with 1 Axes>"
      ]
     },
     "metadata": {
      "needs_background": "light"
     },
     "output_type": "display_data"
    }
   ],
   "source": [
    "colors = cm.rainbow(np.linspace(0, 1, 5))\n",
    "\n",
    "for i in range(0,4):\n",
    "    for j in range(0,1000):\n",
    "        if classified[j][i] == 4:\n",
    "            plt.scatter(Z1[j][i], F2[j][i], color = colors[i], marker = \",\" )#,  alpha =0.1\n",
    "        elif classified[j][i] == 3:\n",
    "            plt.scatter(Z1[j][i], F2[j][i], color = colors[i], marker = \",\" )#,  alpha =0.1\n",
    "        elif classified[j][i] == 2:  \n",
    "            plt.scatter(Z1[j][i], F2[j][i], color = colors[i], marker = \",\" )#,  alpha =0.1\n",
    "        elif classified[j][i] == 1:  \n",
    "            plt.scatter(Z1[j][i], F2[j][i], color = colors[i], marker = \",\" )#,  alpha =0.1 \n",
    "        elif classified[j][i] == 5:   \n",
    "            plt.scatter(Z1[j][i], F2[j][i], color = colors[i], marker = \",\" )#,  alpha =0.1\n",
    "\n",
    "plt.savefig(\"normalized Z1F2.png\")"
   ]
  },
  {
   "cell_type": "code",
   "execution_count": 51,
   "metadata": {},
   "outputs": [
    {
     "data": {
      "image/png": "[encoded data removed]",
      "text/plain": [
       "<Figure size 432x288 with 1 Axes>"
      ]
     },
     "metadata": {
      "needs_background": "light"
     },
     "output_type": "display_data"
    }
   ],
   "source": [
    "for i in range(0,4):\n",
    "    for j in range(0,1000):\n",
    "        if classified[j][i] == 4:\n",
    "            plt.scatter(Z1[j][i], F2[j][i], c = \"tab:orange\", marker = \",\" )#,  alpha =0.1\n",
    "        elif classified[j][i] == 3:\n",
    "            plt.scatter(Z1[j][i], F2[j][i], c = \"tab:grey\",   marker = \",\" )#,  alpha =0.1\n",
    "        elif classified[j][i] == 2:  \n",
    "            plt.scatter(Z1[j][i], F2[j][i], c = \"tab:red\",    marker = \",\" )#,  alpha =0.1\n",
    "        elif classified[j][i] == 1:  \n",
    "            plt.scatter(Z1[j][i], F2[j][i], c = \"tab:green\",  marker = \",\" )#,  alpha =0.1 \n",
    "        elif classified[j][i] == 5:   \n",
    "            plt.scatter(Z1[j][i], F2[j][i], c = \"tab:blue\",   marker = \",\" )#,  alpha =0.1\n",
    "\n",
    "plt.savefig(\"normalized Z1F2_tab.png\")"
   ]
  },
  {
   "cell_type": "markdown",
   "metadata": {},
   "source": [
    "---"
   ]
  },
  {
   "cell_type": "markdown",
   "metadata": {},
   "source": [
    "## Step 4.1"
   ]
  },
  {
   "cell_type": "code",
   "execution_count": null,
   "metadata": {},
   "outputs": [],
   "source": [
    "# #getting prediction\n",
    "# # data是單一資料\n",
    "# def prediction(data, mean_var):\n",
    "#     pro = []\n",
    "#     for k in range(1,6):\n",
    "#         pro.append(stats.norm.pdf(data, mean_var['m'+str(k)], np.sqrt(mean_var['var'+str(k)])))\n",
    "#             #stats.norm.pdf（X,mean,stander deviation）\n",
    "#     prediction = np.argmax(pro)+1\n",
    "#     return prediction\n",
    "# # data是每次输入的单一数据点\n",
    "# # mean_var是给X的东西，里面是F1或F2的mean和var，我这里是一个dictionary"
   ]
  },
  {
   "cell_type": "code",
   "execution_count": 61,
   "metadata": {},
   "outputs": [
    {
     "data": {
      "text/plain": [
       "[0.253138293396506,\n",
       " 0.17999038226147424,\n",
       " 0.19193840566723777,\n",
       " 0.29664454992098727,\n",
       " 0.26207702373693725]"
      ]
     },
     "execution_count": 61,
     "metadata": {},
     "output_type": "execute_result"
    }
   ],
   "source": [
    "average_var_Z1"
   ]
  },
  {
   "cell_type": "code",
   "execution_count": 62,
   "metadata": {},
   "outputs": [
    {
     "data": {
      "text/plain": [
       "[0.000770483787765126,\n",
       " -0.018535038585591572,\n",
       " -0.042494826874893976,\n",
       " -0.05974375810143973,\n",
       " -0.034002989290916476]"
      ]
     },
     "execution_count": 62,
     "metadata": {},
     "output_type": "execute_result"
    }
   ],
   "source": [
    "average_mean_Z1"
   ]
  },
  {
   "cell_type": "code",
   "execution_count": null,
   "metadata": {},
   "outputs": [],
   "source": []
  },
  {
   "cell_type": "code",
   "execution_count": 70,
   "metadata": {},
   "outputs": [],
   "source": [
    "#case 2: X = Z1\n",
    "#repeat train step\n",
    "average_var_Z1 = []\n",
    "average_mean_Z1 = []\n",
    "#calculate columns\n",
    "for i in range(0,5):\n",
    "    Z1_ = np.array(np.array(Z1)[0:100,[i]]) \n",
    "    var_f1 = np.var(Z1_)\n",
    "    mean_f1 = np.mean(Z1_)\n",
    "    average_var_Z1.append(var_f1)\n",
    "    average_mean_Z1.append(mean_f1)\n",
    "step1_Z1 = {}\n",
    "for i in range(0,5):\n",
    "    step1_Z1[\"m\" + str(i+1) ] = average_mean_Z1[i]\n",
    "    step1_Z1[\"var\" + str(i+1) ] = average_var_Z1[i]\n"
   ]
  },
  {
   "cell_type": "code",
   "execution_count": 71,
   "metadata": {},
   "outputs": [
    {
     "name": "stdout",
     "output_type": "stream",
     "text": [
      "Classification accuracy = 0.228\n",
      "Error rate = 0.772\n"
     ]
    }
   ],
   "source": [
    "#test for Case 2\n",
    "test_Z1 = testing_data(Z1)\n",
    "orignalZ1 = []\n",
    "predZ1 = []\n",
    "for i in range(900):\n",
    "    data1 = test_Z1[i]\n",
    "    for j in range(5):\n",
    "        orignalZ1.append(j+1)\n",
    "        data2 = data1[j]\n",
    "        predZ1.append(prediction(data2,step1_Z1)) \n",
    "right = 0\n",
    "for num in range(len(predZ1)):\n",
    "    if predZ1[num] == orignalZ1[num]:\n",
    "        right = right + 1\n",
    "acc = right / 4500\n",
    "err = (4500-right) / 4500\n",
    "print('Classification accuracy = '+str(round(acc,4)))\n",
    "print('Error rate = '+str(round(err,4)))"
   ]
  },
  {
   "cell_type": "code",
   "execution_count": null,
   "metadata": {},
   "outputs": [],
   "source": []
  }
 ],
 "metadata": {
  "kernelspec": {
   "display_name": "Python 3",
   "language": "python",
   "name": "python3"
  },
  "language_info": {
   "codemirror_mode": {
    "name": "ipython",
    "version": 3
   },
   "file_extension": ".py",
   "mimetype": "text/x-python",
   "name": "python",
   "nbconvert_exporter": "python",
   "pygments_lexer": "ipython3",
   "version": "3.7.4"
  }
 },
 "nbformat": 4,
 "nbformat_minor": 4
}
